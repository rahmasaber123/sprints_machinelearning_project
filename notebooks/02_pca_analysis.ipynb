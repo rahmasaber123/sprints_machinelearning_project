{
 "cells": [
  {
   "cell_type": "markdown",
   "id": "71e65191",
   "metadata": {},
   "source": [
    "### **2.2 Dimensionality Reduction - PCA (Principal Component Analysis)**\n",
    "Steps:\n",
    "1. Apply PCA to reduce feature dimensionality while maintaining variance.\n",
    "2. Determine the optimal number of principal components using the explained variance ratio.\n",
    "3. Visualize PCA results using a scatter plot and cumulative variance plot.\n",
    "\n",
    "Deliverable:\n",
    "- PCA-transformed dataset\n",
    "- Graph showing variance retained per component"
   ]
  },
  {
   "cell_type": "markdown",
   "id": "6266789b",
   "metadata": {},
   "source": [
    "#### **Step 1: Apply PCA**\n",
    "\n",
    "We’ll apply PCA on your standardized numerical features."
   ]
  },
  {
   "cell_type": "code",
   "execution_count": 82,
   "id": "4c98dd86",
   "metadata": {},
   "outputs": [
    {
     "data": {
      "text/html": [
       "<div>\n",
       "<style scoped>\n",
       "    .dataframe tbody tr th:only-of-type {\n",
       "        vertical-align: middle;\n",
       "    }\n",
       "\n",
       "    .dataframe tbody tr th {\n",
       "        vertical-align: top;\n",
       "    }\n",
       "\n",
       "    .dataframe thead th {\n",
       "        text-align: right;\n",
       "    }\n",
       "</style>\n",
       "<table border=\"1\" class=\"dataframe\">\n",
       "  <thead>\n",
       "    <tr style=\"text-align: right;\">\n",
       "      <th></th>\n",
       "      <th>PC1</th>\n",
       "      <th>PC2</th>\n",
       "      <th>PC3</th>\n",
       "      <th>PC4</th>\n",
       "      <th>PC5</th>\n",
       "    </tr>\n",
       "  </thead>\n",
       "  <tbody>\n",
       "    <tr>\n",
       "      <th>0</th>\n",
       "      <td>1.264242</td>\n",
       "      <td>-0.091594</td>\n",
       "      <td>0.777920</td>\n",
       "      <td>0.091672</td>\n",
       "      <td>0.711645</td>\n",
       "    </tr>\n",
       "    <tr>\n",
       "      <th>1</th>\n",
       "      <td>2.694890</td>\n",
       "      <td>0.363379</td>\n",
       "      <td>0.052324</td>\n",
       "      <td>-0.671431</td>\n",
       "      <td>-0.860806</td>\n",
       "    </tr>\n",
       "    <tr>\n",
       "      <th>2</th>\n",
       "      <td>1.538935</td>\n",
       "      <td>-1.227560</td>\n",
       "      <td>-0.525348</td>\n",
       "      <td>0.063151</td>\n",
       "      <td>0.984175</td>\n",
       "    </tr>\n",
       "    <tr>\n",
       "      <th>3</th>\n",
       "      <td>-0.954388</td>\n",
       "      <td>-0.108667</td>\n",
       "      <td>1.234460</td>\n",
       "      <td>2.862250</td>\n",
       "      <td>0.543482</td>\n",
       "    </tr>\n",
       "    <tr>\n",
       "      <th>4</th>\n",
       "      <td>-1.431709</td>\n",
       "      <td>-0.403985</td>\n",
       "      <td>1.012778</td>\n",
       "      <td>0.853656</td>\n",
       "      <td>-0.007242</td>\n",
       "    </tr>\n",
       "  </tbody>\n",
       "</table>\n",
       "</div>"
      ],
      "text/plain": [
       "        PC1       PC2       PC3       PC4       PC5\n",
       "0  1.264242 -0.091594  0.777920  0.091672  0.711645\n",
       "1  2.694890  0.363379  0.052324 -0.671431 -0.860806\n",
       "2  1.538935 -1.227560 -0.525348  0.063151  0.984175\n",
       "3 -0.954388 -0.108667  1.234460  2.862250  0.543482\n",
       "4 -1.431709 -0.403985  1.012778  0.853656 -0.007242"
      ]
     },
     "execution_count": 82,
     "metadata": {},
     "output_type": "execute_result"
    }
   ],
   "source": [
    "# Apply PCA\n",
    "pca = PCA()\n",
    "X_pca = pca.fit_transform(X_nscaled_df)\n",
    "\n",
    "# Create a DataFrame for PCA-transformed dataset\n",
    "pca_df = pd.DataFrame(\n",
    "    X_pca,\n",
    "    columns=[f'PC{i+1}' for i in range(X_pca.shape[1])]\n",
    ")\n",
    "\n",
    "pca_df.head()"
   ]
  },
  {
   "cell_type": "markdown",
   "id": "64359b79",
   "metadata": {},
   "source": [
    "#### **Step 2: Explained & cumulative Variance Ratio**\n",
    "\n",
    "This tells us how much variance each component retains and what the optimal number of principal components is."
   ]
  },
  {
   "cell_type": "code",
   "execution_count": 83,
   "id": "d8ea56cb",
   "metadata": {},
   "outputs": [
    {
     "name": "stdout",
     "output_type": "stream",
     "text": [
      "Optimal number of principal components: 5\n"
     ]
    },
    {
     "data": {
      "text/html": [
       "<div>\n",
       "<style scoped>\n",
       "    .dataframe tbody tr th:only-of-type {\n",
       "        vertical-align: middle;\n",
       "    }\n",
       "\n",
       "    .dataframe tbody tr th {\n",
       "        vertical-align: top;\n",
       "    }\n",
       "\n",
       "    .dataframe thead th {\n",
       "        text-align: right;\n",
       "    }\n",
       "</style>\n",
       "<table border=\"1\" class=\"dataframe\">\n",
       "  <thead>\n",
       "    <tr style=\"text-align: right;\">\n",
       "      <th></th>\n",
       "      <th>Principal Component</th>\n",
       "      <th>Explained Variance</th>\n",
       "      <th>Cumulative Variance</th>\n",
       "    </tr>\n",
       "  </thead>\n",
       "  <tbody>\n",
       "    <tr>\n",
       "      <th>0</th>\n",
       "      <td>PC1</td>\n",
       "      <td>0.359439</td>\n",
       "      <td>0.359439</td>\n",
       "    </tr>\n",
       "    <tr>\n",
       "      <th>1</th>\n",
       "      <td>PC2</td>\n",
       "      <td>0.218241</td>\n",
       "      <td>0.577680</td>\n",
       "    </tr>\n",
       "    <tr>\n",
       "      <th>2</th>\n",
       "      <td>PC3</td>\n",
       "      <td>0.174924</td>\n",
       "      <td>0.752604</td>\n",
       "    </tr>\n",
       "    <tr>\n",
       "      <th>3</th>\n",
       "      <td>PC4</td>\n",
       "      <td>0.152548</td>\n",
       "      <td>0.905152</td>\n",
       "    </tr>\n",
       "    <tr>\n",
       "      <th>4</th>\n",
       "      <td>PC5</td>\n",
       "      <td>0.094848</td>\n",
       "      <td>1.000000</td>\n",
       "    </tr>\n",
       "  </tbody>\n",
       "</table>\n",
       "</div>"
      ],
      "text/plain": [
       "  Principal Component  Explained Variance  Cumulative Variance\n",
       "0                 PC1            0.359439             0.359439\n",
       "1                 PC2            0.218241             0.577680\n",
       "2                 PC3            0.174924             0.752604\n",
       "3                 PC4            0.152548             0.905152\n",
       "4                 PC5            0.094848             1.000000"
      ]
     },
     "execution_count": 83,
     "metadata": {},
     "output_type": "execute_result"
    }
   ],
   "source": [
    "explained_var_ratio = pca.explained_variance_ratio_\n",
    "cumulative_var_ratio = explained_var_ratio.cumsum()\n",
    "\n",
    "# Set desired threshold for cumulative variance\n",
    "threshold = 0.95\n",
    "\n",
    "# Find the number of components needed to reach this threshold\n",
    "optimal_pc = np.argmax(cumulative_var_ratio >= threshold) + 1\n",
    "\n",
    "print(f\"Optimal number of principal components: {optimal_pc}\")\n",
    "\n",
    "# Display ratios\n",
    "pd.DataFrame({\n",
    "    \"Principal Component\": [f\"PC{i+1}\" for i in range(len(explained_var_ratio))],\n",
    "    \"Explained Variance\": explained_var_ratio,\n",
    "    \"Cumulative Variance\": cumulative_var_ratio\n",
    "})"
   ]
  },
  {
   "cell_type": "markdown",
   "id": "3b947648",
   "metadata": {},
   "source": [
    "We found that the optimal number of principal components is 5. Because there were only 5 original numerical features, no dimensionality reduction was achieved."
   ]
  },
  {
   "cell_type": "markdown",
   "id": "6228426f",
   "metadata": {},
   "source": [
    "#### **Step 3: Visualization**\n",
    "\n",
    "We’ll plot both individual variance per PC and cumulative variance."
   ]
  },
  {
   "cell_type": "code",
   "execution_count": 84,
   "id": "387a73ef",
   "metadata": {},
   "outputs": [
    {
     "data": {
      "image/png": "[encoded data removed]",
      "text/plain": [
       "<Figure size 1000x600 with 1 Axes>"
      ]
     },
     "metadata": {},
     "output_type": "display_data"
    }
   ],
   "source": [
    "plt.figure(figsize=(10, 6))\n",
    "\n",
    "# Individual variance\n",
    "plt.bar(\n",
    "    range(1, len(explained_var_ratio) + 1),\n",
    "    explained_var_ratio,\n",
    "    alpha=0.8,\n",
    "    color=PRIMARY_COLOR,\n",
    "    edgecolor=EDGE_COLOR,\n",
    "    label=\"Individual Explained Variance\"\n",
    ")\n",
    "\n",
    "# Cumulative variance\n",
    "plt.step(\n",
    "    range(1, len(cumulative_var_ratio) + 1),\n",
    "    cumulative_var_ratio,\n",
    "    where='mid',\n",
    "    color=GRID_TEXT_COLOR,\n",
    "    linewidth=2,\n",
    "    label=\"Cumulative Explained Variance\"\n",
    ")\n",
    "\n",
    "plt.xlabel(\"Principal Components\", fontsize=12)\n",
    "plt.ylabel(\"Explained Variance Ratio\", fontsize=12)\n",
    "plt.title(\"PCA - Explained Variance\", fontsize=14)\n",
    "plt.legend()\n",
    "plt.grid(alpha=0.3)\n",
    "\n",
    "plt.tight_layout()\n",
    "plt.show()"
   ]
  },
  {
   "cell_type": "markdown",
   "id": "fb663911",
   "metadata": {},
   "source": [
    "#### **Step 4: Scatter Plot (First 2 PCs)**\n",
    "\n",
    "For visualization in 2D:"
   ]
  },
  {
   "cell_type": "code",
   "execution_count": 85,
   "id": "e0f7301a",
   "metadata": {},
   "outputs": [
    {
     "data": {
      "application/vnd.plotly.v1+json": {
       "config": {
        "plotlyServerURL": "https://plot.ly"
       },
       "data": [
        {
         "hovertemplate": "PC1=%{x}<br>PC2=%{y}<extra></extra>",
         "legendgroup": "",
         "marker": {
          "color": "#1f77b4",
          "line": {
           "color": "#1F1F1F",
           "width": 1
          },
          "size": 8,
          "symbol": "circle"
         },
         "mode": "markers",
         "name": "",
         "orientation": "v",
         "showlegend": false,
         "type": "scatter",
         "x": {
          "bdata": "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",
          "dtype": "f8"
         },
         "xaxis": "x",
         "y": {
          "bdata": "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",
          "dtype": "f8"
         },
         "yaxis": "y"
        }
       ],
       "layout": {
        "font": {
         "color": "#878787",
         "size": 12
        },
        "legend": {
         "tracegroupgap": 0
        },
        "paper_bgcolor": "#1F1F1F",
        "plot_bgcolor": "#1F1F1F",
        "template": {
         "data": {
          "bar": [
           {
            "error_x": {
             "color": "#2a3f5f"
            },
            "error_y": {
             "color": "#2a3f5f"
            },
            "marker": {
             "line": {
              "color": "#E5ECF6",
              "width": 0.5
             },
             "pattern": {
              "fillmode": "overlay",
              "size": 10,
              "solidity": 0.2
             }
            },
            "type": "bar"
           }
          ],
          "barpolar": [
           {
            "marker": {
             "line": {
              "color": "#E5ECF6",
              "width": 0.5
             },
             "pattern": {
              "fillmode": "overlay",
              "size": 10,
              "solidity": 0.2
             }
            },
            "type": "barpolar"
           }
          ],
          "carpet": [
           {
            "aaxis": {
             "endlinecolor": "#2a3f5f",
             "gridcolor": "white",
             "linecolor": "white",
             "minorgridcolor": "white",
             "startlinecolor": "#2a3f5f"
            },
            "baxis": {
             "endlinecolor": "#2a3f5f",
             "gridcolor": "white",
             "linecolor": "white",
             "minorgridcolor": "white",
             "startlinecolor": "#2a3f5f"
            },
            "type": "carpet"
           }
          ],
          "choropleth": [
           {
            "colorbar": {
             "outlinewidth": 0,
             "ticks": ""
            },
            "type": "choropleth"
           }
          ],
          "contour": [
           {
            "colorbar": {
             "outlinewidth": 0,
             "ticks": ""
            },
            "colorscale": [
             [
              0,
              "#0d0887"
             ],
             [
              0.1111111111111111,
              "#46039f"
             ],
             [
              0.2222222222222222,
              "#7201a8"
             ],
             [
              0.3333333333333333,
              "#9c179e"
             ],
             [
              0.4444444444444444,
              "#bd3786"
             ],
             [
              0.5555555555555556,
              "#d8576b"
             ],
             [
              0.6666666666666666,
              "#ed7953"
             ],
             [
              0.7777777777777778,
              "#fb9f3a"
             ],
             [
              0.8888888888888888,
              "#fdca26"
             ],
             [
              1,
              "#f0f921"
             ]
            ],
            "type": "contour"
           }
          ],
          "contourcarpet": [
           {
            "colorbar": {
             "outlinewidth": 0,
             "ticks": ""
            },
            "type": "contourcarpet"
           }
          ],
          "heatmap": [
           {
            "colorbar": {
             "outlinewidth": 0,
             "ticks": ""
            },
            "colorscale": [
             [
              0,
              "#0d0887"
             ],
             [
              0.1111111111111111,
              "#46039f"
             ],
             [
              0.2222222222222222,
              "#7201a8"
             ],
             [
              0.3333333333333333,
              "#9c179e"
             ],
             [
              0.4444444444444444,
              "#bd3786"
             ],
             [
              0.5555555555555556,
              "#d8576b"
             ],
             [
              0.6666666666666666,
              "#ed7953"
             ],
             [
              0.7777777777777778,
              "#fb9f3a"
             ],
             [
              0.8888888888888888,
              "#fdca26"
             ],
             [
              1,
              "#f0f921"
             ]
            ],
            "type": "heatmap"
           }
          ],
          "histogram": [
           {
            "marker": {
             "pattern": {
              "fillmode": "overlay",
              "size": 10,
              "solidity": 0.2
             }
            },
            "type": "histogram"
           }
          ],
          "histogram2d": [
           {
            "colorbar": {
             "outlinewidth": 0,
             "ticks": ""
            },
            "colorscale": [
             [
              0,
              "#0d0887"
             ],
             [
              0.1111111111111111,
              "#46039f"
             ],
             [
              0.2222222222222222,
              "#7201a8"
             ],
             [
              0.3333333333333333,
              "#9c179e"
             ],
             [
              0.4444444444444444,
              "#bd3786"
             ],
             [
              0.5555555555555556,
              "#d8576b"
             ],
             [
              0.6666666666666666,
              "#ed7953"
             ],
             [
              0.7777777777777778,
              "#fb9f3a"
             ],
             [
              0.8888888888888888,
              "#fdca26"
             ],
             [
              1,
              "#f0f921"
             ]
            ],
            "type": "histogram2d"
           }
          ],
          "histogram2dcontour": [
           {
            "colorbar": {
             "outlinewidth": 0,
             "ticks": ""
            },
            "colorscale": [
             [
              0,
              "#0d0887"
             ],
             [
              0.1111111111111111,
              "#46039f"
             ],
             [
              0.2222222222222222,
              "#7201a8"
             ],
             [
              0.3333333333333333,
              "#9c179e"
             ],
             [
              0.4444444444444444,
              "#bd3786"
             ],
             [
              0.5555555555555556,
              "#d8576b"
             ],
             [
              0.6666666666666666,
              "#ed7953"
             ],
             [
              0.7777777777777778,
              "#fb9f3a"
             ],
             [
              0.8888888888888888,
              "#fdca26"
             ],
             [
              1,
              "#f0f921"
             ]
            ],
            "type": "histogram2dcontour"
           }
          ],
          "mesh3d": [
           {
            "colorbar": {
             "outlinewidth": 0,
             "ticks": ""
            },
            "type": "mesh3d"
           }
          ],
          "parcoords": [
           {
            "line": {
             "colorbar": {
              "outlinewidth": 0,
              "ticks": ""
             }
            },
            "type": "parcoords"
           }
          ],
          "pie": [
           {
            "automargin": true,
            "type": "pie"
           }
          ],
          "scatter": [
           {
            "fillpattern": {
             "fillmode": "overlay",
             "size": 10,
             "solidity": 0.2
            },
            "type": "scatter"
           }
          ],
          "scatter3d": [
           {
            "line": {
             "colorbar": {
              "outlinewidth": 0,
              "ticks": ""
             }
            },
            "marker": {
             "colorbar": {
              "outlinewidth": 0,
              "ticks": ""
             }
            },
            "type": "scatter3d"
           }
          ],
          "scattercarpet": [
           {
            "marker": {
             "colorbar": {
              "outlinewidth": 0,
              "ticks": ""
             }
            },
            "type": "scattercarpet"
           }
          ],
          "scattergeo": [
           {
            "marker": {
             "colorbar": {
              "outlinewidth": 0,
              "ticks": ""
             }
            },
            "type": "scattergeo"
           }
          ],
          "scattergl": [
           {
            "marker": {
             "colorbar": {
              "outlinewidth": 0,
              "ticks": ""
             }
            },
            "type": "scattergl"
           }
          ],
          "scattermap": [
           {
            "marker": {
             "colorbar": {
              "outlinewidth": 0,
              "ticks": ""
             }
            },
            "type": "scattermap"
           }
          ],
          "scattermapbox": [
           {
            "marker": {
             "colorbar": {
              "outlinewidth": 0,
              "ticks": ""
             }
            },
            "type": "scattermapbox"
           }
          ],
          "scatterpolar": [
           {
            "marker": {
             "colorbar": {
              "outlinewidth": 0,
              "ticks": ""
             }
            },
            "type": "scatterpolar"
           }
          ],
          "scatterpolargl": [
           {
            "marker": {
             "colorbar": {
              "outlinewidth": 0,
              "ticks": ""
             }
            },
            "type": "scatterpolargl"
           }
          ],
          "scatterternary": [
           {
            "marker": {
             "colorbar": {
              "outlinewidth": 0,
              "ticks": ""
             }
            },
            "type": "scatterternary"
           }
          ],
          "surface": [
           {
            "colorbar": {
             "outlinewidth": 0,
             "ticks": ""
            },
            "colorscale": [
             [
              0,
              "#0d0887"
             ],
             [
              0.1111111111111111,
              "#46039f"
             ],
             [
              0.2222222222222222,
              "#7201a8"
             ],
             [
              0.3333333333333333,
              "#9c179e"
             ],
             [
              0.4444444444444444,
              "#bd3786"
             ],
             [
              0.5555555555555556,
              "#d8576b"
             ],
             [
              0.6666666666666666,
              "#ed7953"
             ],
             [
              0.7777777777777778,
              "#fb9f3a"
             ],
             [
              0.8888888888888888,
              "#fdca26"
             ],
             [
              1,
              "#f0f921"
             ]
            ],
            "type": "surface"
           }
          ],
          "table": [
           {
            "cells": {
             "fill": {
              "color": "#EBF0F8"
             },
             "line": {
              "color": "white"
             }
            },
            "header": {
             "fill": {
              "color": "#C8D4E3"
             },
             "line": {
              "color": "white"
             }
            },
            "type": "table"
           }
          ]
         },
         "layout": {
          "annotationdefaults": {
           "arrowcolor": "#2a3f5f",
           "arrowhead": 0,
           "arrowwidth": 1
          },
          "autotypenumbers": "strict",
          "coloraxis": {
           "colorbar": {
            "outlinewidth": 0,
            "ticks": ""
           }
          },
          "colorscale": {
           "diverging": [
            [
             0,
             "#8e0152"
            ],
            [
             0.1,
             "#c51b7d"
            ],
            [
             0.2,
             "#de77ae"
            ],
            [
             0.3,
             "#f1b6da"
            ],
            [
             0.4,
             "#fde0ef"
            ],
            [
             0.5,
             "#f7f7f7"
            ],
            [
             0.6,
             "#e6f5d0"
            ],
            [
             0.7,
             "#b8e186"
            ],
            [
             0.8,
             "#7fbc41"
            ],
            [
             0.9,
             "#4d9221"
            ],
            [
             1,
             "#276419"
            ]
           ],
           "sequential": [
            [
             0,
             "#0d0887"
            ],
            [
             0.1111111111111111,
             "#46039f"
            ],
            [
             0.2222222222222222,
             "#7201a8"
            ],
            [
             0.3333333333333333,
             "#9c179e"
            ],
            [
             0.4444444444444444,
             "#bd3786"
            ],
            [
             0.5555555555555556,
             "#d8576b"
            ],
            [
             0.6666666666666666,
             "#ed7953"
            ],
            [
             0.7777777777777778,
             "#fb9f3a"
            ],
            [
             0.8888888888888888,
             "#fdca26"
            ],
            [
             1,
             "#f0f921"
            ]
           ],
           "sequentialminus": [
            [
             0,
             "#0d0887"
            ],
            [
             0.1111111111111111,
             "#46039f"
            ],
            [
             0.2222222222222222,
             "#7201a8"
            ],
            [
             0.3333333333333333,
             "#9c179e"
            ],
            [
             0.4444444444444444,
             "#bd3786"
            ],
            [
             0.5555555555555556,
             "#d8576b"
            ],
            [
             0.6666666666666666,
             "#ed7953"
            ],
            [
             0.7777777777777778,
             "#fb9f3a"
            ],
            [
             0.8888888888888888,
             "#fdca26"
            ],
            [
             1,
             "#f0f921"
            ]
           ]
          },
          "colorway": [
           "#636efa",
           "#EF553B",
           "#00cc96",
           "#ab63fa",
           "#FFA15A",
           "#19d3f3",
           "#FF6692",
           "#B6E880",
           "#FF97FF",
           "#FECB52"
          ],
          "font": {
           "color": "#2a3f5f"
          },
          "geo": {
           "bgcolor": "white",
           "lakecolor": "white",
           "landcolor": "#E5ECF6",
           "showlakes": true,
           "showland": true,
           "subunitcolor": "white"
          },
          "hoverlabel": {
           "align": "left"
          },
          "hovermode": "closest",
          "mapbox": {
           "style": "light"
          },
          "paper_bgcolor": "white",
          "plot_bgcolor": "#E5ECF6",
          "polar": {
           "angularaxis": {
            "gridcolor": "white",
            "linecolor": "white",
            "ticks": ""
           },
           "bgcolor": "#E5ECF6",
           "radialaxis": {
            "gridcolor": "white",
            "linecolor": "white",
            "ticks": ""
           }
          },
          "scene": {
           "xaxis": {
            "backgroundcolor": "#E5ECF6",
            "gridcolor": "white",
            "gridwidth": 2,
            "linecolor": "white",
            "showbackground": true,
            "ticks": "",
            "zerolinecolor": "white"
           },
           "yaxis": {
            "backgroundcolor": "#E5ECF6",
            "gridcolor": "white",
            "gridwidth": 2,
            "linecolor": "white",
            "showbackground": true,
            "ticks": "",
            "zerolinecolor": "white"
           },
           "zaxis": {
            "backgroundcolor": "#E5ECF6",
            "gridcolor": "white",
            "gridwidth": 2,
            "linecolor": "white",
            "showbackground": true,
            "ticks": "",
            "zerolinecolor": "white"
           }
          },
          "shapedefaults": {
           "line": {
            "color": "#2a3f5f"
           }
          },
          "ternary": {
           "aaxis": {
            "gridcolor": "white",
            "linecolor": "white",
            "ticks": ""
           },
           "baxis": {
            "gridcolor": "white",
            "linecolor": "white",
            "ticks": ""
           },
           "bgcolor": "#E5ECF6",
           "caxis": {
            "gridcolor": "white",
            "linecolor": "white",
            "ticks": ""
           }
          },
          "title": {
           "x": 0.05
          },
          "xaxis": {
           "automargin": true,
           "gridcolor": "white",
           "linecolor": "white",
           "ticks": "",
           "title": {
            "standoff": 15
           },
           "zerolinecolor": "white",
           "zerolinewidth": 2
          },
          "yaxis": {
           "automargin": true,
           "gridcolor": "white",
           "linecolor": "white",
           "ticks": "",
           "title": {
            "standoff": 15
           },
           "zerolinecolor": "white",
           "zerolinewidth": 2
          }
         }
        },
        "title": {
         "text": "PCA - First Two Components",
         "x": 0.5,
         "xanchor": "center"
        },
        "xaxis": {
         "anchor": "y",
         "domain": [
          0,
          1
         ],
         "gridcolor": "#878787",
         "title": {
          "text": "PC1"
         },
         "zerolinecolor": "#878787"
        },
        "yaxis": {
         "anchor": "x",
         "domain": [
          0,
          1
         ],
         "gridcolor": "#878787",
         "title": {
          "text": "PC2"
         },
         "zerolinecolor": "#878787"
        }
       }
      }
     },
     "metadata": {},
     "output_type": "display_data"
    }
   ],
   "source": [
    "fig = px.scatter(\n",
    "    pca_df,\n",
    "    x=\"PC1\",\n",
    "    y=\"PC2\",\n",
    "    title=\"PCA - First Two Components\",\n",
    "    color_discrete_sequence=[PRIMARY_COLOR]\n",
    ")\n",
    "\n",
    "# Styling\n",
    "fig.update_layout(\n",
    "    plot_bgcolor=BACKGROUND_COLOR,\n",
    "    paper_bgcolor=BACKGROUND_COLOR,\n",
    "    font=dict(color=GRID_TEXT_COLOR, size=12),\n",
    "    title=dict(x=0.5, xanchor='center'),\n",
    ")\n",
    "fig.update_traces(marker=dict(size=8, line=dict(width=1, color=EDGE_COLOR)))\n",
    "fig.update_xaxes(gridcolor=GRID_TEXT_COLOR, zerolinecolor=GRID_TEXT_COLOR)\n",
    "fig.update_yaxes(gridcolor=GRID_TEXT_COLOR, zerolinecolor=GRID_TEXT_COLOR)\n",
    "\n",
    "fig.show()\n"
   ]
  }
 ],
 "metadata": {
  "kernelspec": {
   "display_name": "Python 3",
   "language": "python",
   "name": "python3"
  },
  "language_info": {
   "codemirror_mode": {
    "name": "ipython",
    "version": 3
   },
   "file_extension": ".py",
   "mimetype": "text/x-python",
   "name": "python",
   "nbconvert_exporter": "python",
   "pygments_lexer": "ipython3",
   "version": "3.12.8"
  }
 },
 "nbformat": 4,
 "nbformat_minor": 5
}
