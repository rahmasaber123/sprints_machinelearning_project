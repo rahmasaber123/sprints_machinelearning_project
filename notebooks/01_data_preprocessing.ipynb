{
 "cells": [
  {
   "cell_type": "markdown",
   "id": "2b47c01c",
   "metadata": {},
   "source": [
    "### **2.1 Data Preprocessing & Cleaning**\n",
    "Steps:\n",
    "1. Loading the Heart Disease UCI dataset into a Pandas DataFrame.\n",
    "2. Conducting Exploratory Data Analysis (EDA) with histograms, correlation heatmaps, and boxplots.\n",
    "3. Handling missing values.\n",
    "4. Performing data encoding.\n",
    "5. Standardizing numerical features using StandardScaler.\n",
    "\n",
    "Deliverable: Cleaned dataset ready for modeling 👌"
   ]
  },
  {
   "cell_type": "markdown",
   "id": "f4797891",
   "metadata": {},
   "source": [
    "---"
   ]
  },
  {
   "cell_type": "markdown",
   "id": "99f87d2c",
   "metadata": {},
   "source": [
    "#### **Import Libraries**\n",
    "\n",
    "First, we import all necessary libraries for data manipulation, visualization, statistical analysis, and machine learning."
   ]
  },
  {
   "cell_type": "code",
   "execution_count": null,
   "id": "815df8ba",
   "metadata": {},
   "outputs": [],
   "source": [
    "# Numerical and Data Manipulation Libraries\n",
    "import numpy as np\n",
    "import pandas as pd\n",
    "\n",
    "# Data Visualization Libraries\n",
    "%matplotlib inline\n",
    "import seaborn as sns\n",
    "import plotly.express as px\n",
    "import matplotlib.pyplot as plt\n",
    "from matplotlib.colors import LinearSegmentedColormap\n",
    "import plotly.graph_objects as go\n",
    "from plotly.subplots import make_subplots\n",
    "\n",
    "# Mathematic and Statistics Libraries\n",
    "import math\n",
    "from scipy import stats\n",
    "from scipy.cluster.hierarchy import dendrogram, linkage\n",
    "\n",
    "# Machine Learning Libraries\n",
    "from sklearn.preprocessing import StandardScaler\n",
    "from sklearn.decomposition import PCA\n",
    "from sklearn.feature_selection import RFE\n",
    "from sklearn.feature_selection import chi2\n",
    "from sklearn.model_selection import train_test_split, GridSearchCV, RandomizedSearchCV\n",
    "from sklearn.metrics import accuracy_score, precision_score, recall_score, f1_score, roc_auc_score, roc_curve\n",
    "from sklearn.metrics import confusion_matrix, silhouette_score, adjusted_rand_score, normalized_mutual_info_score\n",
    "from sklearn.linear_model import LogisticRegression\n",
    "from sklearn.tree import DecisionTreeClassifier\n",
    "from sklearn.ensemble import RandomForestClassifier\n",
    "from sklearn.svm import SVC\n",
    "from sklearn.cluster import KMeans, AgglomerativeClustering\n",
    "from kneed import KneeLocator\n",
    "\n",
    "# Model Export\n",
    "import pickle\n",
    "\n",
    "import warnings\n",
    "warnings.filterwarnings('ignore')"
   ]
  },
  {
   "cell_type": "markdown",
   "id": "1dbf209d",
   "metadata": {},
   "source": [
    "#### **Color & Style Definitions:**"
   ]
  },
  {
   "cell_type": "code",
   "execution_count": 65,
   "id": "ad98916f",
   "metadata": {},
   "outputs": [],
   "source": [
    "# Define hex colors\n",
    "PRIMARY_COLOR = '#1f77b4'\n",
    "SECONDARY_COLOR = '#124062'\n",
    "EDGE_COLOR = '#1F1F1F'\n",
    "GRID_TEXT_COLOR = '#878787'\n",
    "BACKGROUND_COLOR = '#1F1F1F'\n",
    "\n",
    "# Set plot style\n",
    "plt.style.use('dark_background')\n",
    "plt.rcParams['axes.facecolor'] = BACKGROUND_COLOR\n",
    "plt.rcParams['figure.facecolor'] = BACKGROUND_COLOR\n",
    "plt.rcParams['text.color'] = GRID_TEXT_COLOR\n",
    "plt.rcParams['axes.labelcolor'] = GRID_TEXT_COLOR\n",
    "plt.rcParams['xtick.color'] = GRID_TEXT_COLOR\n",
    "plt.rcParams['ytick.color'] = GRID_TEXT_COLOR\n",
    "plt.rcParams['grid.color'] = GRID_TEXT_COLOR\n",
    "plt.rcParams['grid.alpha'] = 0.3\n",
    "\n",
    "# Set the Seaborn style\n",
    "sns.set_style(\"darkgrid\", {\n",
    "    'axes.facecolor': BACKGROUND_COLOR,\n",
    "    'figure.facecolor': BACKGROUND_COLOR,\n",
    "    'axes.edgecolor': EDGE_COLOR,\n",
    "    'grid.color': GRID_TEXT_COLOR,\n",
    "    'xtick.color': GRID_TEXT_COLOR,\n",
    "    'ytick.color': GRID_TEXT_COLOR,\n",
    "    'text.color': GRID_TEXT_COLOR,\n",
    "    'axes.labelcolor': GRID_TEXT_COLOR,\n",
    "    'axes.titlecolor': GRID_TEXT_COLOR,\n",
    "})"
   ]
  },
  {
   "cell_type": "markdown",
   "id": "4bd08494",
   "metadata": {},
   "source": [
    "**Table with all the features we have in the dataset with description:**\n",
    "| Feature            | Description                                              | Type        |\n",
    "|--------------------|----------------------------------------------------------|-------------|\n",
    "| `age`              | Age in years                                             | Numerical   |\n",
    "| `sex`              | Gender (1 = male; 0 = female)                            | Categorical - Nominal |\n",
    "| `cp`               | Chest pain type (1-4)                                    | Categorical - Nominal |\n",
    "| `trestbps`         | Resting blood pressure (mm Hg)                           | Numerical |\n",
    "| `chol`             | Serum cholesterol (mg/dl)                                | Numerical |\n",
    "| `fbs`              | Fasting blood sugar > 120 mg/dl (1 = true; 0 = false)    | Categorical - Nominal |\n",
    "| `restecg`          | Resting electrocardiographic results (0-2)               | Categorical - Nominal |\n",
    "| `thalach`          | Maximum heart rate achieved                              | Numerical |\n",
    "| `exang`            | Exercise induced angina (1 = yes; 0 = no)                |  Categorical - Nominal  |\n",
    "| `oldpeak`          | ST depression induced by exercise                        | Numerical   |\n",
    "| `slope`            | Slope of the peak exercise ST segment (1-3)              | Categorical - Nominal |\n",
    "| `ca`               | Number of major vessels (0-3) colored by fluoroscopy     | Categorical - Ordinal   |\n",
    "| `thal`             | Thalassemia (3,6,7)                                      | Categorical - Nominal |\n",
    "| `num`              | Diagnosis of heart disease (0 = no; 1,2,3,4 = yes)       | Categorical - Nominal   |"
   ]
  },
  {
   "cell_type": "markdown",
   "id": "6852c55e",
   "metadata": {},
   "source": [
    "#### **Loading and inspecting the dataset**\n",
    "\n",
    "We load the dataset from .data file and explore its structure to understand its contents and dimensions."
   ]
  },
  {
   "cell_type": "code",
   "execution_count": 66,
   "id": "968a8d13",
   "metadata": {},
   "outputs": [
    {
     "name": "stdout",
     "output_type": "stream",
     "text": [
      "Shape of the DataFrame: (303, 14)\n",
      "\n",
      "--- First 5 Rows ---\n"
     ]
    },
    {
     "data": {
      "text/html": [
       "<div>\n",
       "<style scoped>\n",
       "    .dataframe tbody tr th:only-of-type {\n",
       "        vertical-align: middle;\n",
       "    }\n",
       "\n",
       "    .dataframe tbody tr th {\n",
       "        vertical-align: top;\n",
       "    }\n",
       "\n",
       "    .dataframe thead th {\n",
       "        text-align: right;\n",
       "    }\n",
       "</style>\n",
       "<table border=\"1\" class=\"dataframe\">\n",
       "  <thead>\n",
       "    <tr style=\"text-align: right;\">\n",
       "      <th></th>\n",
       "      <th>age</th>\n",
       "      <th>sex</th>\n",
       "      <th>cp</th>\n",
       "      <th>trestbps</th>\n",
       "      <th>chol</th>\n",
       "      <th>fbs</th>\n",
       "      <th>restecg</th>\n",
       "      <th>thalach</th>\n",
       "      <th>exang</th>\n",
       "      <th>oldpeak</th>\n",
       "      <th>slope</th>\n",
       "      <th>ca</th>\n",
       "      <th>thal</th>\n",
       "      <th>num</th>\n",
       "    </tr>\n",
       "  </thead>\n",
       "  <tbody>\n",
       "    <tr>\n",
       "      <th>0</th>\n",
       "      <td>63.0</td>\n",
       "      <td>1.0</td>\n",
       "      <td>1.0</td>\n",
       "      <td>145.0</td>\n",
       "      <td>233.0</td>\n",
       "      <td>1.0</td>\n",
       "      <td>2.0</td>\n",
       "      <td>150.0</td>\n",
       "      <td>0.0</td>\n",
       "      <td>2.3</td>\n",
       "      <td>3.0</td>\n",
       "      <td>0.0</td>\n",
       "      <td>6.0</td>\n",
       "      <td>0</td>\n",
       "    </tr>\n",
       "    <tr>\n",
       "      <th>1</th>\n",
       "      <td>67.0</td>\n",
       "      <td>1.0</td>\n",
       "      <td>4.0</td>\n",
       "      <td>160.0</td>\n",
       "      <td>286.0</td>\n",
       "      <td>0.0</td>\n",
       "      <td>2.0</td>\n",
       "      <td>108.0</td>\n",
       "      <td>1.0</td>\n",
       "      <td>1.5</td>\n",
       "      <td>2.0</td>\n",
       "      <td>3.0</td>\n",
       "      <td>3.0</td>\n",
       "      <td>1</td>\n",
       "    </tr>\n",
       "    <tr>\n",
       "      <th>2</th>\n",
       "      <td>67.0</td>\n",
       "      <td>1.0</td>\n",
       "      <td>4.0</td>\n",
       "      <td>120.0</td>\n",
       "      <td>229.0</td>\n",
       "      <td>0.0</td>\n",
       "      <td>2.0</td>\n",
       "      <td>129.0</td>\n",
       "      <td>1.0</td>\n",
       "      <td>2.6</td>\n",
       "      <td>2.0</td>\n",
       "      <td>2.0</td>\n",
       "      <td>7.0</td>\n",
       "      <td>1</td>\n",
       "    </tr>\n",
       "    <tr>\n",
       "      <th>3</th>\n",
       "      <td>37.0</td>\n",
       "      <td>1.0</td>\n",
       "      <td>3.0</td>\n",
       "      <td>130.0</td>\n",
       "      <td>250.0</td>\n",
       "      <td>0.0</td>\n",
       "      <td>0.0</td>\n",
       "      <td>187.0</td>\n",
       "      <td>0.0</td>\n",
       "      <td>3.5</td>\n",
       "      <td>3.0</td>\n",
       "      <td>0.0</td>\n",
       "      <td>3.0</td>\n",
       "      <td>0</td>\n",
       "    </tr>\n",
       "    <tr>\n",
       "      <th>4</th>\n",
       "      <td>41.0</td>\n",
       "      <td>0.0</td>\n",
       "      <td>2.0</td>\n",
       "      <td>130.0</td>\n",
       "      <td>204.0</td>\n",
       "      <td>0.0</td>\n",
       "      <td>2.0</td>\n",
       "      <td>172.0</td>\n",
       "      <td>0.0</td>\n",
       "      <td>1.4</td>\n",
       "      <td>1.0</td>\n",
       "      <td>0.0</td>\n",
       "      <td>3.0</td>\n",
       "      <td>0</td>\n",
       "    </tr>\n",
       "  </tbody>\n",
       "</table>\n",
       "</div>"
      ],
      "text/plain": [
       "    age  sex   cp  trestbps   chol  fbs  restecg  thalach  exang  oldpeak  \\\n",
       "0  63.0  1.0  1.0     145.0  233.0  1.0      2.0    150.0    0.0      2.3   \n",
       "1  67.0  1.0  4.0     160.0  286.0  0.0      2.0    108.0    1.0      1.5   \n",
       "2  67.0  1.0  4.0     120.0  229.0  0.0      2.0    129.0    1.0      2.6   \n",
       "3  37.0  1.0  3.0     130.0  250.0  0.0      0.0    187.0    0.0      3.5   \n",
       "4  41.0  0.0  2.0     130.0  204.0  0.0      2.0    172.0    0.0      1.4   \n",
       "\n",
       "   slope   ca  thal  num  \n",
       "0    3.0  0.0   6.0    0  \n",
       "1    2.0  3.0   3.0    1  \n",
       "2    2.0  2.0   7.0    1  \n",
       "3    3.0  0.0   3.0    0  \n",
       "4    1.0  0.0   3.0    0  "
      ]
     },
     "execution_count": 66,
     "metadata": {},
     "output_type": "execute_result"
    }
   ],
   "source": [
    "column_names = ['age', 'sex', 'cp', 'trestbps', 'chol', 'fbs','restecg', 'thalach', 'exang', 'oldpeak', 'slope', 'ca', 'thal', 'num']\n",
    "\n",
    "df = pd.read_csv(r\"Instructions & Dataset\\heart disease\\processed.cleveland.data\", header=None, names=column_names, na_values='?')\n",
    "\n",
    "# Convert target to binary: 0 = no disease, 1 = disease\n",
    "df[\"num\"] = df[\"num\"].apply(lambda x: 1 if x > 0 else 0)\n",
    "\n",
    "print(f\"Shape of the DataFrame: {df.shape}\")\n",
    "\n",
    "print(\"\\n--- First 5 Rows ---\")\n",
    "df.head()"
   ]
  },
  {
   "cell_type": "markdown",
   "id": "c14ba604",
   "metadata": {},
   "source": [
    "#### **Exploratory Data Analysis (EDA)**"
   ]
  },
  {
   "cell_type": "code",
   "execution_count": 67,
   "id": "56aa6da0",
   "metadata": {},
   "outputs": [
    {
     "name": "stdout",
     "output_type": "stream",
     "text": [
      "--- Dataset Info ---\n",
      "<class 'pandas.core.frame.DataFrame'>\n",
      "RangeIndex: 303 entries, 0 to 302\n",
      "Data columns (total 14 columns):\n",
      " #   Column    Non-Null Count  Dtype  \n",
      "---  ------    --------------  -----  \n",
      " 0   age       303 non-null    float64\n",
      " 1   sex       303 non-null    float64\n",
      " 2   cp        303 non-null    float64\n",
      " 3   trestbps  303 non-null    float64\n",
      " 4   chol      303 non-null    float64\n",
      " 5   fbs       303 non-null    float64\n",
      " 6   restecg   303 non-null    float64\n",
      " 7   thalach   303 non-null    float64\n",
      " 8   exang     303 non-null    float64\n",
      " 9   oldpeak   303 non-null    float64\n",
      " 10  slope     303 non-null    float64\n",
      " 11  ca        299 non-null    float64\n",
      " 12  thal      301 non-null    float64\n",
      " 13  num       303 non-null    int64  \n",
      "dtypes: float64(13), int64(1)\n",
      "memory usage: 33.3 KB\n"
     ]
    }
   ],
   "source": [
    "print(\"--- Dataset Info ---\")\n",
    "df.info()"
   ]
  },
  {
   "cell_type": "code",
   "execution_count": 68,
   "id": "61a1aca5",
   "metadata": {},
   "outputs": [
    {
     "name": "stdout",
     "output_type": "stream",
     "text": [
      "--- Summary Statistics ---\n"
     ]
    },
    {
     "data": {
      "text/html": [
       "<div>\n",
       "<style scoped>\n",
       "    .dataframe tbody tr th:only-of-type {\n",
       "        vertical-align: middle;\n",
       "    }\n",
       "\n",
       "    .dataframe tbody tr th {\n",
       "        vertical-align: top;\n",
       "    }\n",
       "\n",
       "    .dataframe thead th {\n",
       "        text-align: right;\n",
       "    }\n",
       "</style>\n",
       "<table border=\"1\" class=\"dataframe\">\n",
       "  <thead>\n",
       "    <tr style=\"text-align: right;\">\n",
       "      <th></th>\n",
       "      <th>age</th>\n",
       "      <th>sex</th>\n",
       "      <th>cp</th>\n",
       "      <th>trestbps</th>\n",
       "      <th>chol</th>\n",
       "      <th>fbs</th>\n",
       "      <th>restecg</th>\n",
       "      <th>thalach</th>\n",
       "      <th>exang</th>\n",
       "      <th>oldpeak</th>\n",
       "      <th>slope</th>\n",
       "      <th>ca</th>\n",
       "      <th>thal</th>\n",
       "      <th>num</th>\n",
       "    </tr>\n",
       "  </thead>\n",
       "  <tbody>\n",
       "    <tr>\n",
       "      <th>count</th>\n",
       "      <td>303.000000</td>\n",
       "      <td>303.000000</td>\n",
       "      <td>303.000000</td>\n",
       "      <td>303.000000</td>\n",
       "      <td>303.000000</td>\n",
       "      <td>303.000000</td>\n",
       "      <td>303.000000</td>\n",
       "      <td>303.000000</td>\n",
       "      <td>303.000000</td>\n",
       "      <td>303.000000</td>\n",
       "      <td>303.000000</td>\n",
       "      <td>299.000000</td>\n",
       "      <td>301.000000</td>\n",
       "      <td>303.000000</td>\n",
       "    </tr>\n",
       "    <tr>\n",
       "      <th>mean</th>\n",
       "      <td>54.438944</td>\n",
       "      <td>0.679868</td>\n",
       "      <td>3.158416</td>\n",
       "      <td>131.689769</td>\n",
       "      <td>246.693069</td>\n",
       "      <td>0.148515</td>\n",
       "      <td>0.990099</td>\n",
       "      <td>149.607261</td>\n",
       "      <td>0.326733</td>\n",
       "      <td>1.039604</td>\n",
       "      <td>1.600660</td>\n",
       "      <td>0.672241</td>\n",
       "      <td>4.734219</td>\n",
       "      <td>0.458746</td>\n",
       "    </tr>\n",
       "    <tr>\n",
       "      <th>std</th>\n",
       "      <td>9.038662</td>\n",
       "      <td>0.467299</td>\n",
       "      <td>0.960126</td>\n",
       "      <td>17.599748</td>\n",
       "      <td>51.776918</td>\n",
       "      <td>0.356198</td>\n",
       "      <td>0.994971</td>\n",
       "      <td>22.875003</td>\n",
       "      <td>0.469794</td>\n",
       "      <td>1.161075</td>\n",
       "      <td>0.616226</td>\n",
       "      <td>0.937438</td>\n",
       "      <td>1.939706</td>\n",
       "      <td>0.499120</td>\n",
       "    </tr>\n",
       "    <tr>\n",
       "      <th>min</th>\n",
       "      <td>29.000000</td>\n",
       "      <td>0.000000</td>\n",
       "      <td>1.000000</td>\n",
       "      <td>94.000000</td>\n",
       "      <td>126.000000</td>\n",
       "      <td>0.000000</td>\n",
       "      <td>0.000000</td>\n",
       "      <td>71.000000</td>\n",
       "      <td>0.000000</td>\n",
       "      <td>0.000000</td>\n",
       "      <td>1.000000</td>\n",
       "      <td>0.000000</td>\n",
       "      <td>3.000000</td>\n",
       "      <td>0.000000</td>\n",
       "    </tr>\n",
       "    <tr>\n",
       "      <th>25%</th>\n",
       "      <td>48.000000</td>\n",
       "      <td>0.000000</td>\n",
       "      <td>3.000000</td>\n",
       "      <td>120.000000</td>\n",
       "      <td>211.000000</td>\n",
       "      <td>0.000000</td>\n",
       "      <td>0.000000</td>\n",
       "      <td>133.500000</td>\n",
       "      <td>0.000000</td>\n",
       "      <td>0.000000</td>\n",
       "      <td>1.000000</td>\n",
       "      <td>0.000000</td>\n",
       "      <td>3.000000</td>\n",
       "      <td>0.000000</td>\n",
       "    </tr>\n",
       "    <tr>\n",
       "      <th>50%</th>\n",
       "      <td>56.000000</td>\n",
       "      <td>1.000000</td>\n",
       "      <td>3.000000</td>\n",
       "      <td>130.000000</td>\n",
       "      <td>241.000000</td>\n",
       "      <td>0.000000</td>\n",
       "      <td>1.000000</td>\n",
       "      <td>153.000000</td>\n",
       "      <td>0.000000</td>\n",
       "      <td>0.800000</td>\n",
       "      <td>2.000000</td>\n",
       "      <td>0.000000</td>\n",
       "      <td>3.000000</td>\n",
       "      <td>0.000000</td>\n",
       "    </tr>\n",
       "    <tr>\n",
       "      <th>75%</th>\n",
       "      <td>61.000000</td>\n",
       "      <td>1.000000</td>\n",
       "      <td>4.000000</td>\n",
       "      <td>140.000000</td>\n",
       "      <td>275.000000</td>\n",
       "      <td>0.000000</td>\n",
       "      <td>2.000000</td>\n",
       "      <td>166.000000</td>\n",
       "      <td>1.000000</td>\n",
       "      <td>1.600000</td>\n",
       "      <td>2.000000</td>\n",
       "      <td>1.000000</td>\n",
       "      <td>7.000000</td>\n",
       "      <td>1.000000</td>\n",
       "    </tr>\n",
       "    <tr>\n",
       "      <th>max</th>\n",
       "      <td>77.000000</td>\n",
       "      <td>1.000000</td>\n",
       "      <td>4.000000</td>\n",
       "      <td>200.000000</td>\n",
       "      <td>564.000000</td>\n",
       "      <td>1.000000</td>\n",
       "      <td>2.000000</td>\n",
       "      <td>202.000000</td>\n",
       "      <td>1.000000</td>\n",
       "      <td>6.200000</td>\n",
       "      <td>3.000000</td>\n",
       "      <td>3.000000</td>\n",
       "      <td>7.000000</td>\n",
       "      <td>1.000000</td>\n",
       "    </tr>\n",
       "  </tbody>\n",
       "</table>\n",
       "</div>"
      ],
      "text/plain": [
       "              age         sex          cp    trestbps        chol         fbs  \\\n",
       "count  303.000000  303.000000  303.000000  303.000000  303.000000  303.000000   \n",
       "mean    54.438944    0.679868    3.158416  131.689769  246.693069    0.148515   \n",
       "std      9.038662    0.467299    0.960126   17.599748   51.776918    0.356198   \n",
       "min     29.000000    0.000000    1.000000   94.000000  126.000000    0.000000   \n",
       "25%     48.000000    0.000000    3.000000  120.000000  211.000000    0.000000   \n",
       "50%     56.000000    1.000000    3.000000  130.000000  241.000000    0.000000   \n",
       "75%     61.000000    1.000000    4.000000  140.000000  275.000000    0.000000   \n",
       "max     77.000000    1.000000    4.000000  200.000000  564.000000    1.000000   \n",
       "\n",
       "          restecg     thalach       exang     oldpeak       slope          ca  \\\n",
       "count  303.000000  303.000000  303.000000  303.000000  303.000000  299.000000   \n",
       "mean     0.990099  149.607261    0.326733    1.039604    1.600660    0.672241   \n",
       "std      0.994971   22.875003    0.469794    1.161075    0.616226    0.937438   \n",
       "min      0.000000   71.000000    0.000000    0.000000    1.000000    0.000000   \n",
       "25%      0.000000  133.500000    0.000000    0.000000    1.000000    0.000000   \n",
       "50%      1.000000  153.000000    0.000000    0.800000    2.000000    0.000000   \n",
       "75%      2.000000  166.000000    1.000000    1.600000    2.000000    1.000000   \n",
       "max      2.000000  202.000000    1.000000    6.200000    3.000000    3.000000   \n",
       "\n",
       "             thal         num  \n",
       "count  301.000000  303.000000  \n",
       "mean     4.734219    0.458746  \n",
       "std      1.939706    0.499120  \n",
       "min      3.000000    0.000000  \n",
       "25%      3.000000    0.000000  \n",
       "50%      3.000000    0.000000  \n",
       "75%      7.000000    1.000000  \n",
       "max      7.000000    1.000000  "
      ]
     },
     "execution_count": 68,
     "metadata": {},
     "output_type": "execute_result"
    }
   ],
   "source": [
    "print(\"--- Summary Statistics ---\")\n",
    "df.describe()"
   ]
  },
  {
   "cell_type": "code",
   "execution_count": 69,
   "id": "613b9e0d",
   "metadata": {},
   "outputs": [
    {
     "name": "stdout",
     "output_type": "stream",
     "text": [
      "--- Check for Missing Values ---\n",
      "\n",
      "age         0\n",
      "sex         0\n",
      "cp          0\n",
      "trestbps    0\n",
      "chol        0\n",
      "fbs         0\n",
      "restecg     0\n",
      "thalach     0\n",
      "exang       0\n",
      "oldpeak     0\n",
      "slope       0\n",
      "ca          4\n",
      "thal        2\n",
      "num         0\n",
      "dtype: int64\n",
      "\n",
      "Total missing values: 6\n"
     ]
    }
   ],
   "source": [
    "print(\"--- Check for Missing Values ---\\n\")\n",
    "print(df.isnull().sum())\n",
    "\n",
    "print(\"\\nTotal missing values:\", df.isnull().sum().sum())"
   ]
  },
  {
   "cell_type": "markdown",
   "id": "c7f423c4",
   "metadata": {},
   "source": [
    "##### **Histogram Distributions for numerical columns**"
   ]
  },
  {
   "cell_type": "code",
   "execution_count": 70,
   "id": "6c78ef74",
   "metadata": {},
   "outputs": [
    {
     "data": {
      "image/png": "[encoded data removed]",
      "text/plain": [
       "<Figure size 1200x800 with 5 Axes>"
      ]
     },
     "metadata": {},
     "output_type": "display_data"
    }
   ],
   "source": [
    "numerical_cols = [\"age\", \"trestbps\", \"chol\", \"thalach\", \"oldpeak\"]\n",
    "\n",
    "plt.close('all')\n",
    "fig, axes = plt.subplots(3, 2, figsize=(12, 8))\n",
    "axes = axes.flatten()\n",
    "\n",
    "for i, col in enumerate(numerical_cols):\n",
    "    n, bins, patches = axes[i].hist(df[col].dropna(), bins=25, \n",
    "                                    color=PRIMARY_COLOR, edgecolor=EDGE_COLOR, alpha=0.8)\n",
    "\n",
    "    # KDE\n",
    "    density = stats.gaussian_kde(df[col].dropna())\n",
    "    x_vals = np.linspace(df[col].min(), df[col].max(), 100)\n",
    "    y_vals = density(x_vals)\n",
    "\n",
    "    # Scale KDE to match histogram height\n",
    "    hist_max = n.max()\n",
    "    kde_max = y_vals.max()\n",
    "    scaling_factor = hist_max / kde_max if kde_max > 0 else 1\n",
    "    axes[i].plot(x_vals, y_vals * scaling_factor, color=GRID_TEXT_COLOR, linewidth=1)\n",
    "\n",
    "    axes[i].set_title(f'Distribution of {col}', fontsize=12)\n",
    "    axes[i].set_xlabel(col, fontsize=10)\n",
    "    axes[i].set_ylabel('Frequency', fontsize=10)\n",
    "    axes[i].grid(True)\n",
    "\n",
    "fig.delaxes(axes[5])\n",
    "\n",
    "plt.tight_layout(pad=1)\n",
    "plt.show()\n"
   ]
  },
  {
   "cell_type": "markdown",
   "id": "48001f62",
   "metadata": {},
   "source": [
    "#### **Bar charts for categorical columns**"
   ]
  },
  {
   "cell_type": "code",
   "execution_count": 71,
   "id": "c8706040",
   "metadata": {},
   "outputs": [
    {
     "data": {
      "image/png": "[encoded data removed]",
      "text/plain": [
       "<Figure size 3500x3500 with 9 Axes>"
      ]
     },
     "metadata": {},
     "output_type": "display_data"
    }
   ],
   "source": [
    "categorical_cols = [\"sex\", \"cp\", \"fbs\", \"restecg\", \"exang\", \"slope\", \"ca\", \"thal\", \"num\"]\n",
    "\n",
    "# Number of plots = number of categorical columns\n",
    "n_cols = len(categorical_cols)\n",
    "n_rows = math.ceil(n_cols / 2)  # Two plots per row\n",
    "\n",
    "# Create subplots grid\n",
    "fig, axes = plt.subplots(n_rows, 2, figsize=(35, n_rows * 7))\n",
    "axes = axes.flatten()\n",
    "\n",
    "# Loop over each categorical column\n",
    "for i, col in enumerate(categorical_cols):\n",
    "    sns.countplot(\n",
    "        x=col,\n",
    "        data=df,\n",
    "        ax=axes[i],\n",
    "        color=PRIMARY_COLOR,\n",
    "        edgecolor=EDGE_COLOR,\n",
    "        alpha=0.9,\n",
    "        width=0.6\n",
    "    )\n",
    "    axes[i].set_title(f'Distribution of {col}', fontsize=30, pad=20)\n",
    "    axes[i].set_xlabel(\"\")  # hide x-axis label\n",
    "    axes[i].tick_params(axis='x', labelsize=20)\n",
    "    axes[i].tick_params(axis='y', labelsize=18)\n",
    "    axes[i].set_ylabel(\"\")  # hide y-axis label\n",
    "    axes[i].grid(True, axis='y', linestyle='--', alpha=0.5)\n",
    "\n",
    "# Remove any empty subplots (in case of odd number of categorical columns)\n",
    "for j in range(i + 1, len(axes)):\n",
    "    fig.delaxes(axes[j])\n",
    "\n",
    "plt.tight_layout(pad=5.0, w_pad=4.0, h_pad=8.0)\n",
    "plt.show()\n"
   ]
  },
  {
   "cell_type": "markdown",
   "id": "5b7807ab",
   "metadata": {},
   "source": [
    "#### **Correlation Heatmaps**"
   ]
  },
  {
   "cell_type": "code",
   "execution_count": 72,
   "id": "5ae30665",
   "metadata": {},
   "outputs": [
    {
     "data": {
      "image/png": "[encoded data removed]",
      "text/plain": [
       "<Figure size 2200x1000 with 4 Axes>"
      ]
     },
     "metadata": {},
     "output_type": "display_data"
    }
   ],
   "source": [
    "# Compute correlations\n",
    "pearson_corr = df.corr(method='pearson')\n",
    "spearman_corr = df.corr(method='spearman')\n",
    "\n",
    "# Plot side by side\n",
    "fig, axes = plt.subplots(1, 2, figsize=(22, 10))\n",
    "\n",
    "# Create a custom colormap with the specific hex colors\n",
    "colors = [\"#1C4B6C\", \"#5b7d93\", \"#2574ac\", \"#1D6CA4\"]\n",
    "custom_cmap = LinearSegmentedColormap.from_list(\"custom_blue\", colors, N=256)\n",
    "\n",
    "# Pearson Heatmap\n",
    "sns.heatmap(\n",
    "    pearson_corr,\n",
    "    cmap=custom_cmap,\n",
    "    annot=True,\n",
    "    fmt=\".2f\",\n",
    "    linewidths=0.5,\n",
    "    linecolor=EDGE_COLOR,\n",
    "    cbar=True,\n",
    "    ax=axes[0],\n",
    "    annot_kws={\"size\": 10, \"color\": \"#ffffff\"}\n",
    ")\n",
    "axes[0].set_title(\"Pearson Correlation Heatmap\", fontsize=18, pad=20)\n",
    "\n",
    "# Spearman Heatmap\n",
    "sns.heatmap(\n",
    "    spearman_corr,\n",
    "    cmap=custom_cmap,\n",
    "    annot=True,\n",
    "    fmt=\".2f\",\n",
    "    linewidths=0.5,\n",
    "    linecolor=EDGE_COLOR,\n",
    "    cbar=True,\n",
    "    ax=axes[1],\n",
    "    annot_kws={\"size\": 10, \"color\": \"#ffffff\"}\n",
    ")\n",
    "axes[1].set_title(\"Spearman Correlation Heatmap\", fontsize=18, pad=20)\n",
    "\n",
    "# Apply background color\n",
    "for ax in axes:\n",
    "    ax.set_facecolor(BACKGROUND_COLOR)\n",
    "    ax.tick_params(colors=GRID_TEXT_COLOR, labelsize=12)\n",
    "\n",
    "fig.patch.set_facecolor(BACKGROUND_COLOR)  # overall background\n",
    "plt.tight_layout(pad=5.0, w_pad=3.0, h_pad=5.0)\n",
    "plt.show()\n"
   ]
  },
  {
   "cell_type": "markdown",
   "id": "6455d2d0",
   "metadata": {},
   "source": [
    "#### **Boxplots for outlier analysis (Interactive plots)**"
   ]
  },
  {
   "cell_type": "code",
   "execution_count": 73,
   "id": "c2155432",
   "metadata": {},
   "outputs": [
    {
     "data": {
      "application/vnd.plotly.v1+json": {
       "config": {
        "plotlyServerURL": "https://plot.ly"
       },
       "data": [
        {
         "alignmentgroup": "True",
         "boxpoints": "outliers",
         "hovertemplate": "age=%{x}<extra></extra>",
         "legendgroup": "",
         "line": {
          "width": 2
         },
         "marker": {
          "color": "#1f77b4",
          "size": 9
         },
         "name": "",
         "notched": false,
         "offsetgroup": "",
         "orientation": "h",
         "showlegend": false,
         "type": "box",
         "x": {
          "bdata": "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",
          "dtype": "f8"
         },
         "x0": " ",
         "xaxis": "x",
         "y0": " ",
         "yaxis": "y"
        }
       ],
       "layout": {
        "boxmode": "group",
        "font": {
         "color": "#878787",
         "size": 12
        },
        "height": 400,
        "legend": {
         "tracegroupgap": 0
        },
        "paper_bgcolor": "rgba(0,0,0,0)",
        "plot_bgcolor": "rgba(0,0,0,0)",
        "template": {
         "data": {
          "bar": [
           {
            "error_x": {
             "color": "#2a3f5f"
            },
            "error_y": {
             "color": "#2a3f5f"
            },
            "marker": {
             "line": {
              "color": "#E5ECF6",
              "width": 0.5
             },
             "pattern": {
              "fillmode": "overlay",
              "size": 10,
              "solidity": 0.2
             }
            },
            "type": "bar"
           }
          ],
          "barpolar": [
           {
            "marker": {
             "line": {
              "color": "#E5ECF6",
              "width": 0.5
             },
             "pattern": {
              "fillmode": "overlay",
              "size": 10,
              "solidity": 0.2
             }
            },
            "type": "barpolar"
           }
          ],
          "carpet": [
           {
            "aaxis": {
             "endlinecolor": "#2a3f5f",
             "gridcolor": "white",
             "linecolor": "white",
             "minorgridcolor": "white",
             "startlinecolor": "#2a3f5f"
            },
            "baxis": {
             "endlinecolor": "#2a3f5f",
             "gridcolor": "white",
             "linecolor": "white",
             "minorgridcolor": "white",
             "startlinecolor": "#2a3f5f"
            },
            "type": "carpet"
           }
          ],
          "choropleth": [
           {
            "colorbar": {
             "outlinewidth": 0,
             "ticks": ""
            },
            "type": "choropleth"
           }
          ],
          "contour": [
           {
            "colorbar": {
             "outlinewidth": 0,
             "ticks": ""
            },
            "colorscale": [
             [
              0,
              "#0d0887"
             ],
             [
              0.1111111111111111,
              "#46039f"
             ],
             [
              0.2222222222222222,
              "#7201a8"
             ],
             [
              0.3333333333333333,
              "#9c179e"
             ],
             [
              0.4444444444444444,
              "#bd3786"
             ],
             [
              0.5555555555555556,
              "#d8576b"
             ],
             [
              0.6666666666666666,
              "#ed7953"
             ],
             [
              0.7777777777777778,
              "#fb9f3a"
             ],
             [
              0.8888888888888888,
              "#fdca26"
             ],
             [
              1,
              "#f0f921"
             ]
            ],
            "type": "contour"
           }
          ],
          "contourcarpet": [
           {
            "colorbar": {
             "outlinewidth": 0,
             "ticks": ""
            },
            "type": "contourcarpet"
           }
          ],
          "heatmap": [
           {
            "colorbar": {
             "outlinewidth": 0,
             "ticks": ""
            },
            "colorscale": [
             [
              0,
              "#0d0887"
             ],
             [
              0.1111111111111111,
              "#46039f"
             ],
             [
              0.2222222222222222,
              "#7201a8"
             ],
             [
              0.3333333333333333,
              "#9c179e"
             ],
             [
              0.4444444444444444,
              "#bd3786"
             ],
             [
              0.5555555555555556,
              "#d8576b"
             ],
             [
              0.6666666666666666,
              "#ed7953"
             ],
             [
              0.7777777777777778,
              "#fb9f3a"
             ],
             [
              0.8888888888888888,
              "#fdca26"
             ],
             [
              1,
              "#f0f921"
             ]
            ],
            "type": "heatmap"
           }
          ],
          "histogram": [
           {
            "marker": {
             "pattern": {
              "fillmode": "overlay",
              "size": 10,
              "solidity": 0.2
             }
            },
            "type": "histogram"
           }
          ],
          "histogram2d": [
           {
            "colorbar": {
             "outlinewidth": 0,
             "ticks": ""
            },
            "colorscale": [
             [
              0,
              "#0d0887"
             ],
             [
              0.1111111111111111,
              "#46039f"
             ],
             [
              0.2222222222222222,
              "#7201a8"
             ],
             [
              0.3333333333333333,
              "#9c179e"
             ],
             [
              0.4444444444444444,
              "#bd3786"
             ],
             [
              0.5555555555555556,
              "#d8576b"
             ],
             [
              0.6666666666666666,
              "#ed7953"
             ],
             [
              0.7777777777777778,
              "#fb9f3a"
             ],
             [
              0.8888888888888888,
              "#fdca26"
             ],
             [
              1,
              "#f0f921"
             ]
            ],
            "type": "histogram2d"
           }
          ],
          "histogram2dcontour": [
           {
            "colorbar": {
             "outlinewidth": 0,
             "ticks": ""
            },
            "colorscale": [
             [
              0,
              "#0d0887"
             ],
             [
              0.1111111111111111,
              "#46039f"
             ],
             [
              0.2222222222222222,
              "#7201a8"
             ],
             [
              0.3333333333333333,
              "#9c179e"
             ],
             [
              0.4444444444444444,
              "#bd3786"
             ],
             [
              0.5555555555555556,
              "#d8576b"
             ],
             [
              0.6666666666666666,
              "#ed7953"
             ],
             [
              0.7777777777777778,
              "#fb9f3a"
             ],
             [
              0.8888888888888888,
              "#fdca26"
             ],
             [
              1,
              "#f0f921"
             ]
            ],
            "type": "histogram2dcontour"
           }
          ],
          "mesh3d": [
           {
            "colorbar": {
             "outlinewidth": 0,
             "ticks": ""
            },
            "type": "mesh3d"
           }
          ],
          "parcoords": [
           {
            "line": {
             "colorbar": {
              "outlinewidth": 0,
              "ticks": ""
             }
            },
            "type": "parcoords"
           }
          ],
          "pie": [
           {
            "automargin": true,
            "type": "pie"
           }
          ],
          "scatter": [
           {
            "fillpattern": {
             "fillmode": "overlay",
             "size": 10,
             "solidity": 0.2
            },
            "type": "scatter"
           }
          ],
          "scatter3d": [
           {
            "line": {
             "colorbar": {
              "outlinewidth": 0,
              "ticks": ""
             }
            },
            "marker": {
             "colorbar": {
              "outlinewidth": 0,
              "ticks": ""
             }
            },
            "type": "scatter3d"
           }
          ],
          "scattercarpet": [
           {
            "marker": {
             "colorbar": {
              "outlinewidth": 0,
              "ticks": ""
             }
            },
            "type": "scattercarpet"
           }
          ],
          "scattergeo": [
           {
            "marker": {
             "colorbar": {
              "outlinewidth": 0,
              "ticks": ""
             }
            },
            "type": "scattergeo"
           }
          ],
          "scattergl": [
           {
            "marker": {
             "colorbar": {
              "outlinewidth": 0,
              "ticks": ""
             }
            },
            "type": "scattergl"
           }
          ],
          "scattermap": [
           {
            "marker": {
             "colorbar": {
              "outlinewidth": 0,
              "ticks": ""
             }
            },
            "type": "scattermap"
           }
          ],
          "scattermapbox": [
           {
            "marker": {
             "colorbar": {
              "outlinewidth": 0,
              "ticks": ""
             }
            },
            "type": "scattermapbox"
           }
          ],
          "scatterpolar": [
           {
            "marker": {
             "colorbar": {
              "outlinewidth": 0,
              "ticks": ""
             }
            },
            "type": "scatterpolar"
           }
          ],
          "scatterpolargl": [
           {
            "marker": {
             "colorbar": {
              "outlinewidth": 0,
              "ticks": ""
             }
            },
            "type": "scatterpolargl"
           }
          ],
          "scatterternary": [
           {
            "marker": {
             "colorbar": {
              "outlinewidth": 0,
              "ticks": ""
             }
            },
            "type": "scatterternary"
           }
          ],
          "surface": [
           {
            "colorbar": {
             "outlinewidth": 0,
             "ticks": ""
            },
            "colorscale": [
             [
              0,
              "#0d0887"
             ],
             [
              0.1111111111111111,
              "#46039f"
             ],
             [
              0.2222222222222222,
              "#7201a8"
             ],
             [
              0.3333333333333333,
              "#9c179e"
             ],
             [
              0.4444444444444444,
              "#bd3786"
             ],
             [
              0.5555555555555556,
              "#d8576b"
             ],
             [
              0.6666666666666666,
              "#ed7953"
             ],
             [
              0.7777777777777778,
              "#fb9f3a"
             ],
             [
              0.8888888888888888,
              "#fdca26"
             ],
             [
              1,
              "#f0f921"
             ]
            ],
            "type": "surface"
           }
          ],
          "table": [
           {
            "cells": {
             "fill": {
              "color": "#EBF0F8"
             },
             "line": {
              "color": "white"
             }
            },
            "header": {
             "fill": {
              "color": "#C8D4E3"
             },
             "line": {
              "color": "white"
             }
            },
            "type": "table"
           }
          ]
         },
         "layout": {
          "annotationdefaults": {
           "arrowcolor": "#2a3f5f",
           "arrowhead": 0,
           "arrowwidth": 1
          },
          "autotypenumbers": "strict",
          "coloraxis": {
           "colorbar": {
            "outlinewidth": 0,
            "ticks": ""
           }
          },
          "colorscale": {
           "diverging": [
            [
             0,
             "#8e0152"
            ],
            [
             0.1,
             "#c51b7d"
            ],
            [
             0.2,
             "#de77ae"
            ],
            [
             0.3,
             "#f1b6da"
            ],
            [
             0.4,
             "#fde0ef"
            ],
            [
             0.5,
             "#f7f7f7"
            ],
            [
             0.6,
             "#e6f5d0"
            ],
            [
             0.7,
             "#b8e186"
            ],
            [
             0.8,
             "#7fbc41"
            ],
            [
             0.9,
             "#4d9221"
            ],
            [
             1,
             "#276419"
            ]
           ],
           "sequential": [
            [
             0,
             "#0d0887"
            ],
            [
             0.1111111111111111,
             "#46039f"
            ],
            [
             0.2222222222222222,
             "#7201a8"
            ],
            [
             0.3333333333333333,
             "#9c179e"
            ],
            [
             0.4444444444444444,
             "#bd3786"
            ],
            [
             0.5555555555555556,
             "#d8576b"
            ],
            [
             0.6666666666666666,
             "#ed7953"
            ],
            [
             0.7777777777777778,
             "#fb9f3a"
            ],
            [
             0.8888888888888888,
             "#fdca26"
            ],
            [
             1,
             "#f0f921"
            ]
           ],
           "sequentialminus": [
            [
             0,
             "#0d0887"
            ],
            [
             0.1111111111111111,
             "#46039f"
            ],
            [
             0.2222222222222222,
             "#7201a8"
            ],
            [
             0.3333333333333333,
             "#9c179e"
            ],
            [
             0.4444444444444444,
             "#bd3786"
            ],
            [
             0.5555555555555556,
             "#d8576b"
            ],
            [
             0.6666666666666666,
             "#ed7953"
            ],
            [
             0.7777777777777778,
             "#fb9f3a"
            ],
            [
             0.8888888888888888,
             "#fdca26"
            ],
            [
             1,
             "#f0f921"
            ]
           ]
          },
          "colorway": [
           "#636efa",
           "#EF553B",
           "#00cc96",
           "#ab63fa",
           "#FFA15A",
           "#19d3f3",
           "#FF6692",
           "#B6E880",
           "#FF97FF",
           "#FECB52"
          ],
          "font": {
           "color": "#2a3f5f"
          },
          "geo": {
           "bgcolor": "white",
           "lakecolor": "white",
           "landcolor": "#E5ECF6",
           "showlakes": true,
           "showland": true,
           "subunitcolor": "white"
          },
          "hoverlabel": {
           "align": "left"
          },
          "hovermode": "closest",
          "mapbox": {
           "style": "light"
          },
          "paper_bgcolor": "white",
          "plot_bgcolor": "#E5ECF6",
          "polar": {
           "angularaxis": {
            "gridcolor": "white",
            "linecolor": "white",
            "ticks": ""
           },
           "bgcolor": "#E5ECF6",
           "radialaxis": {
            "gridcolor": "white",
            "linecolor": "white",
            "ticks": ""
           }
          },
          "scene": {
           "xaxis": {
            "backgroundcolor": "#E5ECF6",
            "gridcolor": "white",
            "gridwidth": 2,
            "linecolor": "white",
            "showbackground": true,
            "ticks": "",
            "zerolinecolor": "white"
           },
           "yaxis": {
            "backgroundcolor": "#E5ECF6",
            "gridcolor": "white",
            "gridwidth": 2,
            "linecolor": "white",
            "showbackground": true,
            "ticks": "",
            "zerolinecolor": "white"
           },
           "zaxis": {
            "backgroundcolor": "#E5ECF6",
            "gridcolor": "white",
            "gridwidth": 2,
            "linecolor": "white",
            "showbackground": true,
            "ticks": "",
            "zerolinecolor": "white"
           }
          },
          "shapedefaults": {
           "line": {
            "color": "#2a3f5f"
           }
          },
          "ternary": {
           "aaxis": {
            "gridcolor": "white",
            "linecolor": "white",
            "ticks": ""
           },
           "baxis": {
            "gridcolor": "white",
            "linecolor": "white",
            "ticks": ""
           },
           "bgcolor": "#E5ECF6",
           "caxis": {
            "gridcolor": "white",
            "linecolor": "white",
            "ticks": ""
           }
          },
          "title": {
           "x": 0.05
          },
          "xaxis": {
           "automargin": true,
           "gridcolor": "white",
           "linecolor": "white",
           "ticks": "",
           "title": {
            "standoff": 15
           },
           "zerolinecolor": "white",
           "zerolinewidth": 2
          },
          "yaxis": {
           "automargin": true,
           "gridcolor": "white",
           "linecolor": "white",
           "ticks": "",
           "title": {
            "standoff": 15
           },
           "zerolinecolor": "white",
           "zerolinewidth": 2
          }
         }
        },
        "title": {
         "font": {
          "size": 16
         },
         "text": "Distribution of age with Outliers",
         "x": 0.5,
         "xanchor": "center"
        },
        "xaxis": {
         "anchor": "y",
         "domain": [
          0,
          1
         ],
         "gridcolor": "#878787",
         "title": {
          "text": "age"
         },
         "zerolinecolor": "#1F1F1F"
        },
        "yaxis": {
         "anchor": "x",
         "domain": [
          0,
          1
         ]
        }
       }
      }
     },
     "metadata": {},
     "output_type": "display_data"
    },
    {
     "data": {
      "application/vnd.plotly.v1+json": {
       "config": {
        "plotlyServerURL": "https://plot.ly"
       },
       "data": [
        {
         "alignmentgroup": "True",
         "boxpoints": "outliers",
         "hovertemplate": "trestbps=%{x}<extra></extra>",
         "legendgroup": "",
         "line": {
          "width": 2
         },
         "marker": {
          "color": "#1f77b4",
          "size": 9
         },
         "name": "",
         "notched": false,
         "offsetgroup": "",
         "orientation": "h",
         "showlegend": false,
         "type": "box",
         "x": {
          "bdata": "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",
          "dtype": "f8"
         },
         "x0": " ",
         "xaxis": "x",
         "y0": " ",
         "yaxis": "y"
        }
       ],
       "layout": {
        "boxmode": "group",
        "font": {
         "color": "#878787",
         "size": 12
        },
        "height": 400,
        "legend": {
         "tracegroupgap": 0
        },
        "paper_bgcolor": "rgba(0,0,0,0)",
        "plot_bgcolor": "rgba(0,0,0,0)",
        "template": {
         "data": {
          "bar": [
           {
            "error_x": {
             "color": "#2a3f5f"
            },
            "error_y": {
             "color": "#2a3f5f"
            },
            "marker": {
             "line": {
              "color": "#E5ECF6",
              "width": 0.5
             },
             "pattern": {
              "fillmode": "overlay",
              "size": 10,
              "solidity": 0.2
             }
            },
            "type": "bar"
           }
          ],
          "barpolar": [
           {
            "marker": {
             "line": {
              "color": "#E5ECF6",
              "width": 0.5
             },
             "pattern": {
              "fillmode": "overlay",
              "size": 10,
              "solidity": 0.2
             }
            },
            "type": "barpolar"
           }
          ],
          "carpet": [
           {
            "aaxis": {
             "endlinecolor": "#2a3f5f",
             "gridcolor": "white",
             "linecolor": "white",
             "minorgridcolor": "white",
             "startlinecolor": "#2a3f5f"
            },
            "baxis": {
             "endlinecolor": "#2a3f5f",
             "gridcolor": "white",
             "linecolor": "white",
             "minorgridcolor": "white",
             "startlinecolor": "#2a3f5f"
            },
            "type": "carpet"
           }
          ],
          "choropleth": [
           {
            "colorbar": {
             "outlinewidth": 0,
             "ticks": ""
            },
            "type": "choropleth"
           }
          ],
          "contour": [
           {
            "colorbar": {
             "outlinewidth": 0,
             "ticks": ""
            },
            "colorscale": [
             [
              0,
              "#0d0887"
             ],
             [
              0.1111111111111111,
              "#46039f"
             ],
             [
              0.2222222222222222,
              "#7201a8"
             ],
             [
              0.3333333333333333,
              "#9c179e"
             ],
             [
              0.4444444444444444,
              "#bd3786"
             ],
             [
              0.5555555555555556,
              "#d8576b"
             ],
             [
              0.6666666666666666,
              "#ed7953"
             ],
             [
              0.7777777777777778,
              "#fb9f3a"
             ],
             [
              0.8888888888888888,
              "#fdca26"
             ],
             [
              1,
              "#f0f921"
             ]
            ],
            "type": "contour"
           }
          ],
          "contourcarpet": [
           {
            "colorbar": {
             "outlinewidth": 0,
             "ticks": ""
            },
            "type": "contourcarpet"
           }
          ],
          "heatmap": [
           {
            "colorbar": {
             "outlinewidth": 0,
             "ticks": ""
            },
            "colorscale": [
             [
              0,
              "#0d0887"
             ],
             [
              0.1111111111111111,
              "#46039f"
             ],
             [
              0.2222222222222222,
              "#7201a8"
             ],
             [
              0.3333333333333333,
              "#9c179e"
             ],
             [
              0.4444444444444444,
              "#bd3786"
             ],
             [
              0.5555555555555556,
              "#d8576b"
             ],
             [
              0.6666666666666666,
              "#ed7953"
             ],
             [
              0.7777777777777778,
              "#fb9f3a"
             ],
             [
              0.8888888888888888,
              "#fdca26"
             ],
             [
              1,
              "#f0f921"
             ]
            ],
            "type": "heatmap"
           }
          ],
          "histogram": [
           {
            "marker": {
             "pattern": {
              "fillmode": "overlay",
              "size": 10,
              "solidity": 0.2
             }
            },
            "type": "histogram"
           }
          ],
          "histogram2d": [
           {
            "colorbar": {
             "outlinewidth": 0,
             "ticks": ""
            },
            "colorscale": [
             [
              0,
              "#0d0887"
             ],
             [
              0.1111111111111111,
              "#46039f"
             ],
             [
              0.2222222222222222,
              "#7201a8"
             ],
             [
              0.3333333333333333,
              "#9c179e"
             ],
             [
              0.4444444444444444,
              "#bd3786"
             ],
             [
              0.5555555555555556,
              "#d8576b"
             ],
             [
              0.6666666666666666,
              "#ed7953"
             ],
             [
              0.7777777777777778,
              "#fb9f3a"
             ],
             [
              0.8888888888888888,
              "#fdca26"
             ],
             [
              1,
              "#f0f921"
             ]
            ],
            "type": "histogram2d"
           }
          ],
          "histogram2dcontour": [
           {
            "colorbar": {
             "outlinewidth": 0,
             "ticks": ""
            },
            "colorscale": [
             [
              0,
              "#0d0887"
             ],
             [
              0.1111111111111111,
              "#46039f"
             ],
             [
              0.2222222222222222,
              "#7201a8"
             ],
             [
              0.3333333333333333,
              "#9c179e"
             ],
             [
              0.4444444444444444,
              "#bd3786"
             ],
             [
              0.5555555555555556,
              "#d8576b"
             ],
             [
              0.6666666666666666,
              "#ed7953"
             ],
             [
              0.7777777777777778,
              "#fb9f3a"
             ],
             [
              0.8888888888888888,
              "#fdca26"
             ],
             [
              1,
              "#f0f921"
             ]
            ],
            "type": "histogram2dcontour"
           }
          ],
          "mesh3d": [
           {
            "colorbar": {
             "outlinewidth": 0,
             "ticks": ""
            },
            "type": "mesh3d"
           }
          ],
          "parcoords": [
           {
            "line": {
             "colorbar": {
              "outlinewidth": 0,
              "ticks": ""
             }
            },
            "type": "parcoords"
           }
          ],
          "pie": [
           {
            "automargin": true,
            "type": "pie"
           }
          ],
          "scatter": [
           {
            "fillpattern": {
             "fillmode": "overlay",
             "size": 10,
             "solidity": 0.2
            },
            "type": "scatter"
           }
          ],
          "scatter3d": [
           {
            "line": {
             "colorbar": {
              "outlinewidth": 0,
              "ticks": ""
             }
            },
            "marker": {
             "colorbar": {
              "outlinewidth": 0,
              "ticks": ""
             }
            },
            "type": "scatter3d"
           }
          ],
          "scattercarpet": [
           {
            "marker": {
             "colorbar": {
              "outlinewidth": 0,
              "ticks": ""
             }
            },
            "type": "scattercarpet"
           }
          ],
          "scattergeo": [
           {
            "marker": {
             "colorbar": {
              "outlinewidth": 0,
              "ticks": ""
             }
            },
            "type": "scattergeo"
           }
          ],
          "scattergl": [
           {
            "marker": {
             "colorbar": {
              "outlinewidth": 0,
              "ticks": ""
             }
            },
            "type": "scattergl"
           }
          ],
          "scattermap": [
           {
            "marker": {
             "colorbar": {
              "outlinewidth": 0,
              "ticks": ""
             }
            },
            "type": "scattermap"
           }
          ],
          "scattermapbox": [
           {
            "marker": {
             "colorbar": {
              "outlinewidth": 0,
              "ticks": ""
             }
            },
            "type": "scattermapbox"
           }
          ],
          "scatterpolar": [
           {
            "marker": {
             "colorbar": {
              "outlinewidth": 0,
              "ticks": ""
             }
            },
            "type": "scatterpolar"
           }
          ],
          "scatterpolargl": [
           {
            "marker": {
             "colorbar": {
              "outlinewidth": 0,
              "ticks": ""
             }
            },
            "type": "scatterpolargl"
           }
          ],
          "scatterternary": [
           {
            "marker": {
             "colorbar": {
              "outlinewidth": 0,
              "ticks": ""
             }
            },
            "type": "scatterternary"
           }
          ],
          "surface": [
           {
            "colorbar": {
             "outlinewidth": 0,
             "ticks": ""
            },
            "colorscale": [
             [
              0,
              "#0d0887"
             ],
             [
              0.1111111111111111,
              "#46039f"
             ],
             [
              0.2222222222222222,
              "#7201a8"
             ],
             [
              0.3333333333333333,
              "#9c179e"
             ],
             [
              0.4444444444444444,
              "#bd3786"
             ],
             [
              0.5555555555555556,
              "#d8576b"
             ],
             [
              0.6666666666666666,
              "#ed7953"
             ],
             [
              0.7777777777777778,
              "#fb9f3a"
             ],
             [
              0.8888888888888888,
              "#fdca26"
             ],
             [
              1,
              "#f0f921"
             ]
            ],
            "type": "surface"
           }
          ],
          "table": [
           {
            "cells": {
             "fill": {
              "color": "#EBF0F8"
             },
             "line": {
              "color": "white"
             }
            },
            "header": {
             "fill": {
              "color": "#C8D4E3"
             },
             "line": {
              "color": "white"
             }
            },
            "type": "table"
           }
          ]
         },
         "layout": {
          "annotationdefaults": {
           "arrowcolor": "#2a3f5f",
           "arrowhead": 0,
           "arrowwidth": 1
          },
          "autotypenumbers": "strict",
          "coloraxis": {
           "colorbar": {
            "outlinewidth": 0,
            "ticks": ""
           }
          },
          "colorscale": {
           "diverging": [
            [
             0,
             "#8e0152"
            ],
            [
             0.1,
             "#c51b7d"
            ],
            [
             0.2,
             "#de77ae"
            ],
            [
             0.3,
             "#f1b6da"
            ],
            [
             0.4,
             "#fde0ef"
            ],
            [
             0.5,
             "#f7f7f7"
            ],
            [
             0.6,
             "#e6f5d0"
            ],
            [
             0.7,
             "#b8e186"
            ],
            [
             0.8,
             "#7fbc41"
            ],
            [
             0.9,
             "#4d9221"
            ],
            [
             1,
             "#276419"
            ]
           ],
           "sequential": [
            [
             0,
             "#0d0887"
            ],
            [
             0.1111111111111111,
             "#46039f"
            ],
            [
             0.2222222222222222,
             "#7201a8"
            ],
            [
             0.3333333333333333,
             "#9c179e"
            ],
            [
             0.4444444444444444,
             "#bd3786"
            ],
            [
             0.5555555555555556,
             "#d8576b"
            ],
            [
             0.6666666666666666,
             "#ed7953"
            ],
            [
             0.7777777777777778,
             "#fb9f3a"
            ],
            [
             0.8888888888888888,
             "#fdca26"
            ],
            [
             1,
             "#f0f921"
            ]
           ],
           "sequentialminus": [
            [
             0,
             "#0d0887"
            ],
            [
             0.1111111111111111,
             "#46039f"
            ],
            [
             0.2222222222222222,
             "#7201a8"
            ],
            [
             0.3333333333333333,
             "#9c179e"
            ],
            [
             0.4444444444444444,
             "#bd3786"
            ],
            [
             0.5555555555555556,
             "#d8576b"
            ],
            [
             0.6666666666666666,
             "#ed7953"
            ],
            [
             0.7777777777777778,
             "#fb9f3a"
            ],
            [
             0.8888888888888888,
             "#fdca26"
            ],
            [
             1,
             "#f0f921"
            ]
           ]
          },
          "colorway": [
           "#636efa",
           "#EF553B",
           "#00cc96",
           "#ab63fa",
           "#FFA15A",
           "#19d3f3",
           "#FF6692",
           "#B6E880",
           "#FF97FF",
           "#FECB52"
          ],
          "font": {
           "color": "#2a3f5f"
          },
          "geo": {
           "bgcolor": "white",
           "lakecolor": "white",
           "landcolor": "#E5ECF6",
           "showlakes": true,
           "showland": true,
           "subunitcolor": "white"
          },
          "hoverlabel": {
           "align": "left"
          },
          "hovermode": "closest",
          "mapbox": {
           "style": "light"
          },
          "paper_bgcolor": "white",
          "plot_bgcolor": "#E5ECF6",
          "polar": {
           "angularaxis": {
            "gridcolor": "white",
            "linecolor": "white",
            "ticks": ""
           },
           "bgcolor": "#E5ECF6",
           "radialaxis": {
            "gridcolor": "white",
            "linecolor": "white",
            "ticks": ""
           }
          },
          "scene": {
           "xaxis": {
            "backgroundcolor": "#E5ECF6",
            "gridcolor": "white",
            "gridwidth": 2,
            "linecolor": "white",
            "showbackground": true,
            "ticks": "",
            "zerolinecolor": "white"
           },
           "yaxis": {
            "backgroundcolor": "#E5ECF6",
            "gridcolor": "white",
            "gridwidth": 2,
            "linecolor": "white",
            "showbackground": true,
            "ticks": "",
            "zerolinecolor": "white"
           },
           "zaxis": {
            "backgroundcolor": "#E5ECF6",
            "gridcolor": "white",
            "gridwidth": 2,
            "linecolor": "white",
            "showbackground": true,
            "ticks": "",
            "zerolinecolor": "white"
           }
          },
          "shapedefaults": {
           "line": {
            "color": "#2a3f5f"
           }
          },
          "ternary": {
           "aaxis": {
            "gridcolor": "white",
            "linecolor": "white",
            "ticks": ""
           },
           "baxis": {
            "gridcolor": "white",
            "linecolor": "white",
            "ticks": ""
           },
           "bgcolor": "#E5ECF6",
           "caxis": {
            "gridcolor": "white",
            "linecolor": "white",
            "ticks": ""
           }
          },
          "title": {
           "x": 0.05
          },
          "xaxis": {
           "automargin": true,
           "gridcolor": "white",
           "linecolor": "white",
           "ticks": "",
           "title": {
            "standoff": 15
           },
           "zerolinecolor": "white",
           "zerolinewidth": 2
          },
          "yaxis": {
           "automargin": true,
           "gridcolor": "white",
           "linecolor": "white",
           "ticks": "",
           "title": {
            "standoff": 15
           },
           "zerolinecolor": "white",
           "zerolinewidth": 2
          }
         }
        },
        "title": {
         "font": {
          "size": 16
         },
         "text": "Distribution of trestbps with Outliers",
         "x": 0.5,
         "xanchor": "center"
        },
        "xaxis": {
         "anchor": "y",
         "domain": [
          0,
          1
         ],
         "gridcolor": "#878787",
         "title": {
          "text": "trestbps"
         },
         "zerolinecolor": "#1F1F1F"
        },
        "yaxis": {
         "anchor": "x",
         "domain": [
          0,
          1
         ]
        }
       }
      }
     },
     "metadata": {},
     "output_type": "display_data"
    },
    {
     "data": {
      "application/vnd.plotly.v1+json": {
       "config": {
        "plotlyServerURL": "https://plot.ly"
       },
       "data": [
        {
         "alignmentgroup": "True",
         "boxpoints": "outliers",
         "hovertemplate": "chol=%{x}<extra></extra>",
         "legendgroup": "",
         "line": {
          "width": 2
         },
         "marker": {
          "color": "#1f77b4",
          "size": 9
         },
         "name": "",
         "notched": false,
         "offsetgroup": "",
         "orientation": "h",
         "showlegend": false,
         "type": "box",
         "x": {
          "bdata": "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",
          "dtype": "f8"
         },
         "x0": " ",
         "xaxis": "x",
         "y0": " ",
         "yaxis": "y"
        }
       ],
       "layout": {
        "boxmode": "group",
        "font": {
         "color": "#878787",
         "size": 12
        },
        "height": 400,
        "legend": {
         "tracegroupgap": 0
        },
        "paper_bgcolor": "rgba(0,0,0,0)",
        "plot_bgcolor": "rgba(0,0,0,0)",
        "template": {
         "data": {
          "bar": [
           {
            "error_x": {
             "color": "#2a3f5f"
            },
            "error_y": {
             "color": "#2a3f5f"
            },
            "marker": {
             "line": {
              "color": "#E5ECF6",
              "width": 0.5
             },
             "pattern": {
              "fillmode": "overlay",
              "size": 10,
              "solidity": 0.2
             }
            },
            "type": "bar"
           }
          ],
          "barpolar": [
           {
            "marker": {
             "line": {
              "color": "#E5ECF6",
              "width": 0.5
             },
             "pattern": {
              "fillmode": "overlay",
              "size": 10,
              "solidity": 0.2
             }
            },
            "type": "barpolar"
           }
          ],
          "carpet": [
           {
            "aaxis": {
             "endlinecolor": "#2a3f5f",
             "gridcolor": "white",
             "linecolor": "white",
             "minorgridcolor": "white",
             "startlinecolor": "#2a3f5f"
            },
            "baxis": {
             "endlinecolor": "#2a3f5f",
             "gridcolor": "white",
             "linecolor": "white",
             "minorgridcolor": "white",
             "startlinecolor": "#2a3f5f"
            },
            "type": "carpet"
           }
          ],
          "choropleth": [
           {
            "colorbar": {
             "outlinewidth": 0,
             "ticks": ""
            },
            "type": "choropleth"
           }
          ],
          "contour": [
           {
            "colorbar": {
             "outlinewidth": 0,
             "ticks": ""
            },
            "colorscale": [
             [
              0,
              "#0d0887"
             ],
             [
              0.1111111111111111,
              "#46039f"
             ],
             [
              0.2222222222222222,
              "#7201a8"
             ],
             [
              0.3333333333333333,
              "#9c179e"
             ],
             [
              0.4444444444444444,
              "#bd3786"
             ],
             [
              0.5555555555555556,
              "#d8576b"
             ],
             [
              0.6666666666666666,
              "#ed7953"
             ],
             [
              0.7777777777777778,
              "#fb9f3a"
             ],
             [
              0.8888888888888888,
              "#fdca26"
             ],
             [
              1,
              "#f0f921"
             ]
            ],
            "type": "contour"
           }
          ],
          "contourcarpet": [
           {
            "colorbar": {
             "outlinewidth": 0,
             "ticks": ""
            },
            "type": "contourcarpet"
           }
          ],
          "heatmap": [
           {
            "colorbar": {
             "outlinewidth": 0,
             "ticks": ""
            },
            "colorscale": [
             [
              0,
              "#0d0887"
             ],
             [
              0.1111111111111111,
              "#46039f"
             ],
             [
              0.2222222222222222,
              "#7201a8"
             ],
             [
              0.3333333333333333,
              "#9c179e"
             ],
             [
              0.4444444444444444,
              "#bd3786"
             ],
             [
              0.5555555555555556,
              "#d8576b"
             ],
             [
              0.6666666666666666,
              "#ed7953"
             ],
             [
              0.7777777777777778,
              "#fb9f3a"
             ],
             [
              0.8888888888888888,
              "#fdca26"
             ],
             [
              1,
              "#f0f921"
             ]
            ],
            "type": "heatmap"
           }
          ],
          "histogram": [
           {
            "marker": {
             "pattern": {
              "fillmode": "overlay",
              "size": 10,
              "solidity": 0.2
             }
            },
            "type": "histogram"
           }
          ],
          "histogram2d": [
           {
            "colorbar": {
             "outlinewidth": 0,
             "ticks": ""
            },
            "colorscale": [
             [
              0,
              "#0d0887"
             ],
             [
              0.1111111111111111,
              "#46039f"
             ],
             [
              0.2222222222222222,
              "#7201a8"
             ],
             [
              0.3333333333333333,
              "#9c179e"
             ],
             [
              0.4444444444444444,
              "#bd3786"
             ],
             [
              0.5555555555555556,
              "#d8576b"
             ],
             [
              0.6666666666666666,
              "#ed7953"
             ],
             [
              0.7777777777777778,
              "#fb9f3a"
             ],
             [
              0.8888888888888888,
              "#fdca26"
             ],
             [
              1,
              "#f0f921"
             ]
            ],
            "type": "histogram2d"
           }
          ],
          "histogram2dcontour": [
           {
            "colorbar": {
             "outlinewidth": 0,
             "ticks": ""
            },
            "colorscale": [
             [
              0,
              "#0d0887"
             ],
             [
              0.1111111111111111,
              "#46039f"
             ],
             [
              0.2222222222222222,
              "#7201a8"
             ],
             [
              0.3333333333333333,
              "#9c179e"
             ],
             [
              0.4444444444444444,
              "#bd3786"
             ],
             [
              0.5555555555555556,
              "#d8576b"
             ],
             [
              0.6666666666666666,
              "#ed7953"
             ],
             [
              0.7777777777777778,
              "#fb9f3a"
             ],
             [
              0.8888888888888888,
              "#fdca26"
             ],
             [
              1,
              "#f0f921"
             ]
            ],
            "type": "histogram2dcontour"
           }
          ],
          "mesh3d": [
           {
            "colorbar": {
             "outlinewidth": 0,
             "ticks": ""
            },
            "type": "mesh3d"
           }
          ],
          "parcoords": [
           {
            "line": {
             "colorbar": {
              "outlinewidth": 0,
              "ticks": ""
             }
            },
            "type": "parcoords"
           }
          ],
          "pie": [
           {
            "automargin": true,
            "type": "pie"
           }
          ],
          "scatter": [
           {
            "fillpattern": {
             "fillmode": "overlay",
             "size": 10,
             "solidity": 0.2
            },
            "type": "scatter"
           }
          ],
          "scatter3d": [
           {
            "line": {
             "colorbar": {
              "outlinewidth": 0,
              "ticks": ""
             }
            },
            "marker": {
             "colorbar": {
              "outlinewidth": 0,
              "ticks": ""
             }
            },
            "type": "scatter3d"
           }
          ],
          "scattercarpet": [
           {
            "marker": {
             "colorbar": {
              "outlinewidth": 0,
              "ticks": ""
             }
            },
            "type": "scattercarpet"
           }
          ],
          "scattergeo": [
           {
            "marker": {
             "colorbar": {
              "outlinewidth": 0,
              "ticks": ""
             }
            },
            "type": "scattergeo"
           }
          ],
          "scattergl": [
           {
            "marker": {
             "colorbar": {
              "outlinewidth": 0,
              "ticks": ""
             }
            },
            "type": "scattergl"
           }
          ],
          "scattermap": [
           {
            "marker": {
             "colorbar": {
              "outlinewidth": 0,
              "ticks": ""
             }
            },
            "type": "scattermap"
           }
          ],
          "scattermapbox": [
           {
            "marker": {
             "colorbar": {
              "outlinewidth": 0,
              "ticks": ""
             }
            },
            "type": "scattermapbox"
           }
          ],
          "scatterpolar": [
           {
            "marker": {
             "colorbar": {
              "outlinewidth": 0,
              "ticks": ""
             }
            },
            "type": "scatterpolar"
           }
          ],
          "scatterpolargl": [
           {
            "marker": {
             "colorbar": {
              "outlinewidth": 0,
              "ticks": ""
             }
            },
            "type": "scatterpolargl"
           }
          ],
          "scatterternary": [
           {
            "marker": {
             "colorbar": {
              "outlinewidth": 0,
              "ticks": ""
             }
            },
            "type": "scatterternary"
           }
          ],
          "surface": [
           {
            "colorbar": {
             "outlinewidth": 0,
             "ticks": ""
            },
            "colorscale": [
             [
              0,
              "#0d0887"
             ],
             [
              0.1111111111111111,
              "#46039f"
             ],
             [
              0.2222222222222222,
              "#7201a8"
             ],
             [
              0.3333333333333333,
              "#9c179e"
             ],
             [
              0.4444444444444444,
              "#bd3786"
             ],
             [
              0.5555555555555556,
              "#d8576b"
             ],
             [
              0.6666666666666666,
              "#ed7953"
             ],
             [
              0.7777777777777778,
              "#fb9f3a"
             ],
             [
              0.8888888888888888,
              "#fdca26"
             ],
             [
              1,
              "#f0f921"
             ]
            ],
            "type": "surface"
           }
          ],
          "table": [
           {
            "cells": {
             "fill": {
              "color": "#EBF0F8"
             },
             "line": {
              "color": "white"
             }
            },
            "header": {
             "fill": {
              "color": "#C8D4E3"
             },
             "line": {
              "color": "white"
             }
            },
            "type": "table"
           }
          ]
         },
         "layout": {
          "annotationdefaults": {
           "arrowcolor": "#2a3f5f",
           "arrowhead": 0,
           "arrowwidth": 1
          },
          "autotypenumbers": "strict",
          "coloraxis": {
           "colorbar": {
            "outlinewidth": 0,
            "ticks": ""
           }
          },
          "colorscale": {
           "diverging": [
            [
             0,
             "#8e0152"
            ],
            [
             0.1,
             "#c51b7d"
            ],
            [
             0.2,
             "#de77ae"
            ],
            [
             0.3,
             "#f1b6da"
            ],
            [
             0.4,
             "#fde0ef"
            ],
            [
             0.5,
             "#f7f7f7"
            ],
            [
             0.6,
             "#e6f5d0"
            ],
            [
             0.7,
             "#b8e186"
            ],
            [
             0.8,
             "#7fbc41"
            ],
            [
             0.9,
             "#4d9221"
            ],
            [
             1,
             "#276419"
            ]
           ],
           "sequential": [
            [
             0,
             "#0d0887"
            ],
            [
             0.1111111111111111,
             "#46039f"
            ],
            [
             0.2222222222222222,
             "#7201a8"
            ],
            [
             0.3333333333333333,
             "#9c179e"
            ],
            [
             0.4444444444444444,
             "#bd3786"
            ],
            [
             0.5555555555555556,
             "#d8576b"
            ],
            [
             0.6666666666666666,
             "#ed7953"
            ],
            [
             0.7777777777777778,
             "#fb9f3a"
            ],
            [
             0.8888888888888888,
             "#fdca26"
            ],
            [
             1,
             "#f0f921"
            ]
           ],
           "sequentialminus": [
            [
             0,
             "#0d0887"
            ],
            [
             0.1111111111111111,
             "#46039f"
            ],
            [
             0.2222222222222222,
             "#7201a8"
            ],
            [
             0.3333333333333333,
             "#9c179e"
            ],
            [
             0.4444444444444444,
             "#bd3786"
            ],
            [
             0.5555555555555556,
             "#d8576b"
            ],
            [
             0.6666666666666666,
             "#ed7953"
            ],
            [
             0.7777777777777778,
             "#fb9f3a"
            ],
            [
             0.8888888888888888,
             "#fdca26"
            ],
            [
             1,
             "#f0f921"
            ]
           ]
          },
          "colorway": [
           "#636efa",
           "#EF553B",
           "#00cc96",
           "#ab63fa",
           "#FFA15A",
           "#19d3f3",
           "#FF6692",
           "#B6E880",
           "#FF97FF",
           "#FECB52"
          ],
          "font": {
           "color": "#2a3f5f"
          },
          "geo": {
           "bgcolor": "white",
           "lakecolor": "white",
           "landcolor": "#E5ECF6",
           "showlakes": true,
           "showland": true,
           "subunitcolor": "white"
          },
          "hoverlabel": {
           "align": "left"
          },
          "hovermode": "closest",
          "mapbox": {
           "style": "light"
          },
          "paper_bgcolor": "white",
          "plot_bgcolor": "#E5ECF6",
          "polar": {
           "angularaxis": {
            "gridcolor": "white",
            "linecolor": "white",
            "ticks": ""
           },
           "bgcolor": "#E5ECF6",
           "radialaxis": {
            "gridcolor": "white",
            "linecolor": "white",
            "ticks": ""
           }
          },
          "scene": {
           "xaxis": {
            "backgroundcolor": "#E5ECF6",
            "gridcolor": "white",
            "gridwidth": 2,
            "linecolor": "white",
            "showbackground": true,
            "ticks": "",
            "zerolinecolor": "white"
           },
           "yaxis": {
            "backgroundcolor": "#E5ECF6",
            "gridcolor": "white",
            "gridwidth": 2,
            "linecolor": "white",
            "showbackground": true,
            "ticks": "",
            "zerolinecolor": "white"
           },
           "zaxis": {
            "backgroundcolor": "#E5ECF6",
            "gridcolor": "white",
            "gridwidth": 2,
            "linecolor": "white",
            "showbackground": true,
            "ticks": "",
            "zerolinecolor": "white"
           }
          },
          "shapedefaults": {
           "line": {
            "color": "#2a3f5f"
           }
          },
          "ternary": {
           "aaxis": {
            "gridcolor": "white",
            "linecolor": "white",
            "ticks": ""
           },
           "baxis": {
            "gridcolor": "white",
            "linecolor": "white",
            "ticks": ""
           },
           "bgcolor": "#E5ECF6",
           "caxis": {
            "gridcolor": "white",
            "linecolor": "white",
            "ticks": ""
           }
          },
          "title": {
           "x": 0.05
          },
          "xaxis": {
           "automargin": true,
           "gridcolor": "white",
           "linecolor": "white",
           "ticks": "",
           "title": {
            "standoff": 15
           },
           "zerolinecolor": "white",
           "zerolinewidth": 2
          },
          "yaxis": {
           "automargin": true,
           "gridcolor": "white",
           "linecolor": "white",
           "ticks": "",
           "title": {
            "standoff": 15
           },
           "zerolinecolor": "white",
           "zerolinewidth": 2
          }
         }
        },
        "title": {
         "font": {
          "size": 16
         },
         "text": "Distribution of chol with Outliers",
         "x": 0.5,
         "xanchor": "center"
        },
        "xaxis": {
         "anchor": "y",
         "domain": [
          0,
          1
         ],
         "gridcolor": "#878787",
         "title": {
          "text": "chol"
         },
         "zerolinecolor": "#1F1F1F"
        },
        "yaxis": {
         "anchor": "x",
         "domain": [
          0,
          1
         ]
        }
       }
      }
     },
     "metadata": {},
     "output_type": "display_data"
    },
    {
     "data": {
      "application/vnd.plotly.v1+json": {
       "config": {
        "plotlyServerURL": "https://plot.ly"
       },
       "data": [
        {
         "alignmentgroup": "True",
         "boxpoints": "outliers",
         "hovertemplate": "thalach=%{x}<extra></extra>",
         "legendgroup": "",
         "line": {
          "width": 2
         },
         "marker": {
          "color": "#1f77b4",
          "size": 9
         },
         "name": "",
         "notched": false,
         "offsetgroup": "",
         "orientation": "h",
         "showlegend": false,
         "type": "box",
         "x": {
          "bdata": "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",
          "dtype": "f8"
         },
         "x0": " ",
         "xaxis": "x",
         "y0": " ",
         "yaxis": "y"
        }
       ],
       "layout": {
        "boxmode": "group",
        "font": {
         "color": "#878787",
         "size": 12
        },
        "height": 400,
        "legend": {
         "tracegroupgap": 0
        },
        "paper_bgcolor": "rgba(0,0,0,0)",
        "plot_bgcolor": "rgba(0,0,0,0)",
        "template": {
         "data": {
          "bar": [
           {
            "error_x": {
             "color": "#2a3f5f"
            },
            "error_y": {
             "color": "#2a3f5f"
            },
            "marker": {
             "line": {
              "color": "#E5ECF6",
              "width": 0.5
             },
             "pattern": {
              "fillmode": "overlay",
              "size": 10,
              "solidity": 0.2
             }
            },
            "type": "bar"
           }
          ],
          "barpolar": [
           {
            "marker": {
             "line": {
              "color": "#E5ECF6",
              "width": 0.5
             },
             "pattern": {
              "fillmode": "overlay",
              "size": 10,
              "solidity": 0.2
             }
            },
            "type": "barpolar"
           }
          ],
          "carpet": [
           {
            "aaxis": {
             "endlinecolor": "#2a3f5f",
             "gridcolor": "white",
             "linecolor": "white",
             "minorgridcolor": "white",
             "startlinecolor": "#2a3f5f"
            },
            "baxis": {
             "endlinecolor": "#2a3f5f",
             "gridcolor": "white",
             "linecolor": "white",
             "minorgridcolor": "white",
             "startlinecolor": "#2a3f5f"
            },
            "type": "carpet"
           }
          ],
          "choropleth": [
           {
            "colorbar": {
             "outlinewidth": 0,
             "ticks": ""
            },
            "type": "choropleth"
           }
          ],
          "contour": [
           {
            "colorbar": {
             "outlinewidth": 0,
             "ticks": ""
            },
            "colorscale": [
             [
              0,
              "#0d0887"
             ],
             [
              0.1111111111111111,
              "#46039f"
             ],
             [
              0.2222222222222222,
              "#7201a8"
             ],
             [
              0.3333333333333333,
              "#9c179e"
             ],
             [
              0.4444444444444444,
              "#bd3786"
             ],
             [
              0.5555555555555556,
              "#d8576b"
             ],
             [
              0.6666666666666666,
              "#ed7953"
             ],
             [
              0.7777777777777778,
              "#fb9f3a"
             ],
             [
              0.8888888888888888,
              "#fdca26"
             ],
             [
              1,
              "#f0f921"
             ]
            ],
            "type": "contour"
           }
          ],
          "contourcarpet": [
           {
            "colorbar": {
             "outlinewidth": 0,
             "ticks": ""
            },
            "type": "contourcarpet"
           }
          ],
          "heatmap": [
           {
            "colorbar": {
             "outlinewidth": 0,
             "ticks": ""
            },
            "colorscale": [
             [
              0,
              "#0d0887"
             ],
             [
              0.1111111111111111,
              "#46039f"
             ],
             [
              0.2222222222222222,
              "#7201a8"
             ],
             [
              0.3333333333333333,
              "#9c179e"
             ],
             [
              0.4444444444444444,
              "#bd3786"
             ],
             [
              0.5555555555555556,
              "#d8576b"
             ],
             [
              0.6666666666666666,
              "#ed7953"
             ],
             [
              0.7777777777777778,
              "#fb9f3a"
             ],
             [
              0.8888888888888888,
              "#fdca26"
             ],
             [
              1,
              "#f0f921"
             ]
            ],
            "type": "heatmap"
           }
          ],
          "histogram": [
           {
            "marker": {
             "pattern": {
              "fillmode": "overlay",
              "size": 10,
              "solidity": 0.2
             }
            },
            "type": "histogram"
           }
          ],
          "histogram2d": [
           {
            "colorbar": {
             "outlinewidth": 0,
             "ticks": ""
            },
            "colorscale": [
             [
              0,
              "#0d0887"
             ],
             [
              0.1111111111111111,
              "#46039f"
             ],
             [
              0.2222222222222222,
              "#7201a8"
             ],
             [
              0.3333333333333333,
              "#9c179e"
             ],
             [
              0.4444444444444444,
              "#bd3786"
             ],
             [
              0.5555555555555556,
              "#d8576b"
             ],
             [
              0.6666666666666666,
              "#ed7953"
             ],
             [
              0.7777777777777778,
              "#fb9f3a"
             ],
             [
              0.8888888888888888,
              "#fdca26"
             ],
             [
              1,
              "#f0f921"
             ]
            ],
            "type": "histogram2d"
           }
          ],
          "histogram2dcontour": [
           {
            "colorbar": {
             "outlinewidth": 0,
             "ticks": ""
            },
            "colorscale": [
             [
              0,
              "#0d0887"
             ],
             [
              0.1111111111111111,
              "#46039f"
             ],
             [
              0.2222222222222222,
              "#7201a8"
             ],
             [
              0.3333333333333333,
              "#9c179e"
             ],
             [
              0.4444444444444444,
              "#bd3786"
             ],
             [
              0.5555555555555556,
              "#d8576b"
             ],
             [
              0.6666666666666666,
              "#ed7953"
             ],
             [
              0.7777777777777778,
              "#fb9f3a"
             ],
             [
              0.8888888888888888,
              "#fdca26"
             ],
             [
              1,
              "#f0f921"
             ]
            ],
            "type": "histogram2dcontour"
           }
          ],
          "mesh3d": [
           {
            "colorbar": {
             "outlinewidth": 0,
             "ticks": ""
            },
            "type": "mesh3d"
           }
          ],
          "parcoords": [
           {
            "line": {
             "colorbar": {
              "outlinewidth": 0,
              "ticks": ""
             }
            },
            "type": "parcoords"
           }
          ],
          "pie": [
           {
            "automargin": true,
            "type": "pie"
           }
          ],
          "scatter": [
           {
            "fillpattern": {
             "fillmode": "overlay",
             "size": 10,
             "solidity": 0.2
            },
            "type": "scatter"
           }
          ],
          "scatter3d": [
           {
            "line": {
             "colorbar": {
              "outlinewidth": 0,
              "ticks": ""
             }
            },
            "marker": {
             "colorbar": {
              "outlinewidth": 0,
              "ticks": ""
             }
            },
            "type": "scatter3d"
           }
          ],
          "scattercarpet": [
           {
            "marker": {
             "colorbar": {
              "outlinewidth": 0,
              "ticks": ""
             }
            },
            "type": "scattercarpet"
           }
          ],
          "scattergeo": [
           {
            "marker": {
             "colorbar": {
              "outlinewidth": 0,
              "ticks": ""
             }
            },
            "type": "scattergeo"
           }
          ],
          "scattergl": [
           {
            "marker": {
             "colorbar": {
              "outlinewidth": 0,
              "ticks": ""
             }
            },
            "type": "scattergl"
           }
          ],
          "scattermap": [
           {
            "marker": {
             "colorbar": {
              "outlinewidth": 0,
              "ticks": ""
             }
            },
            "type": "scattermap"
           }
          ],
          "scattermapbox": [
           {
            "marker": {
             "colorbar": {
              "outlinewidth": 0,
              "ticks": ""
             }
            },
            "type": "scattermapbox"
           }
          ],
          "scatterpolar": [
           {
            "marker": {
             "colorbar": {
              "outlinewidth": 0,
              "ticks": ""
             }
            },
            "type": "scatterpolar"
           }
          ],
          "scatterpolargl": [
           {
            "marker": {
             "colorbar": {
              "outlinewidth": 0,
              "ticks": ""
             }
            },
            "type": "scatterpolargl"
           }
          ],
          "scatterternary": [
           {
            "marker": {
             "colorbar": {
              "outlinewidth": 0,
              "ticks": ""
             }
            },
            "type": "scatterternary"
           }
          ],
          "surface": [
           {
            "colorbar": {
             "outlinewidth": 0,
             "ticks": ""
            },
            "colorscale": [
             [
              0,
              "#0d0887"
             ],
             [
              0.1111111111111111,
              "#46039f"
             ],
             [
              0.2222222222222222,
              "#7201a8"
             ],
             [
              0.3333333333333333,
              "#9c179e"
             ],
             [
              0.4444444444444444,
              "#bd3786"
             ],
             [
              0.5555555555555556,
              "#d8576b"
             ],
             [
              0.6666666666666666,
              "#ed7953"
             ],
             [
              0.7777777777777778,
              "#fb9f3a"
             ],
             [
              0.8888888888888888,
              "#fdca26"
             ],
             [
              1,
              "#f0f921"
             ]
            ],
            "type": "surface"
           }
          ],
          "table": [
           {
            "cells": {
             "fill": {
              "color": "#EBF0F8"
             },
             "line": {
              "color": "white"
             }
            },
            "header": {
             "fill": {
              "color": "#C8D4E3"
             },
             "line": {
              "color": "white"
             }
            },
            "type": "table"
           }
          ]
         },
         "layout": {
          "annotationdefaults": {
           "arrowcolor": "#2a3f5f",
           "arrowhead": 0,
           "arrowwidth": 1
          },
          "autotypenumbers": "strict",
          "coloraxis": {
           "colorbar": {
            "outlinewidth": 0,
            "ticks": ""
           }
          },
          "colorscale": {
           "diverging": [
            [
             0,
             "#8e0152"
            ],
            [
             0.1,
             "#c51b7d"
            ],
            [
             0.2,
             "#de77ae"
            ],
            [
             0.3,
             "#f1b6da"
            ],
            [
             0.4,
             "#fde0ef"
            ],
            [
             0.5,
             "#f7f7f7"
            ],
            [
             0.6,
             "#e6f5d0"
            ],
            [
             0.7,
             "#b8e186"
            ],
            [
             0.8,
             "#7fbc41"
            ],
            [
             0.9,
             "#4d9221"
            ],
            [
             1,
             "#276419"
            ]
           ],
           "sequential": [
            [
             0,
             "#0d0887"
            ],
            [
             0.1111111111111111,
             "#46039f"
            ],
            [
             0.2222222222222222,
             "#7201a8"
            ],
            [
             0.3333333333333333,
             "#9c179e"
            ],
            [
             0.4444444444444444,
             "#bd3786"
            ],
            [
             0.5555555555555556,
             "#d8576b"
            ],
            [
             0.6666666666666666,
             "#ed7953"
            ],
            [
             0.7777777777777778,
             "#fb9f3a"
            ],
            [
             0.8888888888888888,
             "#fdca26"
            ],
            [
             1,
             "#f0f921"
            ]
           ],
           "sequentialminus": [
            [
             0,
             "#0d0887"
            ],
            [
             0.1111111111111111,
             "#46039f"
            ],
            [
             0.2222222222222222,
             "#7201a8"
            ],
            [
             0.3333333333333333,
             "#9c179e"
            ],
            [
             0.4444444444444444,
             "#bd3786"
            ],
            [
             0.5555555555555556,
             "#d8576b"
            ],
            [
             0.6666666666666666,
             "#ed7953"
            ],
            [
             0.7777777777777778,
             "#fb9f3a"
            ],
            [
             0.8888888888888888,
             "#fdca26"
            ],
            [
             1,
             "#f0f921"
            ]
           ]
          },
          "colorway": [
           "#636efa",
           "#EF553B",
           "#00cc96",
           "#ab63fa",
           "#FFA15A",
           "#19d3f3",
           "#FF6692",
           "#B6E880",
           "#FF97FF",
           "#FECB52"
          ],
          "font": {
           "color": "#2a3f5f"
          },
          "geo": {
           "bgcolor": "white",
           "lakecolor": "white",
           "landcolor": "#E5ECF6",
           "showlakes": true,
           "showland": true,
           "subunitcolor": "white"
          },
          "hoverlabel": {
           "align": "left"
          },
          "hovermode": "closest",
          "mapbox": {
           "style": "light"
          },
          "paper_bgcolor": "white",
          "plot_bgcolor": "#E5ECF6",
          "polar": {
           "angularaxis": {
            "gridcolor": "white",
            "linecolor": "white",
            "ticks": ""
           },
           "bgcolor": "#E5ECF6",
           "radialaxis": {
            "gridcolor": "white",
            "linecolor": "white",
            "ticks": ""
           }
          },
          "scene": {
           "xaxis": {
            "backgroundcolor": "#E5ECF6",
            "gridcolor": "white",
            "gridwidth": 2,
            "linecolor": "white",
            "showbackground": true,
            "ticks": "",
            "zerolinecolor": "white"
           },
           "yaxis": {
            "backgroundcolor": "#E5ECF6",
            "gridcolor": "white",
            "gridwidth": 2,
            "linecolor": "white",
            "showbackground": true,
            "ticks": "",
            "zerolinecolor": "white"
           },
           "zaxis": {
            "backgroundcolor": "#E5ECF6",
            "gridcolor": "white",
            "gridwidth": 2,
            "linecolor": "white",
            "showbackground": true,
            "ticks": "",
            "zerolinecolor": "white"
           }
          },
          "shapedefaults": {
           "line": {
            "color": "#2a3f5f"
           }
          },
          "ternary": {
           "aaxis": {
            "gridcolor": "white",
            "linecolor": "white",
            "ticks": ""
           },
           "baxis": {
            "gridcolor": "white",
            "linecolor": "white",
            "ticks": ""
           },
           "bgcolor": "#E5ECF6",
           "caxis": {
            "gridcolor": "white",
            "linecolor": "white",
            "ticks": ""
           }
          },
          "title": {
           "x": 0.05
          },
          "xaxis": {
           "automargin": true,
           "gridcolor": "white",
           "linecolor": "white",
           "ticks": "",
           "title": {
            "standoff": 15
           },
           "zerolinecolor": "white",
           "zerolinewidth": 2
          },
          "yaxis": {
           "automargin": true,
           "gridcolor": "white",
           "linecolor": "white",
           "ticks": "",
           "title": {
            "standoff": 15
           },
           "zerolinecolor": "white",
           "zerolinewidth": 2
          }
         }
        },
        "title": {
         "font": {
          "size": 16
         },
         "text": "Distribution of thalach with Outliers",
         "x": 0.5,
         "xanchor": "center"
        },
        "xaxis": {
         "anchor": "y",
         "domain": [
          0,
          1
         ],
         "gridcolor": "#878787",
         "title": {
          "text": "thalach"
         },
         "zerolinecolor": "#1F1F1F"
        },
        "yaxis": {
         "anchor": "x",
         "domain": [
          0,
          1
         ]
        }
       }
      }
     },
     "metadata": {},
     "output_type": "display_data"
    },
    {
     "data": {
      "application/vnd.plotly.v1+json": {
       "config": {
        "plotlyServerURL": "https://plot.ly"
       },
       "data": [
        {
         "alignmentgroup": "True",
         "boxpoints": "outliers",
         "hovertemplate": "oldpeak=%{x}<extra></extra>",
         "legendgroup": "",
         "line": {
          "width": 2
         },
         "marker": {
          "color": "#1f77b4",
          "size": 9
         },
         "name": "",
         "notched": false,
         "offsetgroup": "",
         "orientation": "h",
         "showlegend": false,
         "type": "box",
         "x": {
          "bdata": "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",
          "dtype": "f8"
         },
         "x0": " ",
         "xaxis": "x",
         "y0": " ",
         "yaxis": "y"
        }
       ],
       "layout": {
        "boxmode": "group",
        "font": {
         "color": "#878787",
         "size": 12
        },
        "height": 400,
        "legend": {
         "tracegroupgap": 0
        },
        "paper_bgcolor": "rgba(0,0,0,0)",
        "plot_bgcolor": "rgba(0,0,0,0)",
        "template": {
         "data": {
          "bar": [
           {
            "error_x": {
             "color": "#2a3f5f"
            },
            "error_y": {
             "color": "#2a3f5f"
            },
            "marker": {
             "line": {
              "color": "#E5ECF6",
              "width": 0.5
             },
             "pattern": {
              "fillmode": "overlay",
              "size": 10,
              "solidity": 0.2
             }
            },
            "type": "bar"
           }
          ],
          "barpolar": [
           {
            "marker": {
             "line": {
              "color": "#E5ECF6",
              "width": 0.5
             },
             "pattern": {
              "fillmode": "overlay",
              "size": 10,
              "solidity": 0.2
             }
            },
            "type": "barpolar"
           }
          ],
          "carpet": [
           {
            "aaxis": {
             "endlinecolor": "#2a3f5f",
             "gridcolor": "white",
             "linecolor": "white",
             "minorgridcolor": "white",
             "startlinecolor": "#2a3f5f"
            },
            "baxis": {
             "endlinecolor": "#2a3f5f",
             "gridcolor": "white",
             "linecolor": "white",
             "minorgridcolor": "white",
             "startlinecolor": "#2a3f5f"
            },
            "type": "carpet"
           }
          ],
          "choropleth": [
           {
            "colorbar": {
             "outlinewidth": 0,
             "ticks": ""
            },
            "type": "choropleth"
           }
          ],
          "contour": [
           {
            "colorbar": {
             "outlinewidth": 0,
             "ticks": ""
            },
            "colorscale": [
             [
              0,
              "#0d0887"
             ],
             [
              0.1111111111111111,
              "#46039f"
             ],
             [
              0.2222222222222222,
              "#7201a8"
             ],
             [
              0.3333333333333333,
              "#9c179e"
             ],
             [
              0.4444444444444444,
              "#bd3786"
             ],
             [
              0.5555555555555556,
              "#d8576b"
             ],
             [
              0.6666666666666666,
              "#ed7953"
             ],
             [
              0.7777777777777778,
              "#fb9f3a"
             ],
             [
              0.8888888888888888,
              "#fdca26"
             ],
             [
              1,
              "#f0f921"
             ]
            ],
            "type": "contour"
           }
          ],
          "contourcarpet": [
           {
            "colorbar": {
             "outlinewidth": 0,
             "ticks": ""
            },
            "type": "contourcarpet"
           }
          ],
          "heatmap": [
           {
            "colorbar": {
             "outlinewidth": 0,
             "ticks": ""
            },
            "colorscale": [
             [
              0,
              "#0d0887"
             ],
             [
              0.1111111111111111,
              "#46039f"
             ],
             [
              0.2222222222222222,
              "#7201a8"
             ],
             [
              0.3333333333333333,
              "#9c179e"
             ],
             [
              0.4444444444444444,
              "#bd3786"
             ],
             [
              0.5555555555555556,
              "#d8576b"
             ],
             [
              0.6666666666666666,
              "#ed7953"
             ],
             [
              0.7777777777777778,
              "#fb9f3a"
             ],
             [
              0.8888888888888888,
              "#fdca26"
             ],
             [
              1,
              "#f0f921"
             ]
            ],
            "type": "heatmap"
           }
          ],
          "histogram": [
           {
            "marker": {
             "pattern": {
              "fillmode": "overlay",
              "size": 10,
              "solidity": 0.2
             }
            },
            "type": "histogram"
           }
          ],
          "histogram2d": [
           {
            "colorbar": {
             "outlinewidth": 0,
             "ticks": ""
            },
            "colorscale": [
             [
              0,
              "#0d0887"
             ],
             [
              0.1111111111111111,
              "#46039f"
             ],
             [
              0.2222222222222222,
              "#7201a8"
             ],
             [
              0.3333333333333333,
              "#9c179e"
             ],
             [
              0.4444444444444444,
              "#bd3786"
             ],
             [
              0.5555555555555556,
              "#d8576b"
             ],
             [
              0.6666666666666666,
              "#ed7953"
             ],
             [
              0.7777777777777778,
              "#fb9f3a"
             ],
             [
              0.8888888888888888,
              "#fdca26"
             ],
             [
              1,
              "#f0f921"
             ]
            ],
            "type": "histogram2d"
           }
          ],
          "histogram2dcontour": [
           {
            "colorbar": {
             "outlinewidth": 0,
             "ticks": ""
            },
            "colorscale": [
             [
              0,
              "#0d0887"
             ],
             [
              0.1111111111111111,
              "#46039f"
             ],
             [
              0.2222222222222222,
              "#7201a8"
             ],
             [
              0.3333333333333333,
              "#9c179e"
             ],
             [
              0.4444444444444444,
              "#bd3786"
             ],
             [
              0.5555555555555556,
              "#d8576b"
             ],
             [
              0.6666666666666666,
              "#ed7953"
             ],
             [
              0.7777777777777778,
              "#fb9f3a"
             ],
             [
              0.8888888888888888,
              "#fdca26"
             ],
             [
              1,
              "#f0f921"
             ]
            ],
            "type": "histogram2dcontour"
           }
          ],
          "mesh3d": [
           {
            "colorbar": {
             "outlinewidth": 0,
             "ticks": ""
            },
            "type": "mesh3d"
           }
          ],
          "parcoords": [
           {
            "line": {
             "colorbar": {
              "outlinewidth": 0,
              "ticks": ""
             }
            },
            "type": "parcoords"
           }
          ],
          "pie": [
           {
            "automargin": true,
            "type": "pie"
           }
          ],
          "scatter": [
           {
            "fillpattern": {
             "fillmode": "overlay",
             "size": 10,
             "solidity": 0.2
            },
            "type": "scatter"
           }
          ],
          "scatter3d": [
           {
            "line": {
             "colorbar": {
              "outlinewidth": 0,
              "ticks": ""
             }
            },
            "marker": {
             "colorbar": {
              "outlinewidth": 0,
              "ticks": ""
             }
            },
            "type": "scatter3d"
           }
          ],
          "scattercarpet": [
           {
            "marker": {
             "colorbar": {
              "outlinewidth": 0,
              "ticks": ""
             }
            },
            "type": "scattercarpet"
           }
          ],
          "scattergeo": [
           {
            "marker": {
             "colorbar": {
              "outlinewidth": 0,
              "ticks": ""
             }
            },
            "type": "scattergeo"
           }
          ],
          "scattergl": [
           {
            "marker": {
             "colorbar": {
              "outlinewidth": 0,
              "ticks": ""
             }
            },
            "type": "scattergl"
           }
          ],
          "scattermap": [
           {
            "marker": {
             "colorbar": {
              "outlinewidth": 0,
              "ticks": ""
             }
            },
            "type": "scattermap"
           }
          ],
          "scattermapbox": [
           {
            "marker": {
             "colorbar": {
              "outlinewidth": 0,
              "ticks": ""
             }
            },
            "type": "scattermapbox"
           }
          ],
          "scatterpolar": [
           {
            "marker": {
             "colorbar": {
              "outlinewidth": 0,
              "ticks": ""
             }
            },
            "type": "scatterpolar"
           }
          ],
          "scatterpolargl": [
           {
            "marker": {
             "colorbar": {
              "outlinewidth": 0,
              "ticks": ""
             }
            },
            "type": "scatterpolargl"
           }
          ],
          "scatterternary": [
           {
            "marker": {
             "colorbar": {
              "outlinewidth": 0,
              "ticks": ""
             }
            },
            "type": "scatterternary"
           }
          ],
          "surface": [
           {
            "colorbar": {
             "outlinewidth": 0,
             "ticks": ""
            },
            "colorscale": [
             [
              0,
              "#0d0887"
             ],
             [
              0.1111111111111111,
              "#46039f"
             ],
             [
              0.2222222222222222,
              "#7201a8"
             ],
             [
              0.3333333333333333,
              "#9c179e"
             ],
             [
              0.4444444444444444,
              "#bd3786"
             ],
             [
              0.5555555555555556,
              "#d8576b"
             ],
             [
              0.6666666666666666,
              "#ed7953"
             ],
             [
              0.7777777777777778,
              "#fb9f3a"
             ],
             [
              0.8888888888888888,
              "#fdca26"
             ],
             [
              1,
              "#f0f921"
             ]
            ],
            "type": "surface"
           }
          ],
          "table": [
           {
            "cells": {
             "fill": {
              "color": "#EBF0F8"
             },
             "line": {
              "color": "white"
             }
            },
            "header": {
             "fill": {
              "color": "#C8D4E3"
             },
             "line": {
              "color": "white"
             }
            },
            "type": "table"
           }
          ]
         },
         "layout": {
          "annotationdefaults": {
           "arrowcolor": "#2a3f5f",
           "arrowhead": 0,
           "arrowwidth": 1
          },
          "autotypenumbers": "strict",
          "coloraxis": {
           "colorbar": {
            "outlinewidth": 0,
            "ticks": ""
           }
          },
          "colorscale": {
           "diverging": [
            [
             0,
             "#8e0152"
            ],
            [
             0.1,
             "#c51b7d"
            ],
            [
             0.2,
             "#de77ae"
            ],
            [
             0.3,
             "#f1b6da"
            ],
            [
             0.4,
             "#fde0ef"
            ],
            [
             0.5,
             "#f7f7f7"
            ],
            [
             0.6,
             "#e6f5d0"
            ],
            [
             0.7,
             "#b8e186"
            ],
            [
             0.8,
             "#7fbc41"
            ],
            [
             0.9,
             "#4d9221"
            ],
            [
             1,
             "#276419"
            ]
           ],
           "sequential": [
            [
             0,
             "#0d0887"
            ],
            [
             0.1111111111111111,
             "#46039f"
            ],
            [
             0.2222222222222222,
             "#7201a8"
            ],
            [
             0.3333333333333333,
             "#9c179e"
            ],
            [
             0.4444444444444444,
             "#bd3786"
            ],
            [
             0.5555555555555556,
             "#d8576b"
            ],
            [
             0.6666666666666666,
             "#ed7953"
            ],
            [
             0.7777777777777778,
             "#fb9f3a"
            ],
            [
             0.8888888888888888,
             "#fdca26"
            ],
            [
             1,
             "#f0f921"
            ]
           ],
           "sequentialminus": [
            [
             0,
             "#0d0887"
            ],
            [
             0.1111111111111111,
             "#46039f"
            ],
            [
             0.2222222222222222,
             "#7201a8"
            ],
            [
             0.3333333333333333,
             "#9c179e"
            ],
            [
             0.4444444444444444,
             "#bd3786"
            ],
            [
             0.5555555555555556,
             "#d8576b"
            ],
            [
             0.6666666666666666,
             "#ed7953"
            ],
            [
             0.7777777777777778,
             "#fb9f3a"
            ],
            [
             0.8888888888888888,
             "#fdca26"
            ],
            [
             1,
             "#f0f921"
            ]
           ]
          },
          "colorway": [
           "#636efa",
           "#EF553B",
           "#00cc96",
           "#ab63fa",
           "#FFA15A",
           "#19d3f3",
           "#FF6692",
           "#B6E880",
           "#FF97FF",
           "#FECB52"
          ],
          "font": {
           "color": "#2a3f5f"
          },
          "geo": {
           "bgcolor": "white",
           "lakecolor": "white",
           "landcolor": "#E5ECF6",
           "showlakes": true,
           "showland": true,
           "subunitcolor": "white"
          },
          "hoverlabel": {
           "align": "left"
          },
          "hovermode": "closest",
          "mapbox": {
           "style": "light"
          },
          "paper_bgcolor": "white",
          "plot_bgcolor": "#E5ECF6",
          "polar": {
           "angularaxis": {
            "gridcolor": "white",
            "linecolor": "white",
            "ticks": ""
           },
           "bgcolor": "#E5ECF6",
           "radialaxis": {
            "gridcolor": "white",
            "linecolor": "white",
            "ticks": ""
           }
          },
          "scene": {
           "xaxis": {
            "backgroundcolor": "#E5ECF6",
            "gridcolor": "white",
            "gridwidth": 2,
            "linecolor": "white",
            "showbackground": true,
            "ticks": "",
            "zerolinecolor": "white"
           },
           "yaxis": {
            "backgroundcolor": "#E5ECF6",
            "gridcolor": "white",
            "gridwidth": 2,
            "linecolor": "white",
            "showbackground": true,
            "ticks": "",
            "zerolinecolor": "white"
           },
           "zaxis": {
            "backgroundcolor": "#E5ECF6",
            "gridcolor": "white",
            "gridwidth": 2,
            "linecolor": "white",
            "showbackground": true,
            "ticks": "",
            "zerolinecolor": "white"
           }
          },
          "shapedefaults": {
           "line": {
            "color": "#2a3f5f"
           }
          },
          "ternary": {
           "aaxis": {
            "gridcolor": "white",
            "linecolor": "white",
            "ticks": ""
           },
           "baxis": {
            "gridcolor": "white",
            "linecolor": "white",
            "ticks": ""
           },
           "bgcolor": "#E5ECF6",
           "caxis": {
            "gridcolor": "white",
            "linecolor": "white",
            "ticks": ""
           }
          },
          "title": {
           "x": 0.05
          },
          "xaxis": {
           "automargin": true,
           "gridcolor": "white",
           "linecolor": "white",
           "ticks": "",
           "title": {
            "standoff": 15
           },
           "zerolinecolor": "white",
           "zerolinewidth": 2
          },
          "yaxis": {
           "automargin": true,
           "gridcolor": "white",
           "linecolor": "white",
           "ticks": "",
           "title": {
            "standoff": 15
           },
           "zerolinecolor": "white",
           "zerolinewidth": 2
          }
         }
        },
        "title": {
         "font": {
          "size": 16
         },
         "text": "Distribution of oldpeak with Outliers",
         "x": 0.5,
         "xanchor": "center"
        },
        "xaxis": {
         "anchor": "y",
         "domain": [
          0,
          1
         ],
         "gridcolor": "#878787",
         "title": {
          "text": "oldpeak"
         },
         "zerolinecolor": "#1F1F1F"
        },
        "yaxis": {
         "anchor": "x",
         "domain": [
          0,
          1
         ]
        }
       }
      }
     },
     "metadata": {},
     "output_type": "display_data"
    }
   ],
   "source": [
    "# Set theme\n",
    "fig_config = {\n",
    "    'plot_bgcolor': \"rgba(0,0,0,0)\",   # Transparent plot area\n",
    "    'paper_bgcolor': \"rgba(0,0,0,0)\",  # Transparent figure background\n",
    "    'font': {'color': GRID_TEXT_COLOR, 'size': 12},\n",
    "    'title': {'x': 0.5, 'xanchor': 'center', 'font': {'size': 16}},\n",
    "    'height': 400\n",
    "}\n",
    "\n",
    "# Loop through numerical columns and create boxplots\n",
    "for col in numerical_cols:\n",
    "    fig = px.box(df, \n",
    "                 x=col, \n",
    "                 title=f'Distribution of {col} with Outliers',\n",
    "                 color_discrete_sequence=[PRIMARY_COLOR], \n",
    "                 points='outliers')  \n",
    "    \n",
    "    # Apply styling\n",
    "    fig.update_layout(**fig_config)\n",
    "    fig.update_traces(marker=dict(size=9), line=dict(width=2))\n",
    "    fig.update_xaxes(gridcolor=GRID_TEXT_COLOR, zerolinecolor=EDGE_COLOR)\n",
    "    \n",
    "    fig.show()\n"
   ]
  },
  {
   "cell_type": "markdown",
   "id": "68936cd4",
   "metadata": {},
   "source": [
    "#### **Data Preprocessing & Cleaning**"
   ]
  },
  {
   "cell_type": "code",
   "execution_count": 74,
   "id": "cfade810",
   "metadata": {},
   "outputs": [
    {
     "name": "stdout",
     "output_type": "stream",
     "text": [
      "Number of duplicate rows: 0\n"
     ]
    }
   ],
   "source": [
    "# Check for duplicate rows\n",
    "print(\"Number of duplicate rows:\", df.duplicated().sum())"
   ]
  },
  {
   "cell_type": "markdown",
   "id": "6a542ef4",
   "metadata": {},
   "source": [
    "##### **Impute 'ca', and 'thal' columns with its MODE**"
   ]
  },
  {
   "cell_type": "code",
   "execution_count": 75,
   "id": "b2d0777b",
   "metadata": {},
   "outputs": [
    {
     "name": "stdout",
     "output_type": "stream",
     "text": [
      "\n",
      "The most frequent value for 'ca' (number of vessels) is: 0.0\n",
      "\n",
      "The most frequent value for 'thal' (thallium scan) is: 3.0\n"
     ]
    }
   ],
   "source": [
    "# .mode() returns a Series. We take the first value in case there's a tie.\n",
    "ca_mode = df['ca'].mode()[0]\n",
    "\n",
    "print(f\"\\nThe most frequent value for 'ca' (number of vessels) is: {ca_mode}\")\n",
    "\n",
    "df['ca'] = df['ca'].fillna(ca_mode)\n",
    "\n",
    "\n",
    "thal_mode = df['thal'].mode()[0]\n",
    "\n",
    "print(f\"\\nThe most frequent value for 'thal' (thallium scan) is: {thal_mode}\")\n",
    "\n",
    "df['thal'] = df['thal'].fillna(thal_mode)"
   ]
  },
  {
   "cell_type": "markdown",
   "id": "c81d1e63",
   "metadata": {},
   "source": [
    "##### **Verify imputation was successful**"
   ]
  },
  {
   "cell_type": "code",
   "execution_count": 76,
   "id": "46dc5293",
   "metadata": {},
   "outputs": [
    {
     "name": "stdout",
     "output_type": "stream",
     "text": [
      "Missing values in each column:\n",
      "age         0\n",
      "sex         0\n",
      "cp          0\n",
      "trestbps    0\n",
      "chol        0\n",
      "fbs         0\n",
      "restecg     0\n",
      "thalach     0\n",
      "exang       0\n",
      "oldpeak     0\n",
      "slope       0\n",
      "ca          0\n",
      "thal        0\n",
      "num         0\n",
      "dtype: int64\n",
      "\n",
      "Total missing values: 0\n"
     ]
    }
   ],
   "source": [
    "print(\"Missing values in each column:\")\n",
    "print(df.isnull().sum())\n",
    "print(\"\\nTotal missing values:\", df.isnull().sum().sum())"
   ]
  },
  {
   "cell_type": "markdown",
   "id": "e13695fe",
   "metadata": {},
   "source": [
    "##### **Define the correct data types for each column**"
   ]
  },
  {
   "cell_type": "code",
   "execution_count": 77,
   "id": "6d375657",
   "metadata": {},
   "outputs": [
    {
     "name": "stdout",
     "output_type": "stream",
     "text": [
      "\n",
      "--- DataFrame with Correct Data Types ---\n",
      "age            int64\n",
      "sex         category\n",
      "cp          category\n",
      "trestbps       int64\n",
      "chol           int64\n",
      "fbs         category\n",
      "restecg     category\n",
      "thalach        int64\n",
      "exang       category\n",
      "oldpeak      float64\n",
      "slope       category\n",
      "ca          category\n",
      "thal        category\n",
      "num            int64\n",
      "dtype: object\n"
     ]
    }
   ],
   "source": [
    "data_types = {\n",
    "    'age': 'int64',\n",
    "    'sex': 'category',\n",
    "    'cp': 'category',\n",
    "    'trestbps': 'int64',\n",
    "    'chol': 'int64',\n",
    "    'fbs': 'category',\n",
    "    'restecg': 'category',\n",
    "    'thalach': 'int64',\n",
    "    'exang': 'category',\n",
    "    'oldpeak': 'float64',\n",
    "    'slope': 'category',\n",
    "    'ca': 'category',\n",
    "    'thal': 'category',\n",
    "    'num': 'int64'\n",
    "}\n",
    "\n",
    "df = df.astype(data_types)\n",
    "\n",
    "# Verify the new data types\n",
    "print(\"\\n--- DataFrame with Correct Data Types ---\")\n",
    "print(df.dtypes)"
   ]
  },
  {
   "cell_type": "markdown",
   "id": "051ff367",
   "metadata": {},
   "source": [
    "##### **Data encoding**"
   ]
  },
  {
   "cell_type": "code",
   "execution_count": 78,
   "id": "0e6269cb",
   "metadata": {},
   "outputs": [
    {
     "name": "stdout",
     "output_type": "stream",
     "text": [
      "sex: [1 0]\n",
      "cp: [1 4 3 2]\n",
      "fbs: [1 0]\n",
      "restecg: [2 0 1]\n",
      "exang: [0 1]\n",
      "slope: [3 2 1]\n",
      "thal: [6 3 7]\n"
     ]
    }
   ],
   "source": [
    "# Define the list of nominal categorical features to encode\n",
    "nominal_features = ['sex', 'cp', 'fbs', 'restecg', 'exang', 'slope', 'thal']\n",
    "\n",
    "# Check the unique values for each categorical feature\n",
    "for feature in nominal_features:\n",
    "    unique_vals = df[feature].astype(int).unique()\n",
    "    print(f\"{feature}: {unique_vals}\")"
   ]
  },
  {
   "cell_type": "code",
   "execution_count": 79,
   "id": "a2e32b63",
   "metadata": {},
   "outputs": [],
   "source": [
    "# Apply one-hot encoding to the specified nominal features\n",
    "df = pd.get_dummies(df, columns=nominal_features, drop_first=True, prefix=nominal_features, dtype=int)\n",
    "\n",
    "# Ordinal categories are already numbers but need to be Converted from 'category' to 'int64'\n",
    "df['ca'] = df['ca'].astype('int64')"
   ]
  },
  {
   "cell_type": "code",
   "execution_count": 80,
   "id": "5070a8fc",
   "metadata": {},
   "outputs": [
    {
     "name": "stdout",
     "output_type": "stream",
     "text": [
      "DataFrame shape: (303, 19)\n",
      "\n",
      "New column names:\n",
      "['age', 'trestbps', 'chol', 'thalach', 'oldpeak', 'ca', 'num', 'sex_1.0', 'cp_2.0', 'cp_3.0', 'cp_4.0', 'fbs_1.0', 'restecg_1.0', 'restecg_2.0', 'exang_1.0', 'slope_2.0', 'slope_3.0', 'thal_6.0', 'thal_7.0']\n"
     ]
    },
    {
     "data": {
      "text/html": [
       "<div>\n",
       "<style scoped>\n",
       "    .dataframe tbody tr th:only-of-type {\n",
       "        vertical-align: middle;\n",
       "    }\n",
       "\n",
       "    .dataframe tbody tr th {\n",
       "        vertical-align: top;\n",
       "    }\n",
       "\n",
       "    .dataframe thead th {\n",
       "        text-align: right;\n",
       "    }\n",
       "</style>\n",
       "<table border=\"1\" class=\"dataframe\">\n",
       "  <thead>\n",
       "    <tr style=\"text-align: right;\">\n",
       "      <th></th>\n",
       "      <th>cp_2.0</th>\n",
       "      <th>cp_3.0</th>\n",
       "      <th>cp_4.0</th>\n",
       "    </tr>\n",
       "  </thead>\n",
       "  <tbody>\n",
       "    <tr>\n",
       "      <th>0</th>\n",
       "      <td>0</td>\n",
       "      <td>0</td>\n",
       "      <td>0</td>\n",
       "    </tr>\n",
       "    <tr>\n",
       "      <th>1</th>\n",
       "      <td>0</td>\n",
       "      <td>0</td>\n",
       "      <td>1</td>\n",
       "    </tr>\n",
       "    <tr>\n",
       "      <th>2</th>\n",
       "      <td>0</td>\n",
       "      <td>0</td>\n",
       "      <td>1</td>\n",
       "    </tr>\n",
       "    <tr>\n",
       "      <th>3</th>\n",
       "      <td>0</td>\n",
       "      <td>1</td>\n",
       "      <td>0</td>\n",
       "    </tr>\n",
       "    <tr>\n",
       "      <th>4</th>\n",
       "      <td>1</td>\n",
       "      <td>0</td>\n",
       "      <td>0</td>\n",
       "    </tr>\n",
       "  </tbody>\n",
       "</table>\n",
       "</div>"
      ],
      "text/plain": [
       "   cp_2.0  cp_3.0  cp_4.0\n",
       "0       0       0       0\n",
       "1       0       0       1\n",
       "2       0       0       1\n",
       "3       0       1       0\n",
       "4       1       0       0"
      ]
     },
     "execution_count": 80,
     "metadata": {},
     "output_type": "execute_result"
    }
   ],
   "source": [
    "# Check the new shape of the DataFrame\n",
    "print(\"DataFrame shape:\", df.shape)\n",
    "\n",
    "# Check the new column names\n",
    "print(\"\\nNew column names:\")\n",
    "print(df.columns.tolist())\n",
    "\n",
    "# Get a list of all columns that start with 'cp_' to see the encoding for chest pain as an example\n",
    "cp_columns = [col for col in df.columns if col.startswith('cp_')]\n",
    "df[cp_columns].head()"
   ]
  },
  {
   "cell_type": "markdown",
   "id": "9ce17706",
   "metadata": {},
   "source": [
    "##### **Standardize numerical features using StandardScaler**"
   ]
  },
  {
   "cell_type": "code",
   "execution_count": 81,
   "id": "b6ddc259",
   "metadata": {},
   "outputs": [
    {
     "data": {
      "text/html": [
       "<div>\n",
       "<style scoped>\n",
       "    .dataframe tbody tr th:only-of-type {\n",
       "        vertical-align: middle;\n",
       "    }\n",
       "\n",
       "    .dataframe tbody tr th {\n",
       "        vertical-align: top;\n",
       "    }\n",
       "\n",
       "    .dataframe thead th {\n",
       "        text-align: right;\n",
       "    }\n",
       "</style>\n",
       "<table border=\"1\" class=\"dataframe\">\n",
       "  <thead>\n",
       "    <tr style=\"text-align: right;\">\n",
       "      <th></th>\n",
       "      <th>age</th>\n",
       "      <th>trestbps</th>\n",
       "      <th>chol</th>\n",
       "      <th>thalach</th>\n",
       "      <th>oldpeak</th>\n",
       "    </tr>\n",
       "  </thead>\n",
       "  <tbody>\n",
       "    <tr>\n",
       "      <th>0</th>\n",
       "      <td>0.948726</td>\n",
       "      <td>0.757525</td>\n",
       "      <td>-0.264900</td>\n",
       "      <td>0.017197</td>\n",
       "      <td>1.087338</td>\n",
       "    </tr>\n",
       "    <tr>\n",
       "      <th>1</th>\n",
       "      <td>1.392002</td>\n",
       "      <td>1.611220</td>\n",
       "      <td>0.760415</td>\n",
       "      <td>-1.821905</td>\n",
       "      <td>0.397182</td>\n",
       "    </tr>\n",
       "    <tr>\n",
       "      <th>2</th>\n",
       "      <td>1.392002</td>\n",
       "      <td>-0.665300</td>\n",
       "      <td>-0.342283</td>\n",
       "      <td>-0.902354</td>\n",
       "      <td>1.346147</td>\n",
       "    </tr>\n",
       "    <tr>\n",
       "      <th>3</th>\n",
       "      <td>-1.932564</td>\n",
       "      <td>-0.096170</td>\n",
       "      <td>0.063974</td>\n",
       "      <td>1.637359</td>\n",
       "      <td>2.122573</td>\n",
       "    </tr>\n",
       "    <tr>\n",
       "      <th>4</th>\n",
       "      <td>-1.489288</td>\n",
       "      <td>-0.096170</td>\n",
       "      <td>-0.825922</td>\n",
       "      <td>0.980537</td>\n",
       "      <td>0.310912</td>\n",
       "    </tr>\n",
       "  </tbody>\n",
       "</table>\n",
       "</div>"
      ],
      "text/plain": [
       "        age  trestbps      chol   thalach   oldpeak\n",
       "0  0.948726  0.757525 -0.264900  0.017197  1.087338\n",
       "1  1.392002  1.611220  0.760415 -1.821905  0.397182\n",
       "2  1.392002 -0.665300 -0.342283 -0.902354  1.346147\n",
       "3 -1.932564 -0.096170  0.063974  1.637359  2.122573\n",
       "4 -1.489288 -0.096170 -0.825922  0.980537  0.310912"
      ]
     },
     "execution_count": 81,
     "metadata": {},
     "output_type": "execute_result"
    }
   ],
   "source": [
    "# Select only numerical columns\n",
    "X_num = df[numerical_cols]\n",
    "\n",
    "# Initialize StandardScaler\n",
    "scaler = StandardScaler()\n",
    "\n",
    "# Fit and transform the numerical features\n",
    "X_nscaled = scaler.fit_transform(X_num)\n",
    "\n",
    "# Convert back to DataFrame for readability\n",
    "X_nscaled_df = pd.DataFrame(X_nscaled, columns=numerical_cols)\n",
    "\n",
    "X_nscaled_df.head()"
   ]
  }
 ],
 "metadata": {
  "kernelspec": {
   "display_name": "Python 3",
   "language": "python",
   "name": "python3"
  },
  "language_info": {
   "codemirror_mode": {
    "name": "ipython",
    "version": 3
   },
   "file_extension": ".py",
   "mimetype": "text/x-python",
   "name": "python",
   "nbconvert_exporter": "python",
   "pygments_lexer": "ipython3",
   "version": "3.12.8"
  }
 },
 "nbformat": 4,
 "nbformat_minor": 5
}
