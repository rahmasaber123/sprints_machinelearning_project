{
 "cells": [
  {
   "cell_type": "markdown",
   "id": "2ee54964",
   "metadata": {},
   "source": [
    "### **2.5 Unsupervised Learning - Clustering**\n",
    "Steps:\n",
    "1. Apply K-Means Clustering (elbow method, and Silhouette Scores to determine K).\n",
    "2. Perform Hierarchical Clustering (dendrogram analysis).\n",
    "3. Compare clusters with actual disease labels.\n",
    "\n",
    "Deliverable: Clustering models with visualized results"
   ]
  },
  {
   "cell_type": "markdown",
   "id": "3b66092a",
   "metadata": {},
   "source": [
    "#### **K-Means Clustering**"
   ]
  },
  {
   "cell_type": "code",
   "execution_count": 95,
   "id": "3339b79f",
   "metadata": {},
   "outputs": [
    {
     "data": {
      "application/vnd.plotly.v1+json": {
       "config": {
        "plotlyServerURL": "https://plot.ly"
       },
       "data": [
        {
         "line": {
          "color": "#1f77b4",
          "width": 2
         },
         "marker": {
          "color": "#1f77b4",
          "size": 8
         },
         "mode": "lines+markers",
         "name": "WCSS",
         "type": "scatter",
         "x": [
          2,
          3,
          4,
          5,
          6,
          7,
          8,
          9,
          10
         ],
         "xaxis": "x",
         "y": [
          4683.221586790782,
          4345.52047635843,
          4042.6168978778505,
          3764.5144497613387,
          3535.7058805451643,
          3390.9507307034505,
          3096.4828450469286,
          2988.4287935091975,
          2894.6587358556094
         ],
         "yaxis": "y"
        },
        {
         "line": {
          "color": "#1f77b4",
          "width": 2
         },
         "marker": {
          "color": "#1f77b4",
          "size": 8
         },
         "mode": "lines+markers",
         "name": "Silhouette Score",
         "type": "scatter",
         "x": [
          2,
          3,
          4,
          5,
          6,
          7,
          8,
          9,
          10
         ],
         "xaxis": "x2",
         "y": [
          0.1452721441825513,
          0.1180825635916223,
          0.13438667378840533,
          0.12253221455613324,
          0.14157486832826444,
          0.14582510825435266,
          0.15568245724518595,
          0.1437812977245237,
          0.1493943444276304
         ],
         "yaxis": "y2"
        }
       ],
       "layout": {
        "annotations": [
         {
          "font": {
           "size": 16
          },
          "showarrow": false,
          "text": "Elbow Method for Optimal K",
          "x": 0.225,
          "xanchor": "center",
          "xref": "paper",
          "y": 1,
          "yanchor": "bottom",
          "yref": "paper"
         },
         {
          "font": {
           "size": 16
          },
          "showarrow": false,
          "text": "Silhouette Scores for Optimal K",
          "x": 0.775,
          "xanchor": "center",
          "xref": "paper",
          "y": 1,
          "yanchor": "bottom",
          "yref": "paper"
         }
        ],
        "font": {
         "color": "#878787",
         "size": 12
        },
        "height": 500,
        "paper_bgcolor": "#1F1F1F",
        "plot_bgcolor": "#1F1F1F",
        "showlegend": false,
        "template": {
         "data": {
          "bar": [
           {
            "error_x": {
             "color": "#2a3f5f"
            },
            "error_y": {
             "color": "#2a3f5f"
            },
            "marker": {
             "line": {
              "color": "#E5ECF6",
              "width": 0.5
             },
             "pattern": {
              "fillmode": "overlay",
              "size": 10,
              "solidity": 0.2
             }
            },
            "type": "bar"
           }
          ],
          "barpolar": [
           {
            "marker": {
             "line": {
              "color": "#E5ECF6",
              "width": 0.5
             },
             "pattern": {
              "fillmode": "overlay",
              "size": 10,
              "solidity": 0.2
             }
            },
            "type": "barpolar"
           }
          ],
          "carpet": [
           {
            "aaxis": {
             "endlinecolor": "#2a3f5f",
             "gridcolor": "white",
             "linecolor": "white",
             "minorgridcolor": "white",
             "startlinecolor": "#2a3f5f"
            },
            "baxis": {
             "endlinecolor": "#2a3f5f",
             "gridcolor": "white",
             "linecolor": "white",
             "minorgridcolor": "white",
             "startlinecolor": "#2a3f5f"
            },
            "type": "carpet"
           }
          ],
          "choropleth": [
           {
            "colorbar": {
             "outlinewidth": 0,
             "ticks": ""
            },
            "type": "choropleth"
           }
          ],
          "contour": [
           {
            "colorbar": {
             "outlinewidth": 0,
             "ticks": ""
            },
            "colorscale": [
             [
              0,
              "#0d0887"
             ],
             [
              0.1111111111111111,
              "#46039f"
             ],
             [
              0.2222222222222222,
              "#7201a8"
             ],
             [
              0.3333333333333333,
              "#9c179e"
             ],
             [
              0.4444444444444444,
              "#bd3786"
             ],
             [
              0.5555555555555556,
              "#d8576b"
             ],
             [
              0.6666666666666666,
              "#ed7953"
             ],
             [
              0.7777777777777778,
              "#fb9f3a"
             ],
             [
              0.8888888888888888,
              "#fdca26"
             ],
             [
              1,
              "#f0f921"
             ]
            ],
            "type": "contour"
           }
          ],
          "contourcarpet": [
           {
            "colorbar": {
             "outlinewidth": 0,
             "ticks": ""
            },
            "type": "contourcarpet"
           }
          ],
          "heatmap": [
           {
            "colorbar": {
             "outlinewidth": 0,
             "ticks": ""
            },
            "colorscale": [
             [
              0,
              "#0d0887"
             ],
             [
              0.1111111111111111,
              "#46039f"
             ],
             [
              0.2222222222222222,
              "#7201a8"
             ],
             [
              0.3333333333333333,
              "#9c179e"
             ],
             [
              0.4444444444444444,
              "#bd3786"
             ],
             [
              0.5555555555555556,
              "#d8576b"
             ],
             [
              0.6666666666666666,
              "#ed7953"
             ],
             [
              0.7777777777777778,
              "#fb9f3a"
             ],
             [
              0.8888888888888888,
              "#fdca26"
             ],
             [
              1,
              "#f0f921"
             ]
            ],
            "type": "heatmap"
           }
          ],
          "histogram": [
           {
            "marker": {
             "pattern": {
              "fillmode": "overlay",
              "size": 10,
              "solidity": 0.2
             }
            },
            "type": "histogram"
           }
          ],
          "histogram2d": [
           {
            "colorbar": {
             "outlinewidth": 0,
             "ticks": ""
            },
            "colorscale": [
             [
              0,
              "#0d0887"
             ],
             [
              0.1111111111111111,
              "#46039f"
             ],
             [
              0.2222222222222222,
              "#7201a8"
             ],
             [
              0.3333333333333333,
              "#9c179e"
             ],
             [
              0.4444444444444444,
              "#bd3786"
             ],
             [
              0.5555555555555556,
              "#d8576b"
             ],
             [
              0.6666666666666666,
              "#ed7953"
             ],
             [
              0.7777777777777778,
              "#fb9f3a"
             ],
             [
              0.8888888888888888,
              "#fdca26"
             ],
             [
              1,
              "#f0f921"
             ]
            ],
            "type": "histogram2d"
           }
          ],
          "histogram2dcontour": [
           {
            "colorbar": {
             "outlinewidth": 0,
             "ticks": ""
            },
            "colorscale": [
             [
              0,
              "#0d0887"
             ],
             [
              0.1111111111111111,
              "#46039f"
             ],
             [
              0.2222222222222222,
              "#7201a8"
             ],
             [
              0.3333333333333333,
              "#9c179e"
             ],
             [
              0.4444444444444444,
              "#bd3786"
             ],
             [
              0.5555555555555556,
              "#d8576b"
             ],
             [
              0.6666666666666666,
              "#ed7953"
             ],
             [
              0.7777777777777778,
              "#fb9f3a"
             ],
             [
              0.8888888888888888,
              "#fdca26"
             ],
             [
              1,
              "#f0f921"
             ]
            ],
            "type": "histogram2dcontour"
           }
          ],
          "mesh3d": [
           {
            "colorbar": {
             "outlinewidth": 0,
             "ticks": ""
            },
            "type": "mesh3d"
           }
          ],
          "parcoords": [
           {
            "line": {
             "colorbar": {
              "outlinewidth": 0,
              "ticks": ""
             }
            },
            "type": "parcoords"
           }
          ],
          "pie": [
           {
            "automargin": true,
            "type": "pie"
           }
          ],
          "scatter": [
           {
            "fillpattern": {
             "fillmode": "overlay",
             "size": 10,
             "solidity": 0.2
            },
            "type": "scatter"
           }
          ],
          "scatter3d": [
           {
            "line": {
             "colorbar": {
              "outlinewidth": 0,
              "ticks": ""
             }
            },
            "marker": {
             "colorbar": {
              "outlinewidth": 0,
              "ticks": ""
             }
            },
            "type": "scatter3d"
           }
          ],
          "scattercarpet": [
           {
            "marker": {
             "colorbar": {
              "outlinewidth": 0,
              "ticks": ""
             }
            },
            "type": "scattercarpet"
           }
          ],
          "scattergeo": [
           {
            "marker": {
             "colorbar": {
              "outlinewidth": 0,
              "ticks": ""
             }
            },
            "type": "scattergeo"
           }
          ],
          "scattergl": [
           {
            "marker": {
             "colorbar": {
              "outlinewidth": 0,
              "ticks": ""
             }
            },
            "type": "scattergl"
           }
          ],
          "scattermap": [
           {
            "marker": {
             "colorbar": {
              "outlinewidth": 0,
              "ticks": ""
             }
            },
            "type": "scattermap"
           }
          ],
          "scattermapbox": [
           {
            "marker": {
             "colorbar": {
              "outlinewidth": 0,
              "ticks": ""
             }
            },
            "type": "scattermapbox"
           }
          ],
          "scatterpolar": [
           {
            "marker": {
             "colorbar": {
              "outlinewidth": 0,
              "ticks": ""
             }
            },
            "type": "scatterpolar"
           }
          ],
          "scatterpolargl": [
           {
            "marker": {
             "colorbar": {
              "outlinewidth": 0,
              "ticks": ""
             }
            },
            "type": "scatterpolargl"
           }
          ],
          "scatterternary": [
           {
            "marker": {
             "colorbar": {
              "outlinewidth": 0,
              "ticks": ""
             }
            },
            "type": "scatterternary"
           }
          ],
          "surface": [
           {
            "colorbar": {
             "outlinewidth": 0,
             "ticks": ""
            },
            "colorscale": [
             [
              0,
              "#0d0887"
             ],
             [
              0.1111111111111111,
              "#46039f"
             ],
             [
              0.2222222222222222,
              "#7201a8"
             ],
             [
              0.3333333333333333,
              "#9c179e"
             ],
             [
              0.4444444444444444,
              "#bd3786"
             ],
             [
              0.5555555555555556,
              "#d8576b"
             ],
             [
              0.6666666666666666,
              "#ed7953"
             ],
             [
              0.7777777777777778,
              "#fb9f3a"
             ],
             [
              0.8888888888888888,
              "#fdca26"
             ],
             [
              1,
              "#f0f921"
             ]
            ],
            "type": "surface"
           }
          ],
          "table": [
           {
            "cells": {
             "fill": {
              "color": "#EBF0F8"
             },
             "line": {
              "color": "white"
             }
            },
            "header": {
             "fill": {
              "color": "#C8D4E3"
             },
             "line": {
              "color": "white"
             }
            },
            "type": "table"
           }
          ]
         },
         "layout": {
          "annotationdefaults": {
           "arrowcolor": "#2a3f5f",
           "arrowhead": 0,
           "arrowwidth": 1
          },
          "autotypenumbers": "strict",
          "coloraxis": {
           "colorbar": {
            "outlinewidth": 0,
            "ticks": ""
           }
          },
          "colorscale": {
           "diverging": [
            [
             0,
             "#8e0152"
            ],
            [
             0.1,
             "#c51b7d"
            ],
            [
             0.2,
             "#de77ae"
            ],
            [
             0.3,
             "#f1b6da"
            ],
            [
             0.4,
             "#fde0ef"
            ],
            [
             0.5,
             "#f7f7f7"
            ],
            [
             0.6,
             "#e6f5d0"
            ],
            [
             0.7,
             "#b8e186"
            ],
            [
             0.8,
             "#7fbc41"
            ],
            [
             0.9,
             "#4d9221"
            ],
            [
             1,
             "#276419"
            ]
           ],
           "sequential": [
            [
             0,
             "#0d0887"
            ],
            [
             0.1111111111111111,
             "#46039f"
            ],
            [
             0.2222222222222222,
             "#7201a8"
            ],
            [
             0.3333333333333333,
             "#9c179e"
            ],
            [
             0.4444444444444444,
             "#bd3786"
            ],
            [
             0.5555555555555556,
             "#d8576b"
            ],
            [
             0.6666666666666666,
             "#ed7953"
            ],
            [
             0.7777777777777778,
             "#fb9f3a"
            ],
            [
             0.8888888888888888,
             "#fdca26"
            ],
            [
             1,
             "#f0f921"
            ]
           ],
           "sequentialminus": [
            [
             0,
             "#0d0887"
            ],
            [
             0.1111111111111111,
             "#46039f"
            ],
            [
             0.2222222222222222,
             "#7201a8"
            ],
            [
             0.3333333333333333,
             "#9c179e"
            ],
            [
             0.4444444444444444,
             "#bd3786"
            ],
            [
             0.5555555555555556,
             "#d8576b"
            ],
            [
             0.6666666666666666,
             "#ed7953"
            ],
            [
             0.7777777777777778,
             "#fb9f3a"
            ],
            [
             0.8888888888888888,
             "#fdca26"
            ],
            [
             1,
             "#f0f921"
            ]
           ]
          },
          "colorway": [
           "#636efa",
           "#EF553B",
           "#00cc96",
           "#ab63fa",
           "#FFA15A",
           "#19d3f3",
           "#FF6692",
           "#B6E880",
           "#FF97FF",
           "#FECB52"
          ],
          "font": {
           "color": "#2a3f5f"
          },
          "geo": {
           "bgcolor": "white",
           "lakecolor": "white",
           "landcolor": "#E5ECF6",
           "showlakes": true,
           "showland": true,
           "subunitcolor": "white"
          },
          "hoverlabel": {
           "align": "left"
          },
          "hovermode": "closest",
          "mapbox": {
           "style": "light"
          },
          "paper_bgcolor": "white",
          "plot_bgcolor": "#E5ECF6",
          "polar": {
           "angularaxis": {
            "gridcolor": "white",
            "linecolor": "white",
            "ticks": ""
           },
           "bgcolor": "#E5ECF6",
           "radialaxis": {
            "gridcolor": "white",
            "linecolor": "white",
            "ticks": ""
           }
          },
          "scene": {
           "xaxis": {
            "backgroundcolor": "#E5ECF6",
            "gridcolor": "white",
            "gridwidth": 2,
            "linecolor": "white",
            "showbackground": true,
            "ticks": "",
            "zerolinecolor": "white"
           },
           "yaxis": {
            "backgroundcolor": "#E5ECF6",
            "gridcolor": "white",
            "gridwidth": 2,
            "linecolor": "white",
            "showbackground": true,
            "ticks": "",
            "zerolinecolor": "white"
           },
           "zaxis": {
            "backgroundcolor": "#E5ECF6",
            "gridcolor": "white",
            "gridwidth": 2,
            "linecolor": "white",
            "showbackground": true,
            "ticks": "",
            "zerolinecolor": "white"
           }
          },
          "shapedefaults": {
           "line": {
            "color": "#2a3f5f"
           }
          },
          "ternary": {
           "aaxis": {
            "gridcolor": "white",
            "linecolor": "white",
            "ticks": ""
           },
           "baxis": {
            "gridcolor": "white",
            "linecolor": "white",
            "ticks": ""
           },
           "bgcolor": "#E5ECF6",
           "caxis": {
            "gridcolor": "white",
            "linecolor": "white",
            "ticks": ""
           }
          },
          "title": {
           "x": 0.05
          },
          "xaxis": {
           "automargin": true,
           "gridcolor": "white",
           "linecolor": "white",
           "ticks": "",
           "title": {
            "standoff": 15
           },
           "zerolinecolor": "white",
           "zerolinewidth": 2
          },
          "yaxis": {
           "automargin": true,
           "gridcolor": "white",
           "linecolor": "white",
           "ticks": "",
           "title": {
            "standoff": 15
           },
           "zerolinecolor": "white",
           "zerolinewidth": 2
          }
         }
        },
        "title": {
         "text": "K-Means Clustering Analysis",
         "x": 0.5,
         "xanchor": "center"
        },
        "width": 1200,
        "xaxis": {
         "anchor": "y",
         "domain": [
          0,
          0.45
         ],
         "gridcolor": "grey",
         "title": {
          "text": "Number of Clusters (K)"
         },
         "zerolinecolor": "#878787"
        },
        "xaxis2": {
         "anchor": "y2",
         "domain": [
          0.55,
          1
         ],
         "gridcolor": "grey",
         "title": {
          "text": "Number of Clusters (K)"
         },
         "zerolinecolor": "#878787"
        },
        "yaxis": {
         "anchor": "x",
         "domain": [
          0,
          1
         ],
         "gridcolor": "grey",
         "title": {
          "text": "Within-Cluster Sum of Squares (WCSS)"
         },
         "zerolinecolor": "#878787"
        },
        "yaxis2": {
         "anchor": "x2",
         "domain": [
          0,
          1
         ],
         "gridcolor": "grey",
         "title": {
          "text": "Silhouette Score"
         },
         "zerolinecolor": "#878787"
        }
       }
      }
     },
     "metadata": {},
     "output_type": "display_data"
    },
    {
     "name": "stdout",
     "output_type": "stream",
     "text": [
      "Optimal number of clusters based on elbow method (KneeLocator): k = 8\n",
      "Optimal number of clusters based on silhouette score: k = 8\n",
      "Both methods agree on the optimal number of clusters ✓\n",
      "But I will use k=2 in the end. 😁\n"
     ]
    }
   ],
   "source": [
    "# Standardize features\n",
    "scaler = StandardScaler()\n",
    "X_scaled = scaler.fit_transform(X)\n",
    "\n",
    "# Elbow Method (WCSS) and Silhouette Analysis\n",
    "wcss = []\n",
    "silhouette_scores = []\n",
    "K = range(2, 11)\n",
    "\n",
    "for k in K:\n",
    "    kmeans = KMeans(n_clusters=k, random_state=42, n_init=10)\n",
    "    kmeans.fit(X_scaled)\n",
    "    wcss.append(kmeans.inertia_)\n",
    "    silhouette_scores.append(silhouette_score(X_scaled, kmeans.labels_))\n",
    "\n",
    "# Determine optimal k using KneeLocator for elbow method\n",
    "knee = KneeLocator(K, wcss, curve=\"convex\", direction=\"decreasing\")\n",
    "optimal_k_elbow = knee.knee\n",
    "\n",
    "# Determine optimal k based on silhouette score\n",
    "optimal_k_silhouette = K[np.argmax(silhouette_scores)]\n",
    "\n",
    "# Create subplot figure (1 row, 2 cols)\n",
    "fig = make_subplots(\n",
    "    rows=1, \n",
    "    cols=2, \n",
    "    subplot_titles=(\"Elbow Method for Optimal K\", \"Silhouette Scores for Optimal K\")\n",
    ")\n",
    "\n",
    "# --- Plot 1: Elbow Method ---\n",
    "fig.add_trace(\n",
    "    go.Scatter(\n",
    "        x=list(K),\n",
    "        y=wcss,\n",
    "        mode=\"lines+markers\",\n",
    "        line=dict(color=PRIMARY_COLOR, width=2),\n",
    "        marker=dict(color=PRIMARY_COLOR, size=8),\n",
    "        name=\"WCSS\"\n",
    "    ),\n",
    "    row=1, col=1\n",
    ")\n",
    "\n",
    "# --- Plot 2: Silhouette Scores ---\n",
    "fig.add_trace(\n",
    "    go.Scatter(\n",
    "        x=list(K),\n",
    "        y=silhouette_scores,\n",
    "        mode=\"lines+markers\",\n",
    "        line=dict(color=PRIMARY_COLOR, width=2),\n",
    "        marker=dict(color=PRIMARY_COLOR, size=8),\n",
    "        name=\"Silhouette Score\"\n",
    "    ),\n",
    "    row=1, col=2\n",
    ")\n",
    "\n",
    "# Layout\n",
    "fig.update_layout(\n",
    "    title_text=\"K-Means Clustering Analysis\",\n",
    "    title_x=0.5,\n",
    "    title=dict(x=0.5, xanchor='center'),\n",
    "    plot_bgcolor=BACKGROUND_COLOR,\n",
    "    paper_bgcolor=BACKGROUND_COLOR,\n",
    "    font=dict(color=GRID_TEXT_COLOR, size=12),\n",
    "    height=500,\n",
    "    width=1200,\n",
    "    showlegend=False\n",
    ")\n",
    "\n",
    "fig.update_xaxes(title_text=\"Number of Clusters (K)\", gridcolor='grey', zerolinecolor=GRID_TEXT_COLOR, row=1, col=1)\n",
    "fig.update_yaxes(title_text=\"Within-Cluster Sum of Squares (WCSS)\", gridcolor='grey', zerolinecolor=GRID_TEXT_COLOR, row=1, col=1)\n",
    "fig.update_xaxes(title_text=\"Number of Clusters (K)\", gridcolor='grey', zerolinecolor=GRID_TEXT_COLOR, row=1, col=2)\n",
    "fig.update_yaxes(title_text=\"Silhouette Score\", gridcolor='grey', zerolinecolor=GRID_TEXT_COLOR, row=1, col=2)\n",
    "\n",
    "fig.show()\n",
    "\n",
    "print(f\"Optimal number of clusters based on elbow method (KneeLocator): k = {optimal_k_elbow}\")\n",
    "print(f\"Optimal number of clusters based on silhouette score: k = {optimal_k_silhouette}\")\n",
    "\n",
    "# Decide which optimal k to use\n",
    "# Silhouette score is generally more reliable, but we can compare\n",
    "if optimal_k_elbow == optimal_k_silhouette:\n",
    "    print(\"Both methods agree on the optimal number of clusters ✓\")\n",
    "    final_optimal_k = optimal_k_silhouette\n",
    "else:\n",
    "    print(\"Methods disagree. Silhouette score is generally more reliable for clustering.\")\n",
    "    print(\"Consider examining both solutions or prioritizing silhouette score.\")\n",
    "    final_optimal_k = optimal_k_silhouette  # Default to silhouette score\n",
    "\n",
    "print(\"But I will use k=2 in the end. 😁\")\n",
    "\n",
    "# Fit K-Means\n",
    "kmeans = KMeans(n_clusters=2, random_state=42, n_init=10)\n",
    "kmeans_labels = kmeans.fit_predict(X_scaled)"
   ]
  },
  {
   "cell_type": "markdown",
   "id": "00abea46",
   "metadata": {},
   "source": [
    "#### **Hierarchical Clustering**"
   ]
  },
  {
   "cell_type": "code",
   "execution_count": 96,
   "id": "99b9666a",
   "metadata": {},
   "outputs": [
    {
     "data": {
      "image/png": "[encoded data removed]",
      "text/plain": [
       "<Figure size 1600x600 with 1 Axes>"
      ]
     },
     "metadata": {},
     "output_type": "display_data"
    },
    {
     "name": "stdout",
     "output_type": "stream",
     "text": [
      "\n",
      "Hierarchical Clustering Results:\n",
      "-----------------------------------\n",
      "Cluster 0: 155 samples\n",
      "Cluster 1: 148 samples\n"
     ]
    }
   ],
   "source": [
    "# Create dendrogram with colored clusters\n",
    "plt.figure(figsize=(16, 6))\n",
    "linked = linkage(X_scaled, method='ward')\n",
    "\n",
    "# Create dendrogram with colored clusters\n",
    "dendrogram(linked, \n",
    "           orientation='top', \n",
    "           distance_sort='descending', \n",
    "           show_leaf_counts=True,\n",
    "           color_threshold=linked[-(final_optimal_k-1), 2],  # Set threshold to get k clusters\n",
    "           above_threshold_color='grey')  # Color for non-clustered parts\n",
    "\n",
    "plt.title(f'Dendrogram for Hierarchical Clustering (k={final_optimal_k} clusters)', fontsize=16)\n",
    "plt.xlabel('Sample Index', fontsize=12)\n",
    "plt.ylabel('Distance', fontsize=12)\n",
    "plt.grid(False)\n",
    "plt.show()\n",
    "\n",
    "# Apply hierarchical clustering with optimal k\n",
    "hierarchical = AgglomerativeClustering(n_clusters=2, metric='euclidean', linkage='ward')\n",
    "hierarchical_labels = hierarchical.fit_predict(X_scaled)\n",
    "\n",
    "# Print cluster sizes\n",
    "unique, counts = np.unique(hierarchical_labels, return_counts=True)\n",
    "print(\"\\nHierarchical Clustering Results:\")\n",
    "print(\"-\" * 35)\n",
    "for cluster_id, count in zip(unique, counts):\n",
    "    print(f\"Cluster {cluster_id}: {count} samples\")"
   ]
  },
  {
   "cell_type": "markdown",
   "id": "1b4d4798",
   "metadata": {},
   "source": [
    "#### **Compare with Actual Labels**"
   ]
  },
  {
   "cell_type": "code",
   "execution_count": 97,
   "id": "1f2853de",
   "metadata": {},
   "outputs": [
    {
     "data": {
      "application/vnd.plotly.v1+json": {
       "config": {
        "plotlyServerURL": "https://plot.ly"
       },
       "data": [
        {
         "marker": {
          "color": [
           "#124062",
           "#124062",
           "#124062",
           "#1f77b4",
           "#1f77b4",
           "#1f77b4",
           "#124062",
           "#1f77b4",
           "#124062",
           "#124062",
           "#124062",
           "#1f77b4",
           "#124062",
           "#1f77b4",
           "#1f77b4",
           "#1f77b4",
           "#1f77b4",
           "#1f77b4",
           "#1f77b4",
           "#1f77b4",
           "#124062",
           "#1f77b4",
           "#1f77b4",
           "#1f77b4",
           "#124062",
           "#1f77b4",
           "#1f77b4",
           "#124062",
           "#1f77b4",
           "#124062",
           "#1f77b4",
           "#124062",
           "#1f77b4",
           "#124062",
           "#1f77b4",
           "#1f77b4",
           "#124062",
           "#124062",
           "#124062",
           "#124062",
           "#124062",
           "#1f77b4",
           "#1f77b4",
           "#1f77b4",
           "#1f77b4",
           "#1f77b4",
           "#1f77b4",
           "#124062",
           "#1f77b4",
           "#1f77b4",
           "#1f77b4",
           "#124062",
           "#1f77b4",
           "#1f77b4",
           "#124062",
           "#124062",
           "#1f77b4",
           "#1f77b4",
           "#1f77b4",
           "#124062",
           "#124062",
           "#1f77b4",
           "#124062",
           "#1f77b4",
           "#124062",
           "#124062",
           "#1f77b4",
           "#1f77b4",
           "#124062",
           "#1f77b4",
           "#1f77b4",
           "#124062",
           "#124062",
           "#124062",
           "#1f77b4",
           "#1f77b4",
           "#124062",
           "#1f77b4",
           "#1f77b4",
           "#124062",
           "#124062",
           "#1f77b4",
           "#1f77b4",
           "#124062",
           "#1f77b4",
           "#1f77b4",
           "#1f77b4",
           "#1f77b4",
           "#1f77b4",
           "#1f77b4",
           "#124062",
           "#124062",
           "#124062",
           "#1f77b4",
           "#1f77b4",
           "#124062",
           "#124062",
           "#124062",
           "#1f77b4",
           "#1f77b4",
           "#1f77b4",
           "#1f77b4",
           "#1f77b4",
           "#1f77b4",
           "#124062",
           "#1f77b4",
           "#124062",
           "#1f77b4",
           "#124062",
           "#124062",
           "#124062",
           "#124062",
           "#1f77b4",
           "#124062",
           "#124062",
           "#1f77b4",
           "#1f77b4",
           "#1f77b4",
           "#124062",
           "#124062",
           "#124062",
           "#124062",
           "#1f77b4",
           "#124062",
           "#1f77b4",
           "#1f77b4",
           "#124062",
           "#124062",
           "#1f77b4",
           "#1f77b4",
           "#1f77b4",
           "#1f77b4",
           "#1f77b4",
           "#1f77b4",
           "#1f77b4",
           "#1f77b4",
           "#124062",
           "#124062",
           "#124062",
           "#1f77b4",
           "#1f77b4",
           "#124062",
           "#1f77b4",
           "#124062",
           "#124062",
           "#1f77b4",
           "#124062",
           "#1f77b4",
           "#1f77b4",
           "#1f77b4",
           "#1f77b4",
           "#1f77b4",
           "#1f77b4",
           "#124062",
           "#124062",
           "#124062",
           "#124062",
           "#124062",
           "#124062",
           "#1f77b4",
           "#1f77b4",
           "#124062",
           "#1f77b4",
           "#124062",
           "#1f77b4",
           "#124062",
           "#1f77b4",
           "#1f77b4",
           "#124062",
           "#1f77b4",
           "#124062",
           "#124062",
           "#124062",
           "#124062",
           "#124062",
           "#124062",
           "#124062",
           "#124062",
           "#1f77b4",
           "#1f77b4",
           "#124062",
           "#124062",
           "#1f77b4",
           "#124062",
           "#1f77b4",
           "#1f77b4",
           "#1f77b4",
           "#124062",
           "#1f77b4",
           "#124062",
           "#1f77b4",
           "#124062",
           "#124062",
           "#124062",
           "#1f77b4",
           "#124062",
           "#124062",
           "#124062",
           "#1f77b4",
           "#1f77b4",
           "#1f77b4",
           "#124062",
           "#1f77b4",
           "#1f77b4",
           "#1f77b4",
           "#124062",
           "#124062",
           "#124062",
           "#1f77b4",
           "#124062",
           "#1f77b4",
           "#124062",
           "#1f77b4",
           "#124062",
           "#1f77b4",
           "#124062",
           "#1f77b4",
           "#124062",
           "#124062",
           "#1f77b4",
           "#1f77b4",
           "#1f77b4",
           "#1f77b4",
           "#124062",
           "#124062",
           "#1f77b4",
           "#1f77b4",
           "#1f77b4",
           "#124062",
           "#124062",
           "#1f77b4",
           "#124062",
           "#1f77b4",
           "#1f77b4",
           "#1f77b4",
           "#124062",
           "#124062",
           "#124062",
           "#1f77b4",
           "#1f77b4",
           "#1f77b4",
           "#1f77b4",
           "#1f77b4",
           "#124062",
           "#1f77b4",
           "#124062",
           "#1f77b4",
           "#124062",
           "#124062",
           "#1f77b4",
           "#124062",
           "#124062",
           "#124062",
           "#1f77b4",
           "#1f77b4",
           "#1f77b4",
           "#1f77b4",
           "#124062",
           "#1f77b4",
           "#1f77b4",
           "#1f77b4",
           "#1f77b4",
           "#1f77b4",
           "#1f77b4",
           "#124062",
           "#124062",
           "#124062",
           "#124062",
           "#1f77b4",
           "#1f77b4",
           "#124062",
           "#124062",
           "#124062",
           "#124062",
           "#1f77b4",
           "#124062",
           "#1f77b4",
           "#1f77b4",
           "#1f77b4",
           "#124062",
           "#124062",
           "#1f77b4",
           "#124062",
           "#1f77b4",
           "#124062",
           "#124062",
           "#124062",
           "#1f77b4",
           "#1f77b4",
           "#1f77b4",
           "#1f77b4",
           "#1f77b4",
           "#124062",
           "#124062",
           "#124062",
           "#1f77b4",
           "#124062",
           "#124062",
           "#1f77b4",
           "#124062",
           "#124062",
           "#1f77b4",
           "#1f77b4"
          ],
          "line": {
           "color": "#1F1F1F",
           "width": 1
          },
          "opacity": 0.8,
          "size": 8
         },
         "mode": "markers",
         "name": "K-Means Clusters",
         "showlegend": false,
         "type": "scatter",
         "x": {
          "bdata": "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",
          "dtype": "f8"
         },
         "xaxis": "x",
         "y": {
          "bdata": "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",
          "dtype": "f8"
         },
         "yaxis": "y"
        },
        {
         "marker": {
          "color": [
           "#124062",
           "#124062",
           "#124062",
           "#124062",
           "#1f77b4",
           "#1f77b4",
           "#124062",
           "#124062",
           "#124062",
           "#124062",
           "#124062",
           "#1f77b4",
           "#124062",
           "#1f77b4",
           "#1f77b4",
           "#1f77b4",
           "#124062",
           "#124062",
           "#1f77b4",
           "#1f77b4",
           "#124062",
           "#1f77b4",
           "#1f77b4",
           "#1f77b4",
           "#124062",
           "#1f77b4",
           "#1f77b4",
           "#124062",
           "#124062",
           "#124062",
           "#1f77b4",
           "#1f77b4",
           "#1f77b4",
           "#124062",
           "#1f77b4",
           "#124062",
           "#124062",
           "#124062",
           "#124062",
           "#1f77b4",
           "#124062",
           "#124062",
           "#1f77b4",
           "#1f77b4",
           "#124062",
           "#1f77b4",
           "#1f77b4",
           "#124062",
           "#1f77b4",
           "#124062",
           "#1f77b4",
           "#124062",
           "#124062",
           "#1f77b4",
           "#124062",
           "#124062",
           "#1f77b4",
           "#124062",
           "#124062",
           "#124062",
           "#124062",
           "#124062",
           "#124062",
           "#1f77b4",
           "#124062",
           "#124062",
           "#1f77b4",
           "#1f77b4",
           "#124062",
           "#1f77b4",
           "#1f77b4",
           "#1f77b4",
           "#124062",
           "#124062",
           "#124062",
           "#1f77b4",
           "#124062",
           "#1f77b4",
           "#1f77b4",
           "#124062",
           "#124062",
           "#124062",
           "#1f77b4",
           "#1f77b4",
           "#1f77b4",
           "#1f77b4",
           "#1f77b4",
           "#1f77b4",
           "#124062",
           "#1f77b4",
           "#124062",
           "#124062",
           "#1f77b4",
           "#1f77b4",
           "#1f77b4",
           "#124062",
           "#124062",
           "#124062",
           "#1f77b4",
           "#124062",
           "#124062",
           "#1f77b4",
           "#124062",
           "#1f77b4",
           "#1f77b4",
           "#1f77b4",
           "#124062",
           "#1f77b4",
           "#124062",
           "#124062",
           "#124062",
           "#1f77b4",
           "#124062",
           "#1f77b4",
           "#1f77b4",
           "#124062",
           "#1f77b4",
           "#124062",
           "#1f77b4",
           "#124062",
           "#1f77b4",
           "#124062",
           "#1f77b4",
           "#124062",
           "#1f77b4",
           "#1f77b4",
           "#124062",
           "#124062",
           "#1f77b4",
           "#124062",
           "#1f77b4",
           "#1f77b4",
           "#1f77b4",
           "#124062",
           "#1f77b4",
           "#1f77b4",
           "#124062",
           "#1f77b4",
           "#124062",
           "#1f77b4",
           "#1f77b4",
           "#1f77b4",
           "#1f77b4",
           "#1f77b4",
           "#1f77b4",
           "#1f77b4",
           "#1f77b4",
           "#1f77b4",
           "#1f77b4",
           "#1f77b4",
           "#1f77b4",
           "#124062",
           "#124062",
           "#124062",
           "#124062",
           "#124062",
           "#124062",
           "#124062",
           "#124062",
           "#1f77b4",
           "#1f77b4",
           "#124062",
           "#1f77b4",
           "#124062",
           "#1f77b4",
           "#124062",
           "#1f77b4",
           "#1f77b4",
           "#124062",
           "#1f77b4",
           "#1f77b4",
           "#124062",
           "#124062",
           "#124062",
           "#124062",
           "#124062",
           "#1f77b4",
           "#124062",
           "#1f77b4",
           "#1f77b4",
           "#124062",
           "#124062",
           "#1f77b4",
           "#124062",
           "#124062",
           "#1f77b4",
           "#124062",
           "#124062",
           "#1f77b4",
           "#1f77b4",
           "#1f77b4",
           "#124062",
           "#1f77b4",
           "#124062",
           "#1f77b4",
           "#124062",
           "#1f77b4",
           "#124062",
           "#1f77b4",
           "#1f77b4",
           "#124062",
           "#124062",
           "#1f77b4",
           "#1f77b4",
           "#124062",
           "#124062",
           "#124062",
           "#124062",
           "#1f77b4",
           "#124062",
           "#1f77b4",
           "#124062",
           "#1f77b4",
           "#1f77b4",
           "#124062",
           "#124062",
           "#1f77b4",
           "#124062",
           "#124062",
           "#124062",
           "#1f77b4",
           "#1f77b4",
           "#1f77b4",
           "#124062",
           "#124062",
           "#1f77b4",
           "#124062",
           "#1f77b4",
           "#124062",
           "#124062",
           "#1f77b4",
           "#124062",
           "#1f77b4",
           "#1f77b4",
           "#1f77b4",
           "#124062",
           "#124062",
           "#124062",
           "#1f77b4",
           "#1f77b4",
           "#1f77b4",
           "#1f77b4",
           "#124062",
           "#1f77b4",
           "#1f77b4",
           "#124062",
           "#124062",
           "#124062",
           "#124062",
           "#1f77b4",
           "#124062",
           "#124062",
           "#124062",
           "#1f77b4",
           "#124062",
           "#1f77b4",
           "#124062",
           "#124062",
           "#1f77b4",
           "#1f77b4",
           "#1f77b4",
           "#1f77b4",
           "#1f77b4",
           "#1f77b4",
           "#124062",
           "#124062",
           "#1f77b4",
           "#124062",
           "#124062",
           "#1f77b4",
           "#124062",
           "#124062",
           "#124062",
           "#124062",
           "#1f77b4",
           "#1f77b4",
           "#1f77b4",
           "#1f77b4",
           "#1f77b4",
           "#124062",
           "#124062",
           "#1f77b4",
           "#124062",
           "#1f77b4",
           "#124062",
           "#124062",
           "#124062",
           "#1f77b4",
           "#1f77b4",
           "#124062",
           "#1f77b4",
           "#1f77b4",
           "#124062",
           "#124062",
           "#124062",
           "#1f77b4",
           "#124062",
           "#124062",
           "#124062",
           "#1f77b4",
           "#124062",
           "#1f77b4",
           "#1f77b4"
          ],
          "line": {
           "color": "#1F1F1F",
           "width": 1
          },
          "opacity": 0.8,
          "size": 8
         },
         "mode": "markers",
         "name": "Hierarchical Clusters",
         "showlegend": false,
         "type": "scatter",
         "x": {
          "bdata": "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",
          "dtype": "f8"
         },
         "xaxis": "x2",
         "y": {
          "bdata": "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",
          "dtype": "f8"
         },
         "yaxis": "y2"
        },
        {
         "marker": {
          "color": [
           "#1f77b4",
           "#124062",
           "#124062",
           "#1f77b4",
           "#1f77b4",
           "#1f77b4",
           "#124062",
           "#1f77b4",
           "#124062",
           "#124062",
           "#1f77b4",
           "#1f77b4",
           "#124062",
           "#1f77b4",
           "#1f77b4",
           "#1f77b4",
           "#124062",
           "#1f77b4",
           "#1f77b4",
           "#1f77b4",
           "#1f77b4",
           "#1f77b4",
           "#124062",
           "#124062",
           "#124062",
           "#1f77b4",
           "#1f77b4",
           "#1f77b4",
           "#1f77b4",
           "#124062",
           "#1f77b4",
           "#124062",
           "#124062",
           "#1f77b4",
           "#1f77b4",
           "#1f77b4",
           "#124062",
           "#124062",
           "#124062",
           "#1f77b4",
           "#124062",
           "#1f77b4",
           "#1f77b4",
           "#1f77b4",
           "#124062",
           "#124062",
           "#1f77b4",
           "#124062",
           "#1f77b4",
           "#1f77b4",
           "#1f77b4",
           "#1f77b4",
           "#124062",
           "#1f77b4",
           "#124062",
           "#124062",
           "#124062",
           "#124062",
           "#1f77b4",
           "#1f77b4",
           "#124062",
           "#1f77b4",
           "#124062",
           "#1f77b4",
           "#124062",
           "#124062",
           "#124062",
           "#1f77b4",
           "#124062",
           "#124062",
           "#1f77b4",
           "#124062",
           "#124062",
           "#124062",
           "#124062",
           "#1f77b4",
           "#124062",
           "#1f77b4",
           "#1f77b4",
           "#124062",
           "#1f77b4",
           "#1f77b4",
           "#1f77b4",
           "#124062",
           "#1f77b4",
           "#1f77b4",
           "#1f77b4",
           "#1f77b4",
           "#1f77b4",
           "#1f77b4",
           "#1f77b4",
           "#124062",
           "#1f77b4",
           "#1f77b4",
           "#1f77b4",
           "#124062",
           "#124062",
           "#124062",
           "#1f77b4",
           "#1f77b4",
           "#1f77b4",
           "#1f77b4",
           "#1f77b4",
           "#1f77b4",
           "#124062",
           "#1f77b4",
           "#124062",
           "#124062",
           "#124062",
           "#124062",
           "#124062",
           "#124062",
           "#1f77b4",
           "#124062",
           "#124062",
           "#1f77b4",
           "#1f77b4",
           "#1f77b4",
           "#124062",
           "#124062",
           "#124062",
           "#124062",
           "#1f77b4",
           "#124062",
           "#124062",
           "#1f77b4",
           "#124062",
           "#124062",
           "#1f77b4",
           "#1f77b4",
           "#1f77b4",
           "#1f77b4",
           "#1f77b4",
           "#1f77b4",
           "#1f77b4",
           "#1f77b4",
           "#124062",
           "#124062",
           "#124062",
           "#1f77b4",
           "#1f77b4",
           "#124062",
           "#1f77b4",
           "#124062",
           "#1f77b4",
           "#124062",
           "#124062",
           "#1f77b4",
           "#1f77b4",
           "#1f77b4",
           "#1f77b4",
           "#1f77b4",
           "#1f77b4",
           "#124062",
           "#124062",
           "#124062",
           "#124062",
           "#124062",
           "#124062",
           "#1f77b4",
           "#1f77b4",
           "#124062",
           "#1f77b4",
           "#1f77b4",
           "#1f77b4",
           "#1f77b4",
           "#1f77b4",
           "#1f77b4",
           "#124062",
           "#1f77b4",
           "#124062",
           "#1f77b4",
           "#124062",
           "#1f77b4",
           "#124062",
           "#124062",
           "#1f77b4",
           "#124062",
           "#1f77b4",
           "#1f77b4",
           "#124062",
           "#124062",
           "#1f77b4",
           "#1f77b4",
           "#124062",
           "#1f77b4",
           "#1f77b4",
           "#124062",
           "#124062",
           "#124062",
           "#1f77b4",
           "#124062",
           "#124062",
           "#124062",
           "#1f77b4",
           "#124062",
           "#1f77b4",
           "#1f77b4",
           "#1f77b4",
           "#124062",
           "#1f77b4",
           "#1f77b4",
           "#1f77b4",
           "#1f77b4",
           "#1f77b4",
           "#124062",
           "#124062",
           "#124062",
           "#1f77b4",
           "#124062",
           "#1f77b4",
           "#124062",
           "#1f77b4",
           "#124062",
           "#124062",
           "#1f77b4",
           "#1f77b4",
           "#1f77b4",
           "#1f77b4",
           "#1f77b4",
           "#1f77b4",
           "#1f77b4",
           "#1f77b4",
           "#124062",
           "#124062",
           "#1f77b4",
           "#1f77b4",
           "#1f77b4",
           "#124062",
           "#124062",
           "#1f77b4",
           "#124062",
           "#124062",
           "#1f77b4",
           "#1f77b4",
           "#124062",
           "#124062",
           "#124062",
           "#1f77b4",
           "#1f77b4",
           "#1f77b4",
           "#1f77b4",
           "#1f77b4",
           "#124062",
           "#1f77b4",
           "#124062",
           "#124062",
           "#124062",
           "#124062",
           "#1f77b4",
           "#1f77b4",
           "#124062",
           "#1f77b4",
           "#1f77b4",
           "#1f77b4",
           "#1f77b4",
           "#1f77b4",
           "#1f77b4",
           "#1f77b4",
           "#124062",
           "#1f77b4",
           "#124062",
           "#1f77b4",
           "#1f77b4",
           "#124062",
           "#124062",
           "#124062",
           "#124062",
           "#124062",
           "#1f77b4",
           "#124062",
           "#1f77b4",
           "#124062",
           "#1f77b4",
           "#124062",
           "#1f77b4",
           "#1f77b4",
           "#1f77b4",
           "#124062",
           "#1f77b4",
           "#124062",
           "#1f77b4",
           "#124062",
           "#1f77b4",
           "#124062",
           "#124062",
           "#124062",
           "#1f77b4",
           "#1f77b4",
           "#1f77b4",
           "#124062",
           "#1f77b4",
           "#124062",
           "#124062",
           "#124062",
           "#1f77b4",
           "#124062",
           "#124062",
           "#124062",
           "#124062",
           "#124062",
           "#124062",
           "#1f77b4"
          ],
          "line": {
           "color": "#1F1F1F",
           "width": 1
          },
          "opacity": 0.8,
          "size": 8
         },
         "mode": "markers",
         "name": "Actual Labels",
         "showlegend": false,
         "type": "scatter",
         "x": {
          "bdata": "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",
          "dtype": "f8"
         },
         "xaxis": "x3",
         "y": {
          "bdata": "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",
          "dtype": "f8"
         },
         "yaxis": "y3"
        },
        {
         "marker": {
          "color": "#1f77b4"
         },
         "name": "K-Means",
         "opacity": 0.8,
         "type": "bar",
         "x": [
          "Adjusted Rand Index",
          "Normalized Mutual Info"
         ],
         "xaxis": "x4",
         "y": [
          0.3626613610427311,
          0.2801897497722847
         ],
         "yaxis": "y4"
        },
        {
         "marker": {
          "color": "#124062"
         },
         "name": "Hierarchical",
         "opacity": 0.8,
         "type": "bar",
         "x": [
          "Adjusted Rand Index",
          "Normalized Mutual Info"
         ],
         "xaxis": "x4",
         "y": [
          0.1412231719683903,
          0.10898584325342131
         ],
         "yaxis": "y4"
        },
        {
         "marker": {
          "color": "#1f77b4",
          "line": {
           "color": "#1F1F1F",
           "width": 1
          },
          "size": 12
         },
         "mode": "markers",
         "name": "No Disease (0)",
         "showlegend": true,
         "type": "scatter",
         "x": [
          null
         ],
         "xaxis": "x",
         "y": [
          null
         ],
         "yaxis": "y"
        },
        {
         "marker": {
          "color": "#124062",
          "line": {
           "color": "#1F1F1F",
           "width": 1
          },
          "size": 12
         },
         "mode": "markers",
         "name": "Disease (1)",
         "showlegend": true,
         "type": "scatter",
         "x": [
          null
         ],
         "xaxis": "x",
         "y": [
          null
         ],
         "yaxis": "y"
        }
       ],
       "layout": {
        "annotations": [
         {
          "font": {
           "size": 16
          },
          "showarrow": false,
          "text": "K-Means Clustering (k=2)",
          "x": 0.225,
          "xanchor": "center",
          "xref": "paper",
          "y": 1,
          "yanchor": "bottom",
          "yref": "paper"
         },
         {
          "font": {
           "size": 16
          },
          "showarrow": false,
          "text": "Hierarchical Clustering (k=2)",
          "x": 0.775,
          "xanchor": "center",
          "xref": "paper",
          "y": 1,
          "yanchor": "bottom",
          "yref": "paper"
         },
         {
          "font": {
           "size": 16
          },
          "showarrow": false,
          "text": "Actual Disease Labels",
          "x": 0.225,
          "xanchor": "center",
          "xref": "paper",
          "y": 0.44,
          "yanchor": "bottom",
          "yref": "paper"
         },
         {
          "font": {
           "size": 16
          },
          "showarrow": false,
          "text": "Comparison with True Labels",
          "x": 0.775,
          "xanchor": "center",
          "xref": "paper",
          "y": 0.44,
          "yanchor": "bottom",
          "yref": "paper"
         }
        ],
        "font": {
         "color": "#878787",
         "size": 12
        },
        "height": 900,
        "legend": {
         "bgcolor": "rgba(255, 255, 255, 0)",
         "bordercolor": "rgba(255, 255, 255, 0)",
         "borderwidth": 0,
         "x": 1.02,
         "xanchor": "left",
         "y": 0.5,
         "yanchor": "middle"
        },
        "paper_bgcolor": "#1F1F1F",
        "plot_bgcolor": "#1F1F1F",
        "showlegend": true,
        "template": {
         "data": {
          "bar": [
           {
            "error_x": {
             "color": "#2a3f5f"
            },
            "error_y": {
             "color": "#2a3f5f"
            },
            "marker": {
             "line": {
              "color": "#E5ECF6",
              "width": 0.5
             },
             "pattern": {
              "fillmode": "overlay",
              "size": 10,
              "solidity": 0.2
             }
            },
            "type": "bar"
           }
          ],
          "barpolar": [
           {
            "marker": {
             "line": {
              "color": "#E5ECF6",
              "width": 0.5
             },
             "pattern": {
              "fillmode": "overlay",
              "size": 10,
              "solidity": 0.2
             }
            },
            "type": "barpolar"
           }
          ],
          "carpet": [
           {
            "aaxis": {
             "endlinecolor": "#2a3f5f",
             "gridcolor": "white",
             "linecolor": "white",
             "minorgridcolor": "white",
             "startlinecolor": "#2a3f5f"
            },
            "baxis": {
             "endlinecolor": "#2a3f5f",
             "gridcolor": "white",
             "linecolor": "white",
             "minorgridcolor": "white",
             "startlinecolor": "#2a3f5f"
            },
            "type": "carpet"
           }
          ],
          "choropleth": [
           {
            "colorbar": {
             "outlinewidth": 0,
             "ticks": ""
            },
            "type": "choropleth"
           }
          ],
          "contour": [
           {
            "colorbar": {
             "outlinewidth": 0,
             "ticks": ""
            },
            "colorscale": [
             [
              0,
              "#0d0887"
             ],
             [
              0.1111111111111111,
              "#46039f"
             ],
             [
              0.2222222222222222,
              "#7201a8"
             ],
             [
              0.3333333333333333,
              "#9c179e"
             ],
             [
              0.4444444444444444,
              "#bd3786"
             ],
             [
              0.5555555555555556,
              "#d8576b"
             ],
             [
              0.6666666666666666,
              "#ed7953"
             ],
             [
              0.7777777777777778,
              "#fb9f3a"
             ],
             [
              0.8888888888888888,
              "#fdca26"
             ],
             [
              1,
              "#f0f921"
             ]
            ],
            "type": "contour"
           }
          ],
          "contourcarpet": [
           {
            "colorbar": {
             "outlinewidth": 0,
             "ticks": ""
            },
            "type": "contourcarpet"
           }
          ],
          "heatmap": [
           {
            "colorbar": {
             "outlinewidth": 0,
             "ticks": ""
            },
            "colorscale": [
             [
              0,
              "#0d0887"
             ],
             [
              0.1111111111111111,
              "#46039f"
             ],
             [
              0.2222222222222222,
              "#7201a8"
             ],
             [
              0.3333333333333333,
              "#9c179e"
             ],
             [
              0.4444444444444444,
              "#bd3786"
             ],
             [
              0.5555555555555556,
              "#d8576b"
             ],
             [
              0.6666666666666666,
              "#ed7953"
             ],
             [
              0.7777777777777778,
              "#fb9f3a"
             ],
             [
              0.8888888888888888,
              "#fdca26"
             ],
             [
              1,
              "#f0f921"
             ]
            ],
            "type": "heatmap"
           }
          ],
          "histogram": [
           {
            "marker": {
             "pattern": {
              "fillmode": "overlay",
              "size": 10,
              "solidity": 0.2
             }
            },
            "type": "histogram"
           }
          ],
          "histogram2d": [
           {
            "colorbar": {
             "outlinewidth": 0,
             "ticks": ""
            },
            "colorscale": [
             [
              0,
              "#0d0887"
             ],
             [
              0.1111111111111111,
              "#46039f"
             ],
             [
              0.2222222222222222,
              "#7201a8"
             ],
             [
              0.3333333333333333,
              "#9c179e"
             ],
             [
              0.4444444444444444,
              "#bd3786"
             ],
             [
              0.5555555555555556,
              "#d8576b"
             ],
             [
              0.6666666666666666,
              "#ed7953"
             ],
             [
              0.7777777777777778,
              "#fb9f3a"
             ],
             [
              0.8888888888888888,
              "#fdca26"
             ],
             [
              1,
              "#f0f921"
             ]
            ],
            "type": "histogram2d"
           }
          ],
          "histogram2dcontour": [
           {
            "colorbar": {
             "outlinewidth": 0,
             "ticks": ""
            },
            "colorscale": [
             [
              0,
              "#0d0887"
             ],
             [
              0.1111111111111111,
              "#46039f"
             ],
             [
              0.2222222222222222,
              "#7201a8"
             ],
             [
              0.3333333333333333,
              "#9c179e"
             ],
             [
              0.4444444444444444,
              "#bd3786"
             ],
             [
              0.5555555555555556,
              "#d8576b"
             ],
             [
              0.6666666666666666,
              "#ed7953"
             ],
             [
              0.7777777777777778,
              "#fb9f3a"
             ],
             [
              0.8888888888888888,
              "#fdca26"
             ],
             [
              1,
              "#f0f921"
             ]
            ],
            "type": "histogram2dcontour"
           }
          ],
          "mesh3d": [
           {
            "colorbar": {
             "outlinewidth": 0,
             "ticks": ""
            },
            "type": "mesh3d"
           }
          ],
          "parcoords": [
           {
            "line": {
             "colorbar": {
              "outlinewidth": 0,
              "ticks": ""
             }
            },
            "type": "parcoords"
           }
          ],
          "pie": [
           {
            "automargin": true,
            "type": "pie"
           }
          ],
          "scatter": [
           {
            "fillpattern": {
             "fillmode": "overlay",
             "size": 10,
             "solidity": 0.2
            },
            "type": "scatter"
           }
          ],
          "scatter3d": [
           {
            "line": {
             "colorbar": {
              "outlinewidth": 0,
              "ticks": ""
             }
            },
            "marker": {
             "colorbar": {
              "outlinewidth": 0,
              "ticks": ""
             }
            },
            "type": "scatter3d"
           }
          ],
          "scattercarpet": [
           {
            "marker": {
             "colorbar": {
              "outlinewidth": 0,
              "ticks": ""
             }
            },
            "type": "scattercarpet"
           }
          ],
          "scattergeo": [
           {
            "marker": {
             "colorbar": {
              "outlinewidth": 0,
              "ticks": ""
             }
            },
            "type": "scattergeo"
           }
          ],
          "scattergl": [
           {
            "marker": {
             "colorbar": {
              "outlinewidth": 0,
              "ticks": ""
             }
            },
            "type": "scattergl"
           }
          ],
          "scattermap": [
           {
            "marker": {
             "colorbar": {
              "outlinewidth": 0,
              "ticks": ""
             }
            },
            "type": "scattermap"
           }
          ],
          "scattermapbox": [
           {
            "marker": {
             "colorbar": {
              "outlinewidth": 0,
              "ticks": ""
             }
            },
            "type": "scattermapbox"
           }
          ],
          "scatterpolar": [
           {
            "marker": {
             "colorbar": {
              "outlinewidth": 0,
              "ticks": ""
             }
            },
            "type": "scatterpolar"
           }
          ],
          "scatterpolargl": [
           {
            "marker": {
             "colorbar": {
              "outlinewidth": 0,
              "ticks": ""
             }
            },
            "type": "scatterpolargl"
           }
          ],
          "scatterternary": [
           {
            "marker": {
             "colorbar": {
              "outlinewidth": 0,
              "ticks": ""
             }
            },
            "type": "scatterternary"
           }
          ],
          "surface": [
           {
            "colorbar": {
             "outlinewidth": 0,
             "ticks": ""
            },
            "colorscale": [
             [
              0,
              "#0d0887"
             ],
             [
              0.1111111111111111,
              "#46039f"
             ],
             [
              0.2222222222222222,
              "#7201a8"
             ],
             [
              0.3333333333333333,
              "#9c179e"
             ],
             [
              0.4444444444444444,
              "#bd3786"
             ],
             [
              0.5555555555555556,
              "#d8576b"
             ],
             [
              0.6666666666666666,
              "#ed7953"
             ],
             [
              0.7777777777777778,
              "#fb9f3a"
             ],
             [
              0.8888888888888888,
              "#fdca26"
             ],
             [
              1,
              "#f0f921"
             ]
            ],
            "type": "surface"
           }
          ],
          "table": [
           {
            "cells": {
             "fill": {
              "color": "#EBF0F8"
             },
             "line": {
              "color": "white"
             }
            },
            "header": {
             "fill": {
              "color": "#C8D4E3"
             },
             "line": {
              "color": "white"
             }
            },
            "type": "table"
           }
          ]
         },
         "layout": {
          "annotationdefaults": {
           "arrowcolor": "#2a3f5f",
           "arrowhead": 0,
           "arrowwidth": 1
          },
          "autotypenumbers": "strict",
          "coloraxis": {
           "colorbar": {
            "outlinewidth": 0,
            "ticks": ""
           }
          },
          "colorscale": {
           "diverging": [
            [
             0,
             "#8e0152"
            ],
            [
             0.1,
             "#c51b7d"
            ],
            [
             0.2,
             "#de77ae"
            ],
            [
             0.3,
             "#f1b6da"
            ],
            [
             0.4,
             "#fde0ef"
            ],
            [
             0.5,
             "#f7f7f7"
            ],
            [
             0.6,
             "#e6f5d0"
            ],
            [
             0.7,
             "#b8e186"
            ],
            [
             0.8,
             "#7fbc41"
            ],
            [
             0.9,
             "#4d9221"
            ],
            [
             1,
             "#276419"
            ]
           ],
           "sequential": [
            [
             0,
             "#0d0887"
            ],
            [
             0.1111111111111111,
             "#46039f"
            ],
            [
             0.2222222222222222,
             "#7201a8"
            ],
            [
             0.3333333333333333,
             "#9c179e"
            ],
            [
             0.4444444444444444,
             "#bd3786"
            ],
            [
             0.5555555555555556,
             "#d8576b"
            ],
            [
             0.6666666666666666,
             "#ed7953"
            ],
            [
             0.7777777777777778,
             "#fb9f3a"
            ],
            [
             0.8888888888888888,
             "#fdca26"
            ],
            [
             1,
             "#f0f921"
            ]
           ],
           "sequentialminus": [
            [
             0,
             "#0d0887"
            ],
            [
             0.1111111111111111,
             "#46039f"
            ],
            [
             0.2222222222222222,
             "#7201a8"
            ],
            [
             0.3333333333333333,
             "#9c179e"
            ],
            [
             0.4444444444444444,
             "#bd3786"
            ],
            [
             0.5555555555555556,
             "#d8576b"
            ],
            [
             0.6666666666666666,
             "#ed7953"
            ],
            [
             0.7777777777777778,
             "#fb9f3a"
            ],
            [
             0.8888888888888888,
             "#fdca26"
            ],
            [
             1,
             "#f0f921"
            ]
           ]
          },
          "colorway": [
           "#636efa",
           "#EF553B",
           "#00cc96",
           "#ab63fa",
           "#FFA15A",
           "#19d3f3",
           "#FF6692",
           "#B6E880",
           "#FF97FF",
           "#FECB52"
          ],
          "font": {
           "color": "#2a3f5f"
          },
          "geo": {
           "bgcolor": "white",
           "lakecolor": "white",
           "landcolor": "#E5ECF6",
           "showlakes": true,
           "showland": true,
           "subunitcolor": "white"
          },
          "hoverlabel": {
           "align": "left"
          },
          "hovermode": "closest",
          "mapbox": {
           "style": "light"
          },
          "paper_bgcolor": "white",
          "plot_bgcolor": "#E5ECF6",
          "polar": {
           "angularaxis": {
            "gridcolor": "white",
            "linecolor": "white",
            "ticks": ""
           },
           "bgcolor": "#E5ECF6",
           "radialaxis": {
            "gridcolor": "white",
            "linecolor": "white",
            "ticks": ""
           }
          },
          "scene": {
           "xaxis": {
            "backgroundcolor": "#E5ECF6",
            "gridcolor": "white",
            "gridwidth": 2,
            "linecolor": "white",
            "showbackground": true,
            "ticks": "",
            "zerolinecolor": "white"
           },
           "yaxis": {
            "backgroundcolor": "#E5ECF6",
            "gridcolor": "white",
            "gridwidth": 2,
            "linecolor": "white",
            "showbackground": true,
            "ticks": "",
            "zerolinecolor": "white"
           },
           "zaxis": {
            "backgroundcolor": "#E5ECF6",
            "gridcolor": "white",
            "gridwidth": 2,
            "linecolor": "white",
            "showbackground": true,
            "ticks": "",
            "zerolinecolor": "white"
           }
          },
          "shapedefaults": {
           "line": {
            "color": "#2a3f5f"
           }
          },
          "ternary": {
           "aaxis": {
            "gridcolor": "white",
            "linecolor": "white",
            "ticks": ""
           },
           "baxis": {
            "gridcolor": "white",
            "linecolor": "white",
            "ticks": ""
           },
           "bgcolor": "#E5ECF6",
           "caxis": {
            "gridcolor": "white",
            "linecolor": "white",
            "ticks": ""
           }
          },
          "title": {
           "x": 0.05
          },
          "xaxis": {
           "automargin": true,
           "gridcolor": "white",
           "linecolor": "white",
           "ticks": "",
           "title": {
            "standoff": 15
           },
           "zerolinecolor": "white",
           "zerolinewidth": 2
          },
          "yaxis": {
           "automargin": true,
           "gridcolor": "white",
           "linecolor": "white",
           "ticks": "",
           "title": {
            "standoff": 15
           },
           "zerolinecolor": "white",
           "zerolinewidth": 2
          }
         }
        },
        "title": {
         "font": {
          "size": 16
         },
         "text": "Cluster Visualization and Comparison",
         "x": 0.5,
         "xanchor": "center"
        },
        "width": 1200,
        "xaxis": {
         "anchor": "y",
         "domain": [
          0,
          0.45
         ],
         "gridcolor": "grey",
         "title": {
          "text": "PCA Component 1"
         },
         "zerolinecolor": "grey"
        },
        "xaxis2": {
         "anchor": "y2",
         "domain": [
          0.55,
          1
         ],
         "gridcolor": "grey",
         "title": {
          "text": "PCA Component 1"
         },
         "zerolinecolor": "grey"
        },
        "xaxis3": {
         "anchor": "y3",
         "domain": [
          0,
          0.45
         ],
         "gridcolor": "grey",
         "title": {
          "text": "PCA Component 1"
         },
         "zerolinecolor": "grey"
        },
        "xaxis4": {
         "anchor": "y4",
         "domain": [
          0.55,
          1
         ],
         "gridcolor": "grey",
         "title": {
          "text": "Metrics"
         },
         "zerolinecolor": "grey"
        },
        "yaxis": {
         "anchor": "x",
         "domain": [
          0.56,
          1
         ],
         "gridcolor": "grey",
         "title": {
          "text": "PCA Component 2"
         },
         "zerolinecolor": "grey"
        },
        "yaxis2": {
         "anchor": "x2",
         "domain": [
          0.56,
          1
         ],
         "gridcolor": "grey",
         "title": {
          "text": "PCA Component 2"
         },
         "zerolinecolor": "grey"
        },
        "yaxis3": {
         "anchor": "x3",
         "domain": [
          0,
          0.44
         ],
         "gridcolor": "grey",
         "title": {
          "text": "PCA Component 2"
         },
         "zerolinecolor": "grey"
        },
        "yaxis4": {
         "anchor": "x4",
         "domain": [
          0,
          0.44
         ],
         "gridcolor": "grey",
         "range": [
          0,
          1
         ],
         "title": {
          "text": "Score"
         },
         "zerolinecolor": "grey"
        }
       }
      }
     },
     "metadata": {},
     "output_type": "display_data"
    },
    {
     "name": "stdout",
     "output_type": "stream",
     "text": [
      "First 10 samples:\n"
     ]
    },
    {
     "data": {
      "text/html": [
       "<div>\n",
       "<style scoped>\n",
       "    .dataframe tbody tr th:only-of-type {\n",
       "        vertical-align: middle;\n",
       "    }\n",
       "\n",
       "    .dataframe tbody tr th {\n",
       "        vertical-align: top;\n",
       "    }\n",
       "\n",
       "    .dataframe thead th {\n",
       "        text-align: right;\n",
       "    }\n",
       "</style>\n",
       "<table border=\"1\" class=\"dataframe\">\n",
       "  <thead>\n",
       "    <tr style=\"text-align: right;\">\n",
       "      <th></th>\n",
       "      <th>Actual</th>\n",
       "      <th>KMeans</th>\n",
       "      <th>Hierarchical</th>\n",
       "    </tr>\n",
       "  </thead>\n",
       "  <tbody>\n",
       "    <tr>\n",
       "      <th>0</th>\n",
       "      <td>0</td>\n",
       "      <td>1</td>\n",
       "      <td>1</td>\n",
       "    </tr>\n",
       "    <tr>\n",
       "      <th>1</th>\n",
       "      <td>1</td>\n",
       "      <td>1</td>\n",
       "      <td>1</td>\n",
       "    </tr>\n",
       "    <tr>\n",
       "      <th>2</th>\n",
       "      <td>1</td>\n",
       "      <td>1</td>\n",
       "      <td>1</td>\n",
       "    </tr>\n",
       "    <tr>\n",
       "      <th>3</th>\n",
       "      <td>0</td>\n",
       "      <td>0</td>\n",
       "      <td>1</td>\n",
       "    </tr>\n",
       "    <tr>\n",
       "      <th>4</th>\n",
       "      <td>0</td>\n",
       "      <td>0</td>\n",
       "      <td>0</td>\n",
       "    </tr>\n",
       "    <tr>\n",
       "      <th>5</th>\n",
       "      <td>0</td>\n",
       "      <td>0</td>\n",
       "      <td>0</td>\n",
       "    </tr>\n",
       "    <tr>\n",
       "      <th>6</th>\n",
       "      <td>1</td>\n",
       "      <td>1</td>\n",
       "      <td>1</td>\n",
       "    </tr>\n",
       "    <tr>\n",
       "      <th>7</th>\n",
       "      <td>0</td>\n",
       "      <td>0</td>\n",
       "      <td>1</td>\n",
       "    </tr>\n",
       "    <tr>\n",
       "      <th>8</th>\n",
       "      <td>1</td>\n",
       "      <td>1</td>\n",
       "      <td>1</td>\n",
       "    </tr>\n",
       "    <tr>\n",
       "      <th>9</th>\n",
       "      <td>1</td>\n",
       "      <td>1</td>\n",
       "      <td>1</td>\n",
       "    </tr>\n",
       "  </tbody>\n",
       "</table>\n",
       "</div>"
      ],
      "text/plain": [
       "   Actual  KMeans  Hierarchical\n",
       "0       0       1             1\n",
       "1       1       1             1\n",
       "2       1       1             1\n",
       "3       0       0             1\n",
       "4       0       0             0\n",
       "5       0       0             0\n",
       "6       1       1             1\n",
       "7       0       0             1\n",
       "8       1       1             1\n",
       "9       1       1             1"
      ]
     },
     "metadata": {},
     "output_type": "display_data"
    },
    {
     "name": "stdout",
     "output_type": "stream",
     "text": [
      "\n",
      "K-Means vs Actual:\n"
     ]
    },
    {
     "data": {
      "text/html": [
       "<div>\n",
       "<style scoped>\n",
       "    .dataframe tbody tr th:only-of-type {\n",
       "        vertical-align: middle;\n",
       "    }\n",
       "\n",
       "    .dataframe tbody tr th {\n",
       "        vertical-align: top;\n",
       "    }\n",
       "\n",
       "    .dataframe thead th {\n",
       "        text-align: right;\n",
       "    }\n",
       "</style>\n",
       "<table border=\"1\" class=\"dataframe\">\n",
       "  <thead>\n",
       "    <tr style=\"text-align: right;\">\n",
       "      <th></th>\n",
       "      <th>Cluster 0</th>\n",
       "      <th>Cluster 1</th>\n",
       "    </tr>\n",
       "  </thead>\n",
       "  <tbody>\n",
       "    <tr>\n",
       "      <th>No Disease (0)</th>\n",
       "      <td>133</td>\n",
       "      <td>31</td>\n",
       "    </tr>\n",
       "    <tr>\n",
       "      <th>Disease (1)</th>\n",
       "      <td>29</td>\n",
       "      <td>110</td>\n",
       "    </tr>\n",
       "  </tbody>\n",
       "</table>\n",
       "</div>"
      ],
      "text/plain": [
       "                Cluster 0  Cluster 1\n",
       "No Disease (0)        133         31\n",
       "Disease (1)            29        110"
      ]
     },
     "metadata": {},
     "output_type": "display_data"
    },
    {
     "name": "stdout",
     "output_type": "stream",
     "text": [
      "\n",
      "Hierarchical vs Actual:\n"
     ]
    },
    {
     "data": {
      "text/html": [
       "<div>\n",
       "<style scoped>\n",
       "    .dataframe tbody tr th:only-of-type {\n",
       "        vertical-align: middle;\n",
       "    }\n",
       "\n",
       "    .dataframe tbody tr th {\n",
       "        vertical-align: top;\n",
       "    }\n",
       "\n",
       "    .dataframe thead th {\n",
       "        text-align: right;\n",
       "    }\n",
       "</style>\n",
       "<table border=\"1\" class=\"dataframe\">\n",
       "  <thead>\n",
       "    <tr style=\"text-align: right;\">\n",
       "      <th></th>\n",
       "      <th>Cluster 0</th>\n",
       "      <th>Cluster 1</th>\n",
       "    </tr>\n",
       "  </thead>\n",
       "  <tbody>\n",
       "    <tr>\n",
       "      <th>No Disease (0)</th>\n",
       "      <td>109</td>\n",
       "      <td>55</td>\n",
       "    </tr>\n",
       "    <tr>\n",
       "      <th>Disease (1)</th>\n",
       "      <td>39</td>\n",
       "      <td>100</td>\n",
       "    </tr>\n",
       "  </tbody>\n",
       "</table>\n",
       "</div>"
      ],
      "text/plain": [
       "                Cluster 0  Cluster 1\n",
       "No Disease (0)        109         55\n",
       "Disease (1)            39        100"
      ]
     },
     "metadata": {},
     "output_type": "display_data"
    },
    {
     "name": "stdout",
     "output_type": "stream",
     "text": [
      "\n",
      "Cluster Alignment with Disease Status:\n"
     ]
    },
    {
     "data": {
      "text/html": [
       "<div>\n",
       "<style scoped>\n",
       "    .dataframe tbody tr th:only-of-type {\n",
       "        vertical-align: middle;\n",
       "    }\n",
       "\n",
       "    .dataframe tbody tr th {\n",
       "        vertical-align: top;\n",
       "    }\n",
       "\n",
       "    .dataframe thead th {\n",
       "        text-align: right;\n",
       "    }\n",
       "</style>\n",
       "<table border=\"1\" class=\"dataframe\">\n",
       "  <thead>\n",
       "    <tr style=\"text-align: right;\">\n",
       "      <th></th>\n",
       "      <th>Method</th>\n",
       "      <th>Alignment with Disease</th>\n",
       "    </tr>\n",
       "  </thead>\n",
       "  <tbody>\n",
       "    <tr>\n",
       "      <th>0</th>\n",
       "      <td>KMeans</td>\n",
       "      <td>80.2%</td>\n",
       "    </tr>\n",
       "    <tr>\n",
       "      <th>1</th>\n",
       "      <td>Hierarchical</td>\n",
       "      <td>69.0%</td>\n",
       "    </tr>\n",
       "  </tbody>\n",
       "</table>\n",
       "</div>"
      ],
      "text/plain": [
       "         Method Alignment with Disease\n",
       "0        KMeans                  80.2%\n",
       "1  Hierarchical                  69.0%"
      ]
     },
     "metadata": {},
     "output_type": "display_data"
    }
   ],
   "source": [
    "# Reduce dimensionality for visualization\n",
    "pca = PCA(n_components=2)\n",
    "X_pca = pca.fit_transform(X_scaled)\n",
    "\n",
    "# Fix cluster label alignment (swap if needed to match actual labels)\n",
    "def align_cluster_labels(true_labels, cluster_labels):\n",
    "    # Create a mapping to align clusters with true labels\n",
    "    crosstab = pd.crosstab(true_labels, cluster_labels)\n",
    "    \n",
    "    # Find which cluster has majority of disease cases\n",
    "    disease_cluster = crosstab.loc[1].idxmax() if 1 in crosstab.index else 0\n",
    "    \n",
    "    # Create mapping: if disease_cluster is 1, no swap needed; if 0, swap labels\n",
    "    if disease_cluster == 0:\n",
    "        # Swap labels: 0->1, 1->0\n",
    "        aligned_labels = np.where(cluster_labels == 0, 1, 0)\n",
    "    else:\n",
    "        aligned_labels = cluster_labels.copy()\n",
    "    \n",
    "    return aligned_labels\n",
    "\n",
    "# Align both clustering methods with actual labels\n",
    "kmeans_labels_aligned = align_cluster_labels(y, kmeans_labels)\n",
    "hierarchical_labels_aligned = align_cluster_labels(y, hierarchical_labels)\n",
    "\n",
    "# Create subplot figure (2 rows, 2 cols)\n",
    "fig = make_subplots(\n",
    "    rows=2, \n",
    "    cols=2,\n",
    "    subplot_titles=(\n",
    "        f\"K-Means Clustering (k={2})\",\n",
    "        f\"Hierarchical Clustering (k={2})\",\n",
    "        \"Actual Disease Labels\",\n",
    "        \"Comparison with True Labels\"\n",
    "    ),\n",
    "    vertical_spacing=0.12,\n",
    "    horizontal_spacing=0.1\n",
    ")\n",
    "\n",
    "# Define color mapping for consistent visualization\n",
    "color_map = {0: PRIMARY_COLOR, 1: SECONDARY_COLOR}\n",
    "\n",
    "# --- Plot 1: K-Means clusters ---\n",
    "fig.add_trace(\n",
    "    go.Scatter(\n",
    "        x=X_pca[:, 0],\n",
    "        y=X_pca[:, 1],\n",
    "        mode=\"markers\",\n",
    "        marker=dict(\n",
    "            color=[color_map[label] for label in kmeans_labels_aligned],\n",
    "            size=8,\n",
    "            opacity=0.8,\n",
    "            line=dict(width=1, color=EDGE_COLOR)\n",
    "        ),\n",
    "        name=\"K-Means Clusters\",\n",
    "        showlegend=False\n",
    "    ),\n",
    "    row=1, col=1\n",
    ")\n",
    "\n",
    "# --- Plot 2: Hierarchical clusters ---\n",
    "fig.add_trace(\n",
    "    go.Scatter(\n",
    "        x=X_pca[:, 0],\n",
    "        y=X_pca[:, 1],\n",
    "        mode=\"markers\",\n",
    "        marker=dict(\n",
    "            color=[color_map[label] for label in hierarchical_labels_aligned],\n",
    "            size=8,\n",
    "            opacity=0.8,\n",
    "            line=dict(width=1, color=EDGE_COLOR)\n",
    "        ),\n",
    "        name=\"Hierarchical Clusters\",\n",
    "        showlegend=False\n",
    "    ),\n",
    "    row=1, col=2\n",
    ")\n",
    "\n",
    "# --- Plot 3: Actual disease labels ---\n",
    "fig.add_trace(\n",
    "    go.Scatter(\n",
    "        x=X_pca[:, 0],\n",
    "        y=X_pca[:, 1],\n",
    "        mode=\"markers\",\n",
    "        marker=dict(\n",
    "            color=[color_map[label] for label in y],\n",
    "            size=8,\n",
    "            opacity=0.8,\n",
    "            line=dict(width=1, color=EDGE_COLOR)\n",
    "        ),\n",
    "        name=\"Actual Labels\",\n",
    "        showlegend=False\n",
    "    ),\n",
    "    row=2, col=1\n",
    ")\n",
    "\n",
    "# --- Plot 4: Comparison metrics ---\n",
    "metrics = ['Adjusted Rand Index', 'Normalized Mutual Info']\n",
    "kmeans_scores = [\n",
    "    adjusted_rand_score(y, kmeans_labels_aligned),\n",
    "    normalized_mutual_info_score(y, kmeans_labels_aligned)\n",
    "]\n",
    "hierarchical_scores = [\n",
    "    adjusted_rand_score(y, hierarchical_labels_aligned),\n",
    "    normalized_mutual_info_score(y, hierarchical_labels_aligned)\n",
    "]\n",
    "\n",
    "fig.add_trace(\n",
    "    go.Bar(\n",
    "        x=metrics,\n",
    "        y=kmeans_scores,\n",
    "        name='K-Means',\n",
    "        marker_color=PRIMARY_COLOR,\n",
    "        opacity=0.8\n",
    "    ),\n",
    "    row=2, col=2\n",
    ")\n",
    "\n",
    "fig.add_trace(\n",
    "    go.Bar(\n",
    "        x=metrics,\n",
    "        y=hierarchical_scores,\n",
    "        name='Hierarchical',\n",
    "        marker_color=SECONDARY_COLOR,\n",
    "        opacity=0.8\n",
    "    ),\n",
    "    row=2, col=2\n",
    ")\n",
    "\n",
    "# Add legend items separately with better positioning\n",
    "fig.add_trace(\n",
    "    go.Scatter(\n",
    "        x=[None], y=[None],\n",
    "        mode=\"markers\",\n",
    "        marker=dict(color=PRIMARY_COLOR, size=12, line=dict(width=1, color=EDGE_COLOR)),\n",
    "        name=\"No Disease (0)\",\n",
    "        showlegend=True\n",
    "    ),\n",
    "    row=1, col=1\n",
    ")\n",
    "\n",
    "fig.add_trace(\n",
    "    go.Scatter(\n",
    "        x=[None], y=[None],\n",
    "        mode=\"markers\",\n",
    "        marker=dict(color=SECONDARY_COLOR, size=12, line=dict(width=1, color=EDGE_COLOR)),\n",
    "        name=\"Disease (1)\",\n",
    "        showlegend=True\n",
    "    ),\n",
    "    row=1, col=1\n",
    ")\n",
    "\n",
    "# Layout\n",
    "fig.update_layout(\n",
    "    title_text=\"Cluster Visualization and Comparison\",\n",
    "    title_x=0.5,\n",
    "    title=dict(x=0.5, xanchor='center', font=dict(size=16)),\n",
    "    plot_bgcolor=BACKGROUND_COLOR,\n",
    "    paper_bgcolor=BACKGROUND_COLOR,\n",
    "    font=dict(color=GRID_TEXT_COLOR, size=12),\n",
    "    height=900,\n",
    "    width=1200,\n",
    "    showlegend=True,\n",
    "    legend=dict(\n",
    "        x=1.02,\n",
    "        y=0.5,\n",
    "        xanchor='left',\n",
    "        yanchor='middle',\n",
    "        bgcolor='rgba(255, 255, 255, 0)',  # Fully transparent\n",
    "        bordercolor='rgba(255, 255, 255, 0)',  # Fully transparent border\n",
    "        borderwidth=0\n",
    "    )\n",
    ")\n",
    "\n",
    "# Update axes labels with grey grid\n",
    "fig.update_xaxes(title_text=\"PCA Component 1\", row=1, col=1, gridcolor='grey', zerolinecolor='grey')\n",
    "fig.update_yaxes(title_text=\"PCA Component 2\", row=1, col=1, gridcolor='grey', zerolinecolor='grey')\n",
    "fig.update_xaxes(title_text=\"PCA Component 1\", row=1, col=2, gridcolor='grey', zerolinecolor='grey')\n",
    "fig.update_yaxes(title_text=\"PCA Component 2\", row=1, col=2, gridcolor='grey', zerolinecolor='grey')\n",
    "fig.update_xaxes(title_text=\"PCA Component 1\", row=2, col=1, gridcolor='grey', zerolinecolor='grey')\n",
    "fig.update_yaxes(title_text=\"PCA Component 2\", row=2, col=1, gridcolor='grey', zerolinecolor='grey')\n",
    "fig.update_xaxes(title_text=\"Metrics\", row=2, col=2, gridcolor='grey', zerolinecolor='grey')\n",
    "fig.update_yaxes(title_text=\"Score\", row=2, col=2, gridcolor='grey', zerolinecolor='grey', range=[0, 1])\n",
    "\n",
    "fig.show()\n",
    "\n",
    "# Create comparison DataFrame with aligned labels\n",
    "comparison_aligned = pd.DataFrame({\n",
    "    \"Actual\": y.reset_index(drop=True),\n",
    "    \"KMeans\": kmeans_labels_aligned,\n",
    "    \"Hierarchical\": hierarchical_labels_aligned\n",
    "})\n",
    "\n",
    "print(\"First 10 samples:\")\n",
    "display(comparison_aligned.head(10))\n",
    "\n",
    "# Crosstab for evaluation with proper DataFrame formatting\n",
    "print(\"\\nK-Means vs Actual:\")\n",
    "kmeans_crosstab = pd.crosstab(comparison_aligned[\"Actual\"], comparison_aligned[\"KMeans\"])\n",
    "kmeans_crosstab.columns = [f\"Cluster {col}\" for col in kmeans_crosstab.columns]\n",
    "kmeans_crosstab.index = [\"No Disease (0)\", \"Disease (1)\"]\n",
    "display(kmeans_crosstab)\n",
    "\n",
    "print(\"\\nHierarchical vs Actual:\")\n",
    "hc_crosstab = pd.crosstab(comparison_aligned[\"Actual\"], comparison_aligned[\"Hierarchical\"])\n",
    "hc_crosstab.columns = [f\"Cluster {col}\" for col in hc_crosstab.columns]\n",
    "hc_crosstab.index = [\"No Disease (0)\", \"Disease (1)\"]\n",
    "display(hc_crosstab)\n",
    "\n",
    "# Calculate alignment percentages\n",
    "print(\"\\nCluster Alignment with Disease Status:\")\n",
    "alignment_data = []\n",
    "for method in [\"KMeans\", \"Hierarchical\"]:\n",
    "    crosstab = pd.crosstab(comparison_aligned[\"Actual\"], comparison_aligned[method])\n",
    "    total_aligned = crosstab.iloc[0, 0] + crosstab.iloc[1, 1]  # Sum of diagonal\n",
    "    alignment_percent = (total_aligned / len(comparison_aligned)) * 100\n",
    "    alignment_data.append([method, f\"{alignment_percent:.1f}%\"])\n",
    "\n",
    "alignment_df = pd.DataFrame(alignment_data, columns=[\"Method\", \"Alignment with Disease\"])\n",
    "display(alignment_df)"
   ]
  },
  {
   "cell_type": "markdown",
   "id": "275338ed",
   "metadata": {},
   "source": [
    "#### **Key Metrics and Insights**"
   ]
  },
  {
   "cell_type": "code",
   "execution_count": 98,
   "id": "249757e5",
   "metadata": {},
   "outputs": [
    {
     "name": "stdout",
     "output_type": "stream",
     "text": [
      "Clustering Performance Metrics:\n",
      "==================================================\n",
      "Metric                         K-Means    Hierarchical\n",
      "--------------------------------------------------\n",
      "Silhouette Score               0.1453     0.1013      \n",
      "Adjusted Rand Index (ARI)      0.3627     0.1412      \n",
      "Normalized Mutual Info (NMI)   0.2802     0.1090      \n",
      "==================================================\n",
      "\n",
      "Interpretation Guidelines:\n",
      "- Silhouette Score: -1 to 1 (higher = better separation)\n",
      "- ARI: -1 to 1 (1 = perfect match, 0 = random)\n",
      "- NMI: 0 to 1 (1 = perfect correlation)\n",
      "\n",
      "Cluster Analysis:\n",
      "==================================================\n",
      "Cluster                   Samples    Disease %    Interpretation\n",
      "--------------------------------------------------\n",
      "K-Means Cluster 0         141        78.0        % Mostly Diseased\n",
      "K-Means Cluster 1         162        17.9        % Mostly Healthy\n",
      "Hierarchical Cluster 0    155        64.5        % Mixed\n",
      "Hierarchical Cluster 1    148        26.4        % Mostly Healthy\n",
      "==================================================\n",
      "\n",
      "Key Insights:\n",
      "- K-Means shows better cluster separation (Silhouette)\n",
      "- K-Means has better alignment with true labels (ARI)\n",
      "- K-Means has better information sharing with true labels (NMI)\n",
      "- Clusters show meaningful alignment with disease status\n"
     ]
    }
   ],
   "source": [
    "# Calculate evaluation metrics\n",
    "kmeans_silhouette = silhouette_score(X_scaled, kmeans_labels)\n",
    "hc_silhouette = silhouette_score(X_scaled, hierarchical_labels)\n",
    "kmeans_ari = adjusted_rand_score(y, kmeans_labels)\n",
    "hc_ari = adjusted_rand_score(y, hierarchical_labels)\n",
    "kmeans_nmi = normalized_mutual_info_score(y, kmeans_labels)\n",
    "hc_nmi = normalized_mutual_info_score(y, hierarchical_labels)\n",
    "\n",
    "print(\"Clustering Performance Metrics:\")\n",
    "print(\"=\" * 50)\n",
    "print(f\"{'Metric':<30} {'K-Means':<10} {'Hierarchical':<12}\")\n",
    "print(\"-\" * 50)\n",
    "print(f\"{'Silhouette Score':<30} {kmeans_silhouette:<10.4f} {hc_silhouette:<12.4f}\")\n",
    "print(f\"{'Adjusted Rand Index (ARI)':<30} {kmeans_ari:<10.4f} {hc_ari:<12.4f}\")\n",
    "print(f\"{'Normalized Mutual Info (NMI)':<30} {kmeans_nmi:<10.4f} {hc_nmi:<12.4f}\")\n",
    "print(\"=\" * 50)\n",
    "\n",
    "# Interpretation guidelines\n",
    "print(\"\\nInterpretation Guidelines:\")\n",
    "print(\"- Silhouette Score: -1 to 1 (higher = better separation)\")\n",
    "print(\"- ARI: -1 to 1 (1 = perfect match, 0 = random)\")\n",
    "print(\"- NMI: 0 to 1 (1 = perfect correlation)\")\n",
    "\n",
    "# Analyze cluster characteristics with better formatting\n",
    "print(\"\\nCluster Analysis:\")\n",
    "print(\"=\" * 50)\n",
    "print(f\"{'Cluster':<25} {'Samples':<10} {'Disease %':<12} {'Interpretation'}\")\n",
    "print(\"-\" * 50)\n",
    "\n",
    "for i in range(2):\n",
    "    cluster_indices = np.where(kmeans_labels == i)[0]\n",
    "    disease_count = y.iloc[cluster_indices].sum()\n",
    "    disease_percentage = (disease_count / len(cluster_indices)) * 100\n",
    "    interpretation = \"Mostly Healthy\" if disease_percentage < 30 else \"Mostly Diseased\" if disease_percentage > 70 else \"Mixed\"\n",
    "    print(f\"{'K-Means Cluster ' + str(i):<25} {len(cluster_indices):<10} {disease_percentage:<12.1f}% {interpretation}\")\n",
    "\n",
    "for i in range(2):\n",
    "    cluster_indices = np.where(hierarchical_labels == i)[0]\n",
    "    disease_count = y.iloc[cluster_indices].sum()\n",
    "    disease_percentage = (disease_count / len(cluster_indices)) * 100\n",
    "    interpretation = \"Mostly Healthy\" if disease_percentage < 30 else \"Mostly Diseased\" if disease_percentage > 70 else \"Mixed\"\n",
    "    print(f\"{'Hierarchical Cluster ' + str(i):<25} {len(cluster_indices):<10} {disease_percentage:<12.1f}% {interpretation}\")\n",
    "\n",
    "print(\"=\" * 50)\n",
    "\n",
    "# Additional insights\n",
    "print(\"\\nKey Insights:\")\n",
    "print(f\"- K-Means shows {'better' if kmeans_silhouette > hc_silhouette else 'worse'} cluster separation (Silhouette)\")\n",
    "print(f\"- K-Means has {'better' if kmeans_ari > hc_ari else 'worse'} alignment with true labels (ARI)\")\n",
    "print(f\"- K-Means has {'better' if kmeans_nmi > hc_nmi else 'worse'} information sharing with true labels (NMI)\")\n",
    "\n",
    "# Check if clusters are meaningful\n",
    "if kmeans_ari > 0.3 or hc_ari > 0.3:\n",
    "    print(\"- Clusters show meaningful alignment with disease status\")\n",
    "elif kmeans_ari > 0.1 or hc_ari > 0.1:\n",
    "    print(\"- Clusters show weak but detectable alignment with disease status\")\n",
    "else:\n",
    "    print(\"- Clusters show minimal alignment with disease status (close to random)\")"
   ]
  }
 ],
 "metadata": {
  "kernelspec": {
   "display_name": "Python 3",
   "language": "python",
   "name": "python3"
  },
  "language_info": {
   "codemirror_mode": {
    "name": "ipython",
    "version": 3
   },
   "file_extension": ".py",
   "mimetype": "text/x-python",
   "name": "python",
   "nbconvert_exporter": "python",
   "pygments_lexer": "ipython3",
   "version": "3.12.8"
  }
 },
 "nbformat": 4,
 "nbformat_minor": 5
}
